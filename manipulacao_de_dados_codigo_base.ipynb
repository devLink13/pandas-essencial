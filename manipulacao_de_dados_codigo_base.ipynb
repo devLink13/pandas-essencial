{
 "cells": [
  {
   "cell_type": "markdown",
   "id": "changing-combine",
   "metadata": {
    "slideshow": {
     "slide_type": "fragment"
    }
   },
   "source": [
    "## **Pandas Essencial**\n",
    "**Prof. Dr. Samuel Martins (@hisamuka @xavecoding)** <br/>\n",
    "xavecoding: https://youtube.com/c/xavecoding <br/>\n",
    "\n",
    "Neste tutorial, vamos aprender o essencial da biblioteca _Pandas_ para manipulação de dados.<br/><br/>\n",
    "\n",
    "<a rel=\"license\" href=\"http://creativecommons.org/licenses/by-nc-sa/4.0/\"><img alt=\"Creative Commons License\" style=\"border-width:0\" src=\"https://i.creativecommons.org/l/by-nc-sa/4.0/88x31.png\" /></a><br />This work is licensed under a <a rel=\"license\" href=\"http://creativecommons.org/licenses/by-nc-sa/4.0/\">Creative Commons Attribution-NonCommercial-ShareAlike 4.0 International License</a>."
   ]
  },
  {
   "cell_type": "markdown",
   "id": "innovative-honolulu",
   "metadata": {},
   "source": [
    "### Pacotes usados neste Notebook"
   ]
  },
  {
   "cell_type": "code",
   "execution_count": 1,
   "id": "backed-twenty",
   "metadata": {},
   "outputs": [],
   "source": [
    "# pacotes usados neste notebook\n",
    "import pandas as pd"
   ]
  },
  {
   "cell_type": "markdown",
   "id": "tracked-shakespeare",
   "metadata": {},
   "source": [
    "<h1>Manipulação de Dados com Pandas</h1><hr/>"
   ]
  },
  {
   "cell_type": "markdown",
   "id": "federal-vinyl",
   "metadata": {},
   "source": [
    "<h2>1. Manipulação Básica de Datasets</h2>\n",
    "<hr/>"
   ]
  },
  {
   "cell_type": "markdown",
   "id": "optimum-season",
   "metadata": {},
   "source": [
    "**Dataset**: Gas Prices in Brazil: https://www.kaggle.com/matheusfreitag/gas-prices-in-brazil <br/>\n",
    "\n",
    "Este dataset contém os **registros dos preços médios semanais dos combustíveis do Brasil entre os anos de 2004 e 2019**. <br/>\n",
    "Cada *amostra (registro/linha)* consiste em um registro de preço aferido para um dado tipo de combustível em uma dada localidade do Brasil. <br/>\n",
    "Alguns dos principais *atributos* (colunas) do dataset são: 'ESTADO', 'PRODUTO', 'NÚMERO DE POSTOS PESQUISADOS', 'PREÇO MÉDIO REVENDA'.\n",
    "\n",
    "\n",
    "\\* O arquivo disponibilizado no Kaggle está no formato *tsv*. Embora o _pandas_ consiga abrí-lo normalmente, convertemos tal arquivo para o formato *CSV*, que é um dos formatos mais utilizados, e mudamos seu separado para ';' apenas para mostrar algumas opções da função de carregamento."
   ]
  },
  {
   "cell_type": "markdown",
   "id": "aggregate-provision",
   "metadata": {},
   "source": [
    "### 1.1. Importando o Dataset\n",
    "Para carregar um dataset no formato csv, basta utilizar a função `read_csv` do pandas. Por padrão, ela considera _','_ como separador."
   ]
  },
  {
   "cell_type": "code",
   "execution_count": 96,
   "id": "medieval-strain",
   "metadata": {},
   "outputs": [],
   "source": [
    "dataframe = pd.read_csv('./datasets/GasPricesinBrazil_2004-2019.csv')"
   ]
  },
  {
   "cell_type": "code",
   "execution_count": null,
   "id": "sorted-martin",
   "metadata": {},
   "outputs": [],
   "source": [
    "dataframe"
   ]
  },
  {
   "cell_type": "markdown",
   "id": "accurate-pension",
   "metadata": {},
   "source": [
    "O dataset não foi carregado corretamente pois o separador utilizado seu arquivo CSV era ';' e não a ','. <br/>\n",
    "Vamos então carregá-lo corretamente:"
   ]
  },
  {
   "cell_type": "code",
   "execution_count": 98,
   "id": "daily-press",
   "metadata": {},
   "outputs": [],
   "source": [
    "dataframe = pd.read_csv('./datasets/GasPricesinBrazil_2004-2019.csv', sep=';')"
   ]
  },
  {
   "cell_type": "code",
   "execution_count": null,
   "id": "quiet-fusion",
   "metadata": {},
   "outputs": [],
   "source": [
    "dataframe"
   ]
  },
  {
   "cell_type": "markdown",
   "id": "greater-harvest",
   "metadata": {},
   "source": [
    "### 1.2. Exibindo as primeiras linhas do Dataset\n",
    "A função `.head()` exibe as 5 primeiras linhas do dataset/tabela/Data Frame."
   ]
  },
  {
   "cell_type": "code",
   "execution_count": null,
   "id": "continued-isaac",
   "metadata": {},
   "outputs": [],
   "source": [
    "dataframe.head()"
   ]
  },
  {
   "cell_type": "code",
   "execution_count": null,
   "id": "selective-danish",
   "metadata": {},
   "outputs": [],
   "source": [
    "dataframe.head(12)"
   ]
  },
  {
   "cell_type": "markdown",
   "id": "naval-relation",
   "metadata": {},
   "source": [
    "### 1.3 Informações do Dataset e Elementos Chave"
   ]
  },
  {
   "cell_type": "markdown",
   "id": "southern-collaboration",
   "metadata": {},
   "source": [
    "### 1.3.1 Informações gerais sobre o Dataset"
   ]
  },
  {
   "cell_type": "code",
   "execution_count": null,
   "id": "abstract-component",
   "metadata": {},
   "outputs": [],
   "source": [
    "dataframe.info()"
   ]
  },
  {
   "cell_type": "markdown",
   "id": "expressed-amber",
   "metadata": {},
   "source": [
    "A primeira coluna da tabela, chamada _'Unnamed: 0'_, parece não significar nada. Na verdade, ela parece ser os **índices** da tabela, que foram salvos como uma _coluna_.<br/>\n",
    "Veremos jajá como **remover tal coluna**.\n",
    "\n",
    "Outro ponto é que, aparentemente, nenhum atributo/coluna possui valores nulos (_null_), uma vez que o número de registros do dataframe e os números de valores _non-null_ é de **106823**. <br/>\n",
    "Mas, veremos que não é bem assim para esse caso."
   ]
  },
  {
   "cell_type": "markdown",
   "id": "nasty-singing",
   "metadata": {},
   "source": [
    "### 1.3.2 Data Frame\n",
    "Todo dataset carregado (dados estruturados) é um `Data Frame`: 'Tabela' bi-dimensional, de tamanho mutável, com dados potencialmente heterogêneos. <br/>"
   ]
  },
  {
   "cell_type": "code",
   "execution_count": null,
   "id": "micro-progress",
   "metadata": {},
   "outputs": [],
   "source": [
    "type(dataframe)"
   ]
  },
  {
   "cell_type": "markdown",
   "id": "educated-fourth",
   "metadata": {},
   "source": [
    "Podemos acessar as **dimensões do Data Frame** (número de linhas x número de colunas) utilizando o atributo `.shape` do Data Frame."
   ]
  },
  {
   "cell_type": "code",
   "execution_count": null,
   "id": "detected-prediction",
   "metadata": {},
   "outputs": [],
   "source": [
    "dataframe.shape"
   ]
  },
  {
   "cell_type": "code",
   "execution_count": null,
   "id": "fallen-distance",
   "metadata": {},
   "outputs": [],
   "source": [
    "print(f'o dataframe possui {dataframe.shape[0]} linhas e {dataframe.shape[1]} colunas')\n"
   ]
  },
  {
   "cell_type": "markdown",
   "id": "binary-sussex",
   "metadata": {},
   "source": [
    "#### **Criando um DataFrame**\n",
    "\n",
    "Podemos criar um DataFrame a partir de um _dicionário_, onde cada **chave** possui uma **lista de elementos de igual tamanho**.<br/>\n",
    "As **chaves** representam as **colunas** e **cada um dos valores de sua lista** representa o **valor da linha** correspondente para aquela coluna."
   ]
  },
  {
   "cell_type": "code",
   "execution_count": 106,
   "id": "beneficial-passport",
   "metadata": {},
   "outputs": [],
   "source": [
    "alunos_df = pd.DataFrame({\n",
    "    'nome': ['Luke Skywalker', 'Yoda', 'Palpatine'],\n",
    "    'idade': [16, 1000, 70],\n",
    "    'peso': [70, 15, 60],\n",
    "    'eh jedi': [True, True, False]  # o nome das colunas podem ter espaços\n",
    "})\n",
    "\n",
    "\n",
    "tensoes = pd.DataFrame({\n",
    "    'tensao A' : [220, 225, 230, 220, 220.5],\n",
    "    'tensao B' : [220, 220, 220, 220, 220],\n",
    "    'tensao C' : [220, 220, 220, 220, 220],\n",
    "    'medias das tensoes' : [220, 220, 220, 220, 220]\n",
    "})"
   ]
  },
  {
   "cell_type": "code",
   "execution_count": null,
   "id": "great-relief",
   "metadata": {},
   "outputs": [],
   "source": [
    "tensoes"
   ]
  },
  {
   "cell_type": "code",
   "execution_count": null,
   "id": "67508296",
   "metadata": {},
   "outputs": [],
   "source": [
    "alunos_df"
   ]
  },
  {
   "cell_type": "code",
   "execution_count": null,
   "id": "f155a053",
   "metadata": {},
   "outputs": [],
   "source": [
    "tensoes.info()"
   ]
  },
  {
   "cell_type": "code",
   "execution_count": null,
   "id": "7900d3d3",
   "metadata": {},
   "outputs": [],
   "source": [
    "tensoes.shape"
   ]
  },
  {
   "cell_type": "markdown",
   "id": "elegant-profit",
   "metadata": {},
   "source": [
    "#### **VEJA MAIS**\n",
    "Criando um Data Frame a partir de um dicionário: https://www.geeksforgeeks.org/how-to-create-dataframe-from-dictionary-in-python-pandas/"
   ]
  },
  {
   "cell_type": "markdown",
   "id": "laden-trance",
   "metadata": {},
   "source": [
    "#### **Renomeando as colunas de um DataFrame**\n",
    "**===>** O método `DataFrame.columns` retorna uma \";lista\" com os **nomes de todas as colunas** do data frame."
   ]
  },
  {
   "cell_type": "code",
   "execution_count": null,
   "id": "impaired-spain",
   "metadata": {},
   "outputs": [],
   "source": [
    "tensoes.columns"
   ]
  },
  {
   "cell_type": "code",
   "execution_count": null,
   "id": "16a996f2",
   "metadata": {},
   "outputs": [],
   "source": [
    "alunos_df.columns"
   ]
  },
  {
   "cell_type": "code",
   "execution_count": null,
   "id": "detected-ceramic",
   "metadata": {},
   "outputs": [],
   "source": [
    "type(tensoes.columns)"
   ]
  },
  {
   "cell_type": "code",
   "execution_count": null,
   "id": "conditional-password",
   "metadata": {},
   "outputs": [],
   "source": [
    "list(tensoes.columns)"
   ]
  },
  {
   "cell_type": "markdown",
   "id": "geographic-wages",
   "metadata": {},
   "source": [
    "<br/>\n",
    "\n",
    "**===>** Para **renomear colunas** do data frame, utilize o método `DataFrame.rename`, que retorna uma _cópia_ do data frame com as as colunas renomeadas:"
   ]
  },
  {
   "cell_type": "code",
   "execution_count": 115,
   "id": "adopted-charlotte",
   "metadata": {},
   "outputs": [],
   "source": [
    "# renomeia as colunas e gera uma cópia do dataframe\n",
    "tensoes_rename = tensoes.rename(columns=({\n",
    "    'tensao A': 'TENSAO A',\n",
    "    'medias das tensoes' : 'MEDIAS'\n",
    "}))"
   ]
  },
  {
   "cell_type": "code",
   "execution_count": null,
   "id": "infinite-christian",
   "metadata": {},
   "outputs": [],
   "source": [
    "tensoes"
   ]
  },
  {
   "cell_type": "code",
   "execution_count": null,
   "id": "a9a8ec5a",
   "metadata": {},
   "outputs": [],
   "source": [
    "tensoes_rename "
   ]
  },
  {
   "cell_type": "code",
   "execution_count": null,
   "id": "b2d1506c",
   "metadata": {},
   "outputs": [],
   "source": [
    "type(tensoes_rename)"
   ]
  },
  {
   "cell_type": "code",
   "execution_count": 119,
   "id": "violent-inspector",
   "metadata": {},
   "outputs": [],
   "source": [
    "# renomea o próprio dataframe, aqui não será gerada uma cópia do dataframe\n",
    "tensoes.rename(columns=({\n",
    "    'tensao A': 'TENSAO A',\n",
    "    'medias das tensoes' : 'MEDIAS'\n",
    "}), inplace= True)"
   ]
  },
  {
   "cell_type": "code",
   "execution_count": null,
   "id": "homeless-sound",
   "metadata": {},
   "outputs": [],
   "source": [
    "tensoes"
   ]
  },
  {
   "cell_type": "markdown",
   "id": "personalized-belize",
   "metadata": {},
   "source": [
    "Para renomear o _próprio_ data frame em questão, utilize o parâmetro `inplace=True`:"
   ]
  },
  {
   "cell_type": "code",
   "execution_count": 121,
   "id": "nonprofit-missouri",
   "metadata": {},
   "outputs": [],
   "source": [
    "# renomea o próprio dataframe\n",
    "tensoes.rename(columns=({\n",
    "    'tensao A': 'TENSAO A',\n",
    "    'medias das tensoes' : 'MEDIAS'\n",
    "}), inplace= True)"
   ]
  },
  {
   "cell_type": "code",
   "execution_count": null,
   "id": "nervous-placement",
   "metadata": {},
   "outputs": [],
   "source": [
    "tensoes"
   ]
  },
  {
   "cell_type": "markdown",
   "id": "prompt-childhood",
   "metadata": {},
   "source": [
    "<br/>\n",
    "\n",
    "**===>** Uma outra forma de **renomear todas as colunas** de um data frame é passar uma _lista_ com os novos nomes das colunas para o atributo `DataFrame.columns`:"
   ]
  },
  {
   "cell_type": "code",
   "execution_count": null,
   "id": "bright-procurement",
   "metadata": {},
   "outputs": [],
   "source": [
    "tensoes.columns"
   ]
  },
  {
   "cell_type": "code",
   "execution_count": 124,
   "id": "operational-authority",
   "metadata": {},
   "outputs": [],
   "source": [
    "tensoes.columns = ['TENSÃO A', 'TENSÃO B', 'TENSÃO C', 'MÉDIAS']"
   ]
  },
  {
   "cell_type": "code",
   "execution_count": null,
   "id": "authorized-indicator",
   "metadata": {},
   "outputs": [],
   "source": [
    "tensoes"
   ]
  },
  {
   "cell_type": "markdown",
   "id": "lonely-sister",
   "metadata": {},
   "source": [
    "### 1.3.3 Series -> LINHAS E COLUNAS COLETADAS DE UM DATAFRAME SÃO SERIES"
   ]
  },
  {
   "cell_type": "markdown",
   "id": "cheap-dressing",
   "metadata": {},
   "source": [
    "Array uni-dimensional com os dados e rótulos de um eixo.\n",
    "\n",
    "Series são um tipo de dado no pandas que podem ser tanto a seleção de um registro como coluna ou como linha, portanto podemos retirar uma series usando os seguintes artificios:\n",
    "\n",
    "- coluna:\n",
    "    * dataframe['ESTADO']\n",
    "    * datafra.ESTADO\n",
    "\n",
    "- linha:\n",
    "    * dataframe.iloc[1]\n"
   ]
  },
  {
   "cell_type": "code",
   "execution_count": null,
   "id": "bacterial-country",
   "metadata": {},
   "outputs": [],
   "source": [
    "dataframe.head()"
   ]
  },
  {
   "cell_type": "code",
   "execution_count": null,
   "id": "incorrect-moment",
   "metadata": {},
   "outputs": [],
   "source": [
    "# SELECIONAR UMA SERIES (UMA COLUNA INTEIRA)\n",
    "dataframe['ESTADO']"
   ]
  },
  {
   "cell_type": "code",
   "execution_count": null,
   "id": "conscious-fountain",
   "metadata": {},
   "outputs": [],
   "source": [
    "# esta forma de acesso só funciona para colunas com nomes sem espaço acento ou caracter especial\n",
    "dataframe.ESTADO"
   ]
  },
  {
   "cell_type": "code",
   "execution_count": null,
   "id": "direct-convenience",
   "metadata": {},
   "outputs": [],
   "source": [
    "type(dataframe.ESTADO)"
   ]
  },
  {
   "cell_type": "code",
   "execution_count": null,
   "id": "average-final",
   "metadata": {},
   "outputs": [],
   "source": [
    "# selecionando uma linha com método iloc\n",
    "\n",
    "dataframe.iloc[1]"
   ]
  },
  {
   "cell_type": "code",
   "execution_count": null,
   "id": "f3708b96",
   "metadata": {},
   "outputs": [],
   "source": [
    "linha = dataframe.iloc[2]\n",
    "linha"
   ]
  },
  {
   "cell_type": "code",
   "execution_count": null,
   "id": "9258cea4",
   "metadata": {},
   "outputs": [],
   "source": [
    "print(f'tipo de dado que uma coluna representa: {type(linha)}')"
   ]
  },
  {
   "cell_type": "markdown",
   "id": "ready-brook",
   "metadata": {},
   "source": [
    "#### **Criando uma Series**\n",
    "\n",
    "Podemos criar um DataFrame a partir de uma lista de elementos."
   ]
  },
  {
   "cell_type": "code",
   "execution_count": null,
   "id": "acoustic-container",
   "metadata": {},
   "outputs": [],
   "source": [
    "pd.Series([2.2,5,4.5,6.6])"
   ]
  },
  {
   "cell_type": "markdown",
   "id": "european-ministry",
   "metadata": {},
   "source": [
    "Podemos alterar o **nome dos índices** (veremos melhor jajá) e o **nome da Series** (o que ela representa):"
   ]
  },
  {
   "cell_type": "code",
   "execution_count": null,
   "id": "2aa35ea9",
   "metadata": {},
   "outputs": [],
   "source": [
    "pd.Series([2.2, 5, 4.5, 6.6], index=['prova 1', 'prova 2', 'prova 3', 'média'], name='Notas do aluno X')"
   ]
  },
  {
   "cell_type": "markdown",
   "id": "deadly-prince",
   "metadata": {},
   "source": [
    "#### **VEJA MAIS**\n",
    "https://pandas.pydata.org/pandas-docs/stable/user_guide/dsintro.html"
   ]
  },
  {
   "cell_type": "markdown",
   "id": "insured-turkey",
   "metadata": {},
   "source": [
    "### 1.3.4 Atribuindo Dados"
   ]
  },
  {
   "cell_type": "markdown",
   "id": "smooth-tuesday",
   "metadata": {},
   "source": [
    "#### 1.3.4.1 Atribuindo constantes"
   ]
  },
  {
   "cell_type": "code",
   "execution_count": 135,
   "id": "electoral-graduate",
   "metadata": {},
   "outputs": [],
   "source": [
    "# ATRIBUINDO UM PONTEIRO QUE APONTA PARA UM VALOR DE MEMÓRIA QUE FAZ REFERENCIA À UMA CONSULTA, VEJA:\n",
    "product_view = dataframe['PRODUTO']\n",
    "#product_view = dataframe.PRODUTO\n"
   ]
  },
  {
   "cell_type": "code",
   "execution_count": null,
   "id": "level-hazard",
   "metadata": {},
   "outputs": [],
   "source": [
    "product_view"
   ]
  },
  {
   "cell_type": "code",
   "execution_count": 137,
   "id": "connected-lambda",
   "metadata": {},
   "outputs": [],
   "source": [
    "# se eu quiser uma cópia:...\n",
    "produtc_copy = dataframe['PRODUTO'].copy()"
   ]
  },
  {
   "cell_type": "code",
   "execution_count": null,
   "id": "danish-thumbnail",
   "metadata": {},
   "outputs": [],
   "source": [
    "produtc_copy"
   ]
  },
  {
   "cell_type": "code",
   "execution_count": 139,
   "id": "corresponding-cabinet",
   "metadata": {},
   "outputs": [],
   "source": [
    "dataframe['PRODUTO'] = 'COMBUSTÍVEL'"
   ]
  },
  {
   "cell_type": "code",
   "execution_count": null,
   "id": "alpha-exposure",
   "metadata": {},
   "outputs": [],
   "source": [
    "dataframe.head()"
   ]
  },
  {
   "cell_type": "code",
   "execution_count": null,
   "id": "e03036f8",
   "metadata": {},
   "outputs": [],
   "source": [
    "produtc_copy"
   ]
  },
  {
   "cell_type": "markdown",
   "id": "mental-logistics",
   "metadata": {},
   "source": [
    "#### 1.3.4.2 Atribuindo listas ou series"
   ]
  },
  {
   "cell_type": "code",
   "execution_count": null,
   "id": "meaning-alliance",
   "metadata": {},
   "outputs": [],
   "source": [
    "nrows, ncolumn = dataframe.shape\n",
    "print(nrows)\n",
    "print(ncolumn)"
   ]
  },
  {
   "cell_type": "code",
   "execution_count": null,
   "id": "cordless-nursing",
   "metadata": {},
   "outputs": [],
   "source": [
    "novos_produtos = [f'Produto {i}' for i in range(nrows)]\n",
    "novos_produtos[:3]"
   ]
  },
  {
   "cell_type": "code",
   "execution_count": null,
   "id": "trained-particular",
   "metadata": {},
   "outputs": [],
   "source": [
    "print(f'o tamanho dos novos produtos é {len(novos_produtos)}')"
   ]
  },
  {
   "cell_type": "code",
   "execution_count": 145,
   "id": "conservative-above",
   "metadata": {},
   "outputs": [],
   "source": [
    "# ao fazer isso precisamos passar uma lista com tamanho igual ao número de colunas do\n",
    "# dataframe, pois senão não irá funcionar\n",
    "\n",
    "dataframe['PRODUTO'] = novos_produtos"
   ]
  },
  {
   "cell_type": "code",
   "execution_count": null,
   "id": "transparent-service",
   "metadata": {},
   "outputs": [],
   "source": [
    "dataframe.head(10)\n"
   ]
  },
  {
   "cell_type": "code",
   "execution_count": null,
   "id": "musical-corpus",
   "metadata": {},
   "outputs": [],
   "source": [
    "print(dataframe['PRODUTO'])\n",
    "print('\\n')\n",
    "print(produtc_copy)"
   ]
  },
  {
   "cell_type": "code",
   "execution_count": 148,
   "id": "dd4b365a",
   "metadata": {},
   "outputs": [],
   "source": [
    "# voltando atrás e atribuindo uma series que contém o valor original da coluna PRODUTOS ao dataframe na posicao PRODUTOS\n",
    "\n",
    "dataframe['PRODUTO'] = produtc_copy"
   ]
  },
  {
   "cell_type": "code",
   "execution_count": null,
   "id": "c6dec12a",
   "metadata": {},
   "outputs": [],
   "source": [
    "dataframe"
   ]
  },
  {
   "cell_type": "markdown",
   "id": "positive-neutral",
   "metadata": {},
   "source": [
    "#### 1.3.4.3 Criando novas colunas\n",
    "Para **criar uma nova coluna** em um data frame, basta atribuirmos uma _lista/Series de valores_ a uma **nova 'chave'** do data frame. <br/>\n",
    "\n",
    "**PS:** A _quantidade de valores_ da lista precisa ser **igual** ao _número de linhas/registros_ do data frame."
   ]
  },
  {
   "cell_type": "code",
   "execution_count": 150,
   "id": "dense-background",
   "metadata": {},
   "outputs": [],
   "source": [
    "# Quando fazemos isso definimos uma nova coluna com um valor constante para todas as linhas\n",
    "dataframe['NOVA COLUNA'] = 'VALOR PADRAO'"
   ]
  },
  {
   "cell_type": "code",
   "execution_count": null,
   "id": "neither-disposal",
   "metadata": {},
   "outputs": [],
   "source": [
    "dataframe"
   ]
  },
  {
   "cell_type": "code",
   "execution_count": null,
   "id": "electrical-extreme",
   "metadata": {},
   "outputs": [],
   "source": [
    "dataframe['coluna a partir de lista'] = range(dataframe.shape[0])\n",
    "dataframe.head()"
   ]
  },
  {
   "cell_type": "markdown",
   "id": "protected-advertiser",
   "metadata": {},
   "source": [
    "<br/>\n",
    "\n",
    "Outro exemplo:"
   ]
  },
  {
   "cell_type": "code",
   "execution_count": null,
   "id": "restricted-potential",
   "metadata": {},
   "outputs": [],
   "source": [
    "#gerando uma coluna a partir de outra e adaptando os valores com base em outra colua também\n",
    "#gerando uma coluna a partir de outra e adaptando os valores com base em outra colua também\n",
    "dataframe[\"PREÇO MÉDIO REVENDA AJUSTADO\"] = dataframe[\"MARGEM MÉDIA REVENDA\"] * 6\n",
    "dataframe"
   ]
  },
  {
   "cell_type": "code",
   "execution_count": null,
   "id": "single-batman",
   "metadata": {},
   "outputs": [],
   "source": [
    "dataframe.head()"
   ]
  },
  {
   "cell_type": "code",
   "execution_count": null,
   "id": "4a91c06e",
   "metadata": {},
   "outputs": [],
   "source": [
    "# pegar uma coluna e armazenar numa variavel (ou seja, vou pegar uma series), modificar seu valor e então adicioná-la ao dataframe como uma nova coluna\n",
    "preco_revenda_medio_reajustado = dataframe['PREÇO MÉDIO REVENDA'] * 2\n",
    "type(preco_revenda_medio_reajustado)"
   ]
  },
  {
   "cell_type": "code",
   "execution_count": null,
   "id": "d5fc8bed",
   "metadata": {},
   "outputs": [],
   "source": [
    "dataframe['PREÇO MÉDIO REVENDA REAJUSTADO'] = preco_revenda_medio_reajustado\n",
    "dataframe.head()"
   ]
  },
  {
   "cell_type": "code",
   "execution_count": null,
   "id": "c672ea05",
   "metadata": {},
   "outputs": [],
   "source": [
    "dataframe.columns"
   ]
  },
  {
   "cell_type": "markdown",
   "id": "together-collar",
   "metadata": {},
   "source": [
    "**PS:** Obviamente, a lógica correta em converter o preço dos combustíveis em reais para dólares não é considerar uma taxa de câmbio fixa, uma vez que cada preço foi aferido em um momento diferente."
   ]
  },
  {
   "cell_type": "markdown",
   "id": "artificial-ecuador",
   "metadata": {},
   "source": [
    "### 1.3.4 Índices"
   ]
  },
  {
   "cell_type": "markdown",
   "id": "foreign-husband",
   "metadata": {},
   "source": [
    "Todo Data Frame possui **índices**, que **não** são considerado colunas da tabela. Tais índices são comumente **númericos**, de 0 a num_linhas-1, mas também podem ser **textuais (rótulos/labels)**."
   ]
  },
  {
   "cell_type": "code",
   "execution_count": null,
   "id": "alternative-columbus",
   "metadata": {},
   "outputs": [],
   "source": [
    "dataframe"
   ]
  },
  {
   "cell_type": "code",
   "execution_count": null,
   "id": "statistical-uganda",
   "metadata": {},
   "outputs": [],
   "source": [
    "dataframe.index\n",
    "\n",
    "# tipo rangeindex, que é um intervalo numérico no python."
   ]
  },
  {
   "cell_type": "markdown",
   "id": "absolute-fourth",
   "metadata": {},
   "source": [
    "Use `list(data.index)` ou `data.index.to_list()` para converter um RangeIndex para uma python list."
   ]
  },
  {
   "cell_type": "markdown",
   "id": "nonprofit-latino",
   "metadata": {},
   "source": [
    "#### **Exemplo de Data Frame com Índices Textuais (labels)**"
   ]
  },
  {
   "cell_type": "code",
   "execution_count": null,
   "id": "precious-judges",
   "metadata": {},
   "outputs": [],
   "source": [
    "pesquisa_de_satisfacao = pd.DataFrame({\n",
    "    'bom': [50, 21, 100],\n",
    "    'ruim': [131, 2, 30],\n",
    "    'pessimo': [30, 20, 1]\n",
    "}, index=['XboxOne', 'Playstation4', 'Switch'])\n",
    "\n",
    "pesquisa_de_satisfacao"
   ]
  },
  {
   "cell_type": "code",
   "execution_count": null,
   "id": "c8358e88",
   "metadata": {},
   "outputs": [],
   "source": [
    "# lista de index\n",
    "pesquisa_de_satisfacao.index"
   ]
  },
  {
   "cell_type": "code",
   "execution_count": null,
   "id": "enhanced-prompt",
   "metadata": {},
   "outputs": [],
   "source": [
    "pesquisa_de_satisfacao.head()"
   ]
  },
  {
   "cell_type": "markdown",
   "id": "sixth-supplement",
   "metadata": {},
   "source": [
    "### 1.4 Selecionando uma ou mais amostras/observações/registros (Indexação)"
   ]
  },
  {
   "cell_type": "markdown",
   "id": "buried-headquarters",
   "metadata": {},
   "source": [
    "#### **==>  Index-based selection (seleção baseada em Índices)**\n",
    "Mostrando linhas específicas de um DataFrame:\n",
    "\n",
    "`iloc`: seleciona elementos do Dataframe, baseado em seu **índice (número)** --> row-first, column-second"
   ]
  },
  {
   "cell_type": "markdown",
   "id": "inclusive-magnet",
   "metadata": {},
   "source": [
    "**Selecionando uma amostra/linha/observação/registro:**"
   ]
  },
  {
   "cell_type": "code",
   "execution_count": null,
   "id": "bored-roberts",
   "metadata": {},
   "outputs": [],
   "source": [
    "# selecionando a linha 1, que é o registro de indice 1 do dataframe\n",
    "dataframe.iloc[1]"
   ]
  },
  {
   "cell_type": "markdown",
   "id": "regional-spank",
   "metadata": {},
   "source": [
    "**Selecionando múltiplias amostras/linhas:**"
   ]
  },
  {
   "cell_type": "code",
   "execution_count": null,
   "id": "framed-julian",
   "metadata": {},
   "outputs": [],
   "source": [
    "# selecionando as linhas de 0 a 5 (incluso)\n",
    "# repare que retornará um dataframe, da mesma forma que quando usamos o .head()\n",
    "dataframe.iloc[:6]"
   ]
  },
  {
   "cell_type": "code",
   "execution_count": null,
   "id": "572924ab",
   "metadata": {},
   "outputs": [],
   "source": [
    "print(type(dataframe.iloc[:6]))"
   ]
  },
  {
   "cell_type": "code",
   "execution_count": null,
   "id": "fallen-palace",
   "metadata": {},
   "outputs": [],
   "source": [
    "# selecionando as linhas de 10 a 15(incluso)\n",
    "dataframe.iloc[10:16]"
   ]
  },
  {
   "cell_type": "code",
   "execution_count": null,
   "id": "varying-patrol",
   "metadata": {},
   "outputs": [],
   "source": [
    "# selecionando os registros de indice 1, 5, 10, 15\n",
    "dataframe.iloc[[1, 5, 10, 15]]"
   ]
  },
  {
   "cell_type": "code",
   "execution_count": null,
   "id": "3e447b9c",
   "metadata": {},
   "outputs": [],
   "source": [
    "intervalo = list(range(10,15,2))\n",
    "dataframe.iloc[intervalo]"
   ]
  },
  {
   "cell_type": "code",
   "execution_count": null,
   "id": "9beb187a",
   "metadata": {},
   "outputs": [],
   "source": [
    "# pegando somente os indices par da tabela\n",
    "intervalo = list(range(0, dataframe.shape[0], 2))\n",
    "dataframe.iloc[intervalo]"
   ]
  },
  {
   "cell_type": "code",
   "execution_count": null,
   "id": "numerical-robinson",
   "metadata": {},
   "outputs": [],
   "source": [
    "# a ordem dos indices não precisa ser crescentes ou decrescentes, podem ser aleatória\n",
    "# selecionando os registros 5,1,15,10\n",
    "\n",
    "dataframe.iloc[[5,1,15,10]]"
   ]
  },
  {
   "cell_type": "code",
   "execution_count": null,
   "id": "olive-plain",
   "metadata": {},
   "outputs": [],
   "source": [
    "# retornar o valor da linha de indice 1 e coluna 4 (ESTADO)\n",
    "# OBS: IMPLICITAMENTE AS COLUNAS SÃO INDEXADAS POR INDICES NUMÉRICOS TAMBÉM, EMBORA ELAS TENHAM RÓTULOS\n",
    "\n",
    "#passamos como se fossem coordenadas cartesianas\n",
    "dataframe.iloc[1,4]"
   ]
  },
  {
   "cell_type": "markdown",
   "id": "extended-helping",
   "metadata": {},
   "source": [
    "#### **==>  Label-based selection (seleção baseadas em Rótulos)**\n",
    "\n",
    "`loc`: seleciona elementos do Dataframe, baseado em seus **rótulos** --> ***row-first, column-second***"
   ]
  },
  {
   "cell_type": "markdown",
   "id": "packed-unemployment",
   "metadata": {},
   "source": [
    "### VEJA QUE LOC E ILOC SÃO DIFERENTES\n",
    "\n",
    "* I-loc (i=  indice) ,<br>\n",
    "* LOC (loc = localização (rotulos))\n"
   ]
  },
  {
   "cell_type": "code",
   "execution_count": null,
   "id": "blank-defeat",
   "metadata": {},
   "outputs": [],
   "source": [
    "pesquisa_de_satisfacao.head()"
   ]
  },
  {
   "cell_type": "code",
   "execution_count": null,
   "id": "personalized-southeast",
   "metadata": {},
   "outputs": [],
   "source": [
    "# OBS: MESMO QUE OS INDICES SEJAM RÓTULOS TEXTUAIS, PODEMOS USAR O MÉTODO ILOC (PQ IMPLICITAMENTE EXISTEM NÚMEROS EM RÓTULOS)\n",
    "\n",
    "pesquisa_de_satisfacao.iloc[0]"
   ]
  },
  {
   "cell_type": "code",
   "execution_count": null,
   "id": "53fdfefb",
   "metadata": {},
   "outputs": [],
   "source": [
    "# pegar a linha 0 e a coluna 1\n",
    "\n",
    "pesquisa_de_satisfacao.iloc[0, 1]"
   ]
  },
  {
   "cell_type": "markdown",
   "id": "c1c8b561",
   "metadata": {},
   "source": [
    "### observe o método LOC que aceita rótulos nomeados"
   ]
  },
  {
   "cell_type": "code",
   "execution_count": null,
   "id": "dutch-proportion",
   "metadata": {},
   "outputs": [],
   "source": [
    "# retorna uma series que contém a linha, cujo o rótulo do indice é 'XboxOne'\n",
    "pesquisa_de_satisfacao.loc['XboxOne']"
   ]
  },
  {
   "cell_type": "code",
   "execution_count": null,
   "id": "instrumental-automation",
   "metadata": {},
   "outputs": [],
   "source": [
    "# CASOS DE USOS QUE NÃO FUNCIONAM COM LOC E ILOC\n",
    "dataframe.iloc['XboxOne'] # iloc com rotulo nomeado"
   ]
  },
  {
   "cell_type": "markdown",
   "id": "1e6f0590",
   "metadata": {},
   "source": [
    "#### OBSERVAÇÃO IMPORTANTE\n",
    "\n",
    "**Índices númericos**, por padrão, possuem um rótulo que ***correspondem aos seus valores númericos***, isso quer dizer que podemos usar o loc e pesquisar por um numero, mesmo que seja contra intuitivo, o pandas subentende que um indice númerico quando chamado no loc está se referindo ao seu valor rotulado implicitamente que é um número de mesmo valor, veja abaixo:\n"
   ]
  },
  {
   "cell_type": "code",
   "execution_count": null,
   "id": "e5d479ea",
   "metadata": {},
   "outputs": [],
   "source": [
    "#neste caso 'deveríamos' usar o iloc, pois estamos buscando por um indice numérico, porém, conforme o que dito acima, também funciona\n",
    "dataframe.loc[0]"
   ]
  },
  {
   "cell_type": "code",
   "execution_count": null,
   "id": "010cbb5b",
   "metadata": {},
   "outputs": [],
   "source": [
    "# repare que usando o iloc o series retornado é o mesmo\n",
    "dataframe.iloc[0]"
   ]
  },
  {
   "cell_type": "code",
   "execution_count": null,
   "id": "statewide-being",
   "metadata": {},
   "outputs": [],
   "source": [
    "pesquisa_de_satisfacao"
   ]
  },
  {
   "cell_type": "code",
   "execution_count": null,
   "id": "sublime-berry",
   "metadata": {},
   "outputs": [],
   "source": [
    "# usando loc para acessar os valores de  linha e coluna específicos\n",
    "pesquisa_de_satisfacao.loc['Playstation4', 'ruim']"
   ]
  },
  {
   "cell_type": "code",
   "execution_count": null,
   "id": "d82e15c6",
   "metadata": {},
   "outputs": [],
   "source": [
    "# VEJA QUE NO CASO ABAIXO CONSEGUIMOS USAR O NÚMERO PARA A LINHA E O RÓTULO PARA A COLUNA NO MÉTODO LOC, ISSO SIM FUNCIONA, O QUE NÃO FUNCIONA É\n",
    "# CHAMARMOS O LOC E APENAS PASSAR O INDICE NUMERO PARA A LINHA ESPERANDO QUE ELE RETORNE UMA SERIES\n",
    "dataframe.loc[0,'DATA FINAL']"
   ]
  },
  {
   "cell_type": "code",
   "execution_count": null,
   "id": "b15dad15",
   "metadata": {},
   "outputs": [],
   "source": [
    "# ISSO TAMBÉM GERA ERRO (LEMBRE-SE ROW-FIRST, COLUMN-SECOND)\n",
    "dataframe.loc['DATA FINAL']"
   ]
  },
  {
   "cell_type": "code",
   "execution_count": null,
   "id": "united-bulgarian",
   "metadata": {},
   "outputs": [],
   "source": [
    "# AGORA PODEMOS PASSAR SIM UMA LISTA DE INDICES ROTULADOS SEM PASSAR OS INDICES DAS LINHAS E RECUPERAR UM DATAFRAME DOS ROTULOS PASSADOS\n",
    "pesquisa_de_satisfacao.loc[['XboxOne', 'Switch']] # ESSES RÓTULOS SÃO *****LINHAS**** POR ISSO FUNCIONA DESTA MANEIRA, SEM PASSAR O NUMERO"
   ]
  },
  {
   "cell_type": "code",
   "execution_count": null,
   "id": "played-oxide",
   "metadata": {},
   "outputs": [],
   "source": [
    "# OUTRA COISA MUITO INTERESSANTE É APLICAR FILTRO DE INDEX USANDO O LOC OU ENTÃO COM FATIAMENTO SEM USAR O LOC, VEJA:\n",
    "\n",
    "# selecionar todas as linhas somente com as colunas bom e ruim\n",
    "pesquisa_de_satisfacao[['bom', 'ruim']]"
   ]
  },
  {
   "cell_type": "code",
   "execution_count": null,
   "id": "7c34d2ba",
   "metadata": {},
   "outputs": [],
   "source": [
    "pesquisa_de_satisfacao[['bom']]"
   ]
  },
  {
   "cell_type": "code",
   "execution_count": null,
   "id": "994cb704",
   "metadata": {},
   "outputs": [],
   "source": [
    "# selecionar a mesma coisa de antes, ou seja, todas as linhas com somente algumas colunas, porém agora usando o loc e o conceito de fatiamento\n",
    "pesquisa_de_satisfacao.loc[ : , ['bom', 'ruim']] #lembre-se que aqui ele espera sempre a linha primeiro, então devemos passá-la como um intervalo omitindo inicio e fim para selecionar tudo"
   ]
  },
  {
   "cell_type": "code",
   "execution_count": null,
   "id": "c9ee81e6",
   "metadata": {},
   "outputs": [],
   "source": [
    "pesquisa_de_satisfacao.loc[:'Switch', 'bom']"
   ]
  },
  {
   "cell_type": "code",
   "execution_count": null,
   "id": "4ca8c3e7",
   "metadata": {},
   "outputs": [],
   "source": [
    "# O MAIS COMUM É ISSO, UM INDICE NÚMERO E UMA COLUNA ROTULADA, LOGO O USO DO LOC MAIS CONVENCIONAL É ESTE ABAIXO\n",
    "dataframe.loc[ : 3, 'DATA FINAL']"
   ]
  },
  {
   "cell_type": "code",
   "execution_count": null,
   "id": "332b27d6",
   "metadata": {},
   "outputs": [],
   "source": [
    "dataframe.loc[:3, : 'ESTADO']"
   ]
  },
  {
   "cell_type": "code",
   "execution_count": null,
   "id": "99f3a460",
   "metadata": {},
   "outputs": [],
   "source": [
    "dataframe[['ESTADO', 'REGIÃO']]"
   ]
  },
  {
   "cell_type": "markdown",
   "id": "75470fdb",
   "metadata": {},
   "source": [
    "## **RESUMINHO**\n",
    "\n",
    "O mais habitual de se encontrar em um dataset é possuir indices de linhas numéricos, indo de 0 num_linhas-1, e os indices de colunas são rotulos nomeados,\n",
    "desta forma o filtro por indexação mais habitual é usando o método loc para selecionar o intervalo númerico de linhas e passar um valor de rotulos para as colunas selecionadas.\n",
    "\n",
    "Outra forma de selecionar as colunas específicas de um dataframe é usando somente uma lista de dentro da chamada do dataframe passando uma lista com o nome das colunas ou então somente o nome da coluna\n",
    "\n",
    " **-> usando o .loc** <br>\n",
    " * dataframe.loc[0, 'ESTADO'] <br>\n",
    " * dataframe.loc[0:11, ['ESTADO', 'PREÇO MEDIO DE REVENDA']] <br>\n",
    " * dataframe.loc[:3, : 'ESTADO'] <br>\n",
    "\n",
    "---\n",
    " **--> usando a formatação padrão de listas** <br>\n",
    " * dataframe[['ESTADO']] <br>\n",
    " * dataframe[['ESTADO', 'REGIÃO']] <br>\n",
    "\n"
   ]
  },
  {
   "cell_type": "markdown",
   "id": "brilliant-welding",
   "metadata": {},
   "source": [
    "### 1.5 Selecionando um ou mais atributos (colunas)"
   ]
  },
  {
   "cell_type": "code",
   "execution_count": null,
   "id": "brilliant-simpson",
   "metadata": {},
   "outputs": [],
   "source": [
    "dataframe.head()"
   ]
  },
  {
   "cell_type": "code",
   "execution_count": null,
   "id": "prostate-brass",
   "metadata": {},
   "outputs": [],
   "source": [
    "# pegar a coluna estado\n",
    "dataframe['ESTADO']"
   ]
  },
  {
   "cell_type": "code",
   "execution_count": null,
   "id": "patent-desert",
   "metadata": {},
   "outputs": [],
   "source": [
    "# ESTE MÉTODO DE ACESSO SÓ FUNCIONA SE O NOME DA COLUNA NÃO POSSUIR CARACTERES INVÁLIDOS (' ', '´Ç~', '@')\n",
    "dataframe.ESTADO"
   ]
  },
  {
   "cell_type": "code",
   "execution_count": null,
   "id": "adde0af0",
   "metadata": {},
   "outputs": [],
   "source": [
    "# ISSO NÃO FUNCIONA\n",
    "dataframe.DATA INICIAL"
   ]
  },
  {
   "cell_type": "code",
   "execution_count": null,
   "id": "eff46694",
   "metadata": {},
   "outputs": [],
   "source": [
    "# PARA SELECIONAR DESTA FORMA PRECISARIAMOS USAR A SELECAO POR STRING\n",
    "dataframe['DATA INICIAL']\n",
    "dataframe.loc[:, 'DATA INICIAL']"
   ]
  },
  {
   "cell_type": "code",
   "execution_count": null,
   "id": "natural-motor",
   "metadata": {},
   "outputs": [],
   "source": [
    "dataframe.loc[:, 'ESTADO']"
   ]
  },
  {
   "cell_type": "code",
   "execution_count": null,
   "id": "ce0eb320",
   "metadata": {},
   "outputs": [],
   "source": [
    "# SELEÇÃO DE MULTIPLAS COLUNAS\n",
    "dataframe[['PRODUTO', 'ESTADO', 'REGIÃO']]"
   ]
  },
  {
   "cell_type": "markdown",
   "id": "italian-berkeley",
   "metadata": {},
   "source": [
    "Como o rótulo da coluna 'DATA INICIAL' **possui espaço**, não é possível acessá-la como método: `data.DATA INICIAL`"
   ]
  },
  {
   "cell_type": "markdown",
   "id": "heard-objective",
   "metadata": {},
   "source": [
    "### 1.6 Removendo um Atributo (Coluna) do Data Frame"
   ]
  },
  {
   "cell_type": "markdown",
   "id": "ancient-european",
   "metadata": {},
   "source": [
    "Como vimos anteriormente, o atributo 'Unnamed: 0' parece ser um **ruído** em nosso dataset. Desta maneira, vamos eliminá-lo,"
   ]
  },
  {
   "cell_type": "code",
   "execution_count": null,
   "id": "private-accused",
   "metadata": {},
   "outputs": [],
   "source": [
    "dataframe.head()"
   ]
  },
  {
   "cell_type": "code",
   "execution_count": 98,
   "id": "other-server",
   "metadata": {},
   "outputs": [],
   "source": [
    "# remove no próprio dataframe a coluna selecionada\n",
    "del dataframe['Unnamed: 0']"
   ]
  },
  {
   "cell_type": "code",
   "execution_count": null,
   "id": "fixed-damage",
   "metadata": {},
   "outputs": [],
   "source": [
    "dataframe.head()"
   ]
  },
  {
   "cell_type": "code",
   "execution_count": null,
   "id": "24654263",
   "metadata": {},
   "outputs": [],
   "source": [
    "# removendo as colunas que inserimos anteriormente para estudo\n",
    "del dataframe['NOVA COLUNA']\n",
    "del dataframe['PREÇO MÉDIO REVENDA AJUSTADO']\n",
    "del dataframe['PREÇO MÉDIO REVENDA REAJUSTADO']\n",
    "del dataframe['coluna a partir de lista']"
   ]
  },
  {
   "cell_type": "code",
   "execution_count": null,
   "id": "41ef991a",
   "metadata": {},
   "outputs": [],
   "source": [
    "dataframe.head()"
   ]
  },
  {
   "cell_type": "markdown",
   "id": "forbidden-neighborhood",
   "metadata": {},
   "source": [
    "### 1.7 Salvando um Data Frame"
   ]
  },
  {
   "cell_type": "markdown",
   "id": "sensitive-rocket",
   "metadata": {},
   "source": [
    "Para salvarmos um Data Frame para um **arquivo CSV**, basta usarmos o método `.to_csv`. <br/>\n",
    "Por padrão, esse método **salva os índices da tabela como uma coluna no CSV**.<br/>\n",
    "Como no geral tais índices são números de 0 a n-1, não há necessidade para isso (veja que removemos anteriormente a coluna 'Unnamed: 0' que foi justamente esse caso).<br/>\n",
    "Desta forma, utilize o parâmetro: `index=False`.\n",
    "\n",
    "Por padrão, o método utilizará a ',' como separador das colunas. Caso queira alterá-lo, utilize o parâmetro `sep`."
   ]
  },
  {
   "cell_type": "code",
   "execution_count": 108,
   "id": "generic-equilibrium",
   "metadata": {},
   "outputs": [],
   "source": [
    "dataframe.to_csv('./datasets/salvando_arquivo.csv', index=False, sep=',')"
   ]
  },
  {
   "cell_type": "markdown",
   "id": "backed-arrow",
   "metadata": {},
   "source": [
    "### 1.8 Seleção Condicional: Filtrando amostras"
   ]
  },
  {
   "cell_type": "markdown",
   "id": "aerial-default",
   "metadata": {},
   "source": [
    "Durante nossas análise exploratórias, frequentemente filtraremos nossas amostras, a partir de certas **condições**, para fins de análise mais específica. <br/>\n",
    "Existem algumas maneiras de fazermos tal filtragem. Antes disso, vamos carregar nosso dataset pré-processado que salvamos no item anterior."
   ]
  },
  {
   "cell_type": "code",
   "execution_count": 94,
   "id": "subject-rubber",
   "metadata": {},
   "outputs": [],
   "source": [
    "# abrindo o arquivo salvo na aula anterior, o '.' indica que é no próprio diretório\n",
    "dataframe = pd.read_csv('./datasets/salvando_arquivo.csv', sep=',')"
   ]
  },
  {
   "cell_type": "code",
   "execution_count": null,
   "id": "southeast-undergraduate",
   "metadata": {},
   "outputs": [],
   "source": [
    "dataframe.head()"
   ]
  },
  {
   "cell_type": "code",
   "execution_count": null,
   "id": "plain-centre",
   "metadata": {},
   "outputs": [],
   "source": [
    "# o método unique() retorna um array contendo os valores únicos contidos na series (ou seja, pega uma correspondencia de cada valor)\n",
    "dataframe['ESTADO'].unique()"
   ]
  },
  {
   "cell_type": "markdown",
   "id": "altered-lafayette",
   "metadata": {},
   "source": [
    "#### **Selecionando apenas os preços dos Postos de São Paulo**"
   ]
  },
  {
   "cell_type": "markdown",
   "id": "express-birmingham",
   "metadata": {},
   "source": [
    "##### **==> Alternativa 1: Seleção Condicional (Comparações diretas)**"
   ]
  },
  {
   "cell_type": "markdown",
   "id": "balanced-executive",
   "metadata": {},
   "source": [
    "O código abaixo retorna uma ***Series ('array') de booleans***, com o número de linhas (amostras/observações/registros) do Data Frame, que informa os registros de preços dos postos do _estado de São Paulo_ (True)."
   ]
  },
  {
   "cell_type": "code",
   "execution_count": null,
   "id": "sufficient-providence",
   "metadata": {},
   "outputs": [],
   "source": [
    "# FAZ UMA COMPARAÇÃO ELEMENTO A ELEMENTO DA SERIES, RETORNANDO UMA SERIES DE BOOLEANOS\n",
    "dataframe['ESTADO'] == 'SAO PAULO'"
   ]
  },
  {
   "cell_type": "code",
   "execution_count": 122,
   "id": "capable-congo",
   "metadata": {},
   "outputs": [],
   "source": [
    "# SALVANDO ESSA SERIES DE BOOLEANS NA VARIÁVEL\n",
    "selecao = dataframe['ESTADO'] == 'SAO PAULO'"
   ]
  },
  {
   "cell_type": "code",
   "execution_count": null,
   "id": "cognitive-temperature",
   "metadata": {},
   "outputs": [],
   "source": [
    "# passa a lista de booleans na seleção, e isso retornará as linhas que forem true\n",
    "dataframe[selecao]"
   ]
  },
  {
   "cell_type": "markdown",
   "id": "cf85f39a",
   "metadata": {},
   "source": [
    "***O resultado é um dataframe contendo apenas os registros desejados após a filtragem***"
   ]
  },
  {
   "cell_type": "code",
   "execution_count": null,
   "id": "652152eb",
   "metadata": {},
   "outputs": [],
   "source": [
    "# PODEMOS USAR O MÉTODO LOC PARA O MESMO FIM, VEJA:\n",
    "dataframe.loc[selecao]"
   ]
  },
  {
   "cell_type": "markdown",
   "id": "af4d15c4",
   "metadata": {},
   "source": [
    "### RESUMINHO\n",
    "\n",
    "Para fazer um filtro de linhas, com base no valor de uma coluna específica, podemos usar a forma acima, que é basicamente fazer uma comparação do dataframe na coluna desejada com o valor desejado, isso retornará uma Series de linhas contendo True para onde houver o valor comparado e false para onde não houver, quando passada essa series na busca do dataframe obteremos exatamente a filtragem desejada..."
   ]
  },
  {
   "cell_type": "markdown",
   "id": "acute-smile",
   "metadata": {},
   "source": [
    "O resultado é um Data Frame com _apenas_ os registros desejados após a **filtragem**.<br/>\n",
    "Podemos ainda utilizar o método `loc` para o mesmo fim:"
   ]
  },
  {
   "cell_type": "markdown",
   "id": "egyptian-schedule",
   "metadata": {},
   "source": [
    "##### **==> Alternativa 2: Utilizando o método `query`**"
   ]
  },
  {
   "cell_type": "markdown",
   "id": "conventional-bathroom",
   "metadata": {},
   "source": [
    "`query` filtra linhas de um DataFrame baseado em uma **query (pergunta)**."
   ]
  },
  {
   "cell_type": "code",
   "execution_count": null,
   "id": "contrary-richards",
   "metadata": {},
   "outputs": [],
   "source": [
    "dataframe.head()"
   ]
  },
  {
   "cell_type": "code",
   "execution_count": null,
   "id": "c5285d32",
   "metadata": {},
   "outputs": [],
   "source": [
    "# PODEMOS FAZER A MEMSA FILTRAGEM USANDO UMA CONSULTA (DEVEMOS ATENTAR AS ASPAS)\n",
    "dataframe.query('ESTADO == \"SAO PAULO\"')"
   ]
  },
  {
   "cell_type": "code",
   "execution_count": null,
   "id": "562d305b",
   "metadata": {},
   "outputs": [],
   "source": [
    "# QUANDO O NOME DA COLUNA TEM ESPAÇOS PRECISAMOS USAR CRASES ENVOLTA DELE (`)\n",
    "dataframe.query('`COEF DE VARIAÇÃO REVENDA` == 0.111')"
   ]
  },
  {
   "cell_type": "markdown",
   "id": "extreme-jones",
   "metadata": {},
   "source": [
    "<br/>\n",
    "\n",
    "Uma boa prática é **salvar o Data Frame filtrado em uma nova variável**. Isso simplifica a complexidade do código para futuras análise feita para os postos de São Paulo."
   ]
  },
  {
   "cell_type": "code",
   "execution_count": null,
   "id": "potential-treasure",
   "metadata": {},
   "outputs": [],
   "source": [
    "postos_sp = dataframe.query('ESTADO == \"SAO PAULO\"')\n",
    "postos_sp"
   ]
  },
  {
   "cell_type": "code",
   "execution_count": null,
   "id": "union-diesel",
   "metadata": {},
   "outputs": [],
   "source": [
    "type(postos_sp)"
   ]
  },
  {
   "cell_type": "code",
   "execution_count": null,
   "id": "british-vision",
   "metadata": {},
   "outputs": [],
   "source": [
    "postos_sp.shape"
   ]
  },
  {
   "cell_type": "code",
   "execution_count": null,
   "id": "heard-consent",
   "metadata": {},
   "outputs": [],
   "source": [
    "postos_sp"
   ]
  },
  {
   "cell_type": "code",
   "execution_count": 157,
   "id": "6244e878",
   "metadata": {},
   "outputs": [],
   "source": [
    "postos_sp = postos_sp.reset_index(drop=True)"
   ]
  },
  {
   "cell_type": "code",
   "execution_count": 159,
   "id": "116fc257",
   "metadata": {},
   "outputs": [],
   "source": [
    "postos_sp.reset_index(drop=True, inplace=True)"
   ]
  },
  {
   "cell_type": "markdown",
   "id": "3a413bf3",
   "metadata": {},
   "source": [
    "### **OBSERVE**:\n",
    "Note que os índices do novo dataframe filtrando herdaram os índices do dataframe original, as veze essa informação poderá ser importante, porém caso queiramos resetar os índices do dataframe filtrado para começar de 0 e ir até n_linhas - 1, para isso usamos o método .reset_index"
   ]
  },
  {
   "cell_type": "code",
   "execution_count": 163,
   "id": "e831267f",
   "metadata": {},
   "outputs": [],
   "source": [
    "# alternativa muito comum, é fazer a seleção tudo numa mesma linha, fazer a consulta e já resetar o index na mesma linha\n",
    "postos_sp = dataframe.query('ESTADO == \"SAO PAULO\"').reset_index(drop=True)"
   ]
  },
  {
   "cell_type": "code",
   "execution_count": null,
   "id": "75b10fe2",
   "metadata": {},
   "outputs": [],
   "source": [
    "postos_sp"
   ]
  },
  {
   "cell_type": "markdown",
   "id": "substantial-prevention",
   "metadata": {},
   "source": [
    "#### **Selecionando registros de postos do Rio de Janeiro com Preços acima de 2 reais**"
   ]
  },
  {
   "cell_type": "code",
   "execution_count": null,
   "id": "occupied-attitude",
   "metadata": {},
   "outputs": [],
   "source": [
    "dataframe.head()"
   ]
  },
  {
   "cell_type": "code",
   "execution_count": null,
   "id": "bb7083ee",
   "metadata": {},
   "outputs": [],
   "source": [
    "# pegar os valores de estado para verificar o nome do rio de janeiro\n",
    "dataframe['ESTADO'].unique()"
   ]
  },
  {
   "cell_type": "markdown",
   "id": "4023227e",
   "metadata": {},
   "source": [
    "### VAMOS PENSAR....\n",
    "\n",
    "Se a gente consegue fazer uma consulta passando uma lista de booleans onde será retornado uma series com as linhas que tiveram resultado true, por que não considerar a união de duas listas de booleans, através de operadores booleanos para gerar uma outra series contendo o resultado da operação booleana, esse resultado é justamente o booleam de onde há as linhas que satisfazem minha condição...."
   ]
  },
  {
   "cell_type": "code",
   "execution_count": null,
   "id": "56985b32",
   "metadata": {},
   "outputs": [],
   "source": [
    "# a primeira series de boolen é pegar as linhas do dataframa onde a coluna estado tem valor rio de janeiro\n",
    "dataframe['ESTADO'] == 'RIO DE JANEIRO'"
   ]
  },
  {
   "cell_type": "code",
   "execution_count": null,
   "id": "09999402",
   "metadata": {},
   "outputs": [],
   "source": [
    "# a segunda series de boolean é pegar as linhas do dataframe onde o preço de revenda médio é maior que dois reais\n",
    "dataframe['PREÇO MÉDIO REVENDA'] > 2.0"
   ]
  },
  {
   "cell_type": "code",
   "execution_count": null,
   "id": "5e29c7b0",
   "metadata": {},
   "outputs": [],
   "source": [
    "# a terceira series, aqui chamada de seleção, é basicamente a operação lógica (ou algebra booleana) que contém o and das outras duas series\n",
    "# esta series retornará como true somente as linhas que ambas condições satisfazem à nossa condição\n",
    "selecao = (dataframe['ESTADO'] == 'RIO DE JANEIRO') & (dataframe['PREÇO MÉDIO REVENDA'] > 2.0)\n",
    "selecao"
   ]
  },
  {
   "cell_type": "code",
   "execution_count": null,
   "id": "ffda97c3",
   "metadata": {},
   "outputs": [],
   "source": [
    "# dataframe com a seleção que satisfaz a condição (ser do rio de janeiro e o preço médio de revenda é maior que 2)\n",
    "dataframe[selecao]"
   ]
  },
  {
   "cell_type": "markdown",
   "id": "executed-colors",
   "metadata": {},
   "source": [
    "Note que o resultado da seleção continua sendo uma _Series de booleans_ com o _mesmo número de linhas/amostras do DataFrame_, de modo que cada linha possuirá um valor booleano indicando se o posto é do Rio de Janeiro e o preço aferido do combustível é maior que 2 reais (True) ou não.\n",
    "\n",
    "O símbolo **&** significa **AND** na comparação. Essa nomenclatura do python/pandas é diferente das nomenclaturas tradicionais (&&). <br/>\n",
    "Similarmente:\n",
    "- **|** representa o **OR** (não é ||)\n",
    "- **~** representa o **NOT** (não é !)"
   ]
  },
  {
   "cell_type": "code",
   "execution_count": null,
   "id": "civic-applicant",
   "metadata": {},
   "outputs": [],
   "source": [
    "# agora basta passa a series de booleano e esperar retornar apenas os True\n",
    "dataframe[selecao].head()"
   ]
  },
  {
   "cell_type": "code",
   "execution_count": null,
   "id": "82389983",
   "metadata": {},
   "outputs": [],
   "source": [
    "# agora vamos gerar um outro dataframe filtrado dos postos do rj que contém preço médio de revenda maior que 2 reais, vamos resetar os indices também\n",
    "\n",
    "#                                          retira os indices\n",
    "#                                          antigos.\n",
    "postos_rj = dataframe[selecao].reset_index(drop=True)\n",
    "postos_rj"
   ]
  },
  {
   "cell_type": "markdown",
   "id": "illegal-boards",
   "metadata": {},
   "source": [
    "Alternativamente, poderíamos usar o método `query` para fazermos tal seleção. Porém, isso não é possível especificamente para esse caso, pois o rótulo da coluna 'PREÇO MÉDIO REVENDA' possui caracteres inválidos para o método (cedilha, acentos) "
   ]
  },
  {
   "cell_type": "code",
   "execution_count": 185,
   "id": "automotive-manitoba",
   "metadata": {},
   "outputs": [],
   "source": [
    "# Não funciona\n",
    "# data.query('ESTADO==\"RIO DE JANEIRO\" and PREÇO MÉDIO REVENDA > 2')"
   ]
  },
  {
   "cell_type": "code",
   "execution_count": null,
   "id": "02a07633",
   "metadata": {},
   "outputs": [],
   "source": [
    "# MAS USANDO AS CRASES FUNCIONA PEFEITAMENTE E RETORNA O MESMO DATAFRAME\n",
    "dataframe.query('ESTADO == \"RIO DE JANEIRO\"  and `PREÇO MÉDIO REVENDA` > 2').reset_index(drop=True)"
   ]
  },
  {
   "cell_type": "markdown",
   "id": "mexican-romania",
   "metadata": {},
   "source": [
    "**Aprofundando mais ainda**\n",
    "\n",
    "A primeira comparação `(data['ESTADO'] == 'RIO DE JANEIRO')` checa, linha a linha (amostra a amostra) do DataFrame, quais são aquelas cujo o estado é RIO DE JANEIRO. Nenhuma averiguação de preços é feita nesse momento. Como resultado, temos uma Series de booleans que responde **apenas** a essa \"pergunta\" feita.\n",
    "\n",
    "A segunda comparação `(data['PREÇO MÉDIO REVENDA'] > 2)` checa, linha a linha (amostra a amostra) do DataFrame, quais são os registro cujo preço do combustível é maior que 2 reais. Note que essa comparação checará os postos de **TODOS os estados**. Como resultado, temos uma Series de booleans que responde **apenas** a essa \"pergunta\" feita.\n",
    "\n",
    "Por fim, as duas \"perguntas\" são unidas pelo AND (&) que retorna a \"pergunta completa\" que fizemos."
   ]
  },
  {
   "cell_type": "markdown",
   "id": "worst-catholic",
   "metadata": {},
   "source": [
    "Alguns podem argumentar que tal abordagem é **ineficiente**, uma vez que, para cada condição (\"pergunta\"), estamos varrendo todas as linhas do DataFrame. <br/>\n",
    "O Pandas _tenta otimizar_ isso ao máximo por de trás dos panos. Mas, de fato, de tivermos um dataset **muito grande** (centenas de milhares de linhas), tal abordagem se tornará _lenta_."
   ]
  },
  {
   "cell_type": "markdown",
   "id": "another-income",
   "metadata": {},
   "source": [
    "Assim, poderíamos fazer filtragem com múltiplos condicionais em partes:"
   ]
  },
  {
   "cell_type": "code",
   "execution_count": null,
   "id": "strong-nicholas",
   "metadata": {},
   "outputs": [],
   "source": [
    "selecao_1 = dataframe['ESTADO'] == 'RIO DE JANEIRO'\n",
    "postos_rj_1 = dataframe[selecao_1]\n",
    "postos_rj_1"
   ]
  },
  {
   "cell_type": "code",
   "execution_count": null,
   "id": "detailed-lyric",
   "metadata": {},
   "outputs": [],
   "source": [
    "selecao_2 = postos_rj_1['PREÇO MÉDIO REVENDA'] > 2\n",
    "postos_rj_maiorque2 = postos_rj_1[selecao_2]\n",
    "postos_rj_maiorque2"
   ]
  },
  {
   "cell_type": "markdown",
   "id": "e082609e",
   "metadata": {},
   "source": [
    "## ENTENDENDO O QUE FOI FEITO:\n",
    "\n",
    "Dado o fato de que a pesquisa linha a linha anteriormente feita é ineficiente, podemos refinar nossa busca iterando sobre series cada vez menores, o que melhora e muito o desempenho do código, desta vez, filtraremos do dataframe inteiro somente os postos do rio de janeiro (retornará uma series de 4263 linhas), e dos pontos do rio de janeiro faremos uma varredura somente em cima de 4263 linhas buscando os postos com preço maior que 2 reais. Com isso evitamos duas consultas numa base de dados de 106.823 linhas...\n",
    "\n",
    "---"
   ]
  },
  {
   "cell_type": "markdown",
   "id": "sapphire-gravity",
   "metadata": {},
   "source": [
    "#### **Selecionando registros de postos de São Paulo ou do Rio de Janeiro com Gasolina Comum acima de 2 reais**"
   ]
  },
  {
   "cell_type": "markdown",
   "id": "genetic-rwanda",
   "metadata": {},
   "source": [
    "Podemos fazer a solução do \"jeito mais lento\", percorrendo o DataFrame inteiro _múltiplas vezes_:"
   ]
  },
  {
   "cell_type": "code",
   "execution_count": null,
   "id": "a2c37c5c",
   "metadata": {},
   "outputs": [],
   "source": [
    "dataframe['PRODUTO'].unique()"
   ]
  },
  {
   "cell_type": "code",
   "execution_count": null,
   "id": "congressional-recorder",
   "metadata": {},
   "outputs": [],
   "source": [
    "# percorre cada uma das 106k de linhas quais correspondem a esta busca\n",
    "selecao_1 = (dataframe['ESTADO'] == 'SAO PAULO') | (dataframe['ESTADO'] == 'RIO DE JANEIRO')\n",
    "selecao_1"
   ]
  },
  {
   "cell_type": "code",
   "execution_count": null,
   "id": "fifth-catalog",
   "metadata": {},
   "outputs": [],
   "source": [
    "# percorre cada uma das 106k de linhas vendo quais postos tem gasolina comum com preço acima de 2 reais\n",
    "selecao_2 =  (dataframe['PRODUTO'] == 'GASOLINA COMUM')\n",
    "selecao_2"
   ]
  },
  {
   "cell_type": "code",
   "execution_count": null,
   "id": "d29b4d61",
   "metadata": {},
   "outputs": [],
   "source": [
    "selecao_3 = dataframe['PREÇO MÉDIO REVENDA'] > 2\n",
    "selecao_3"
   ]
  },
  {
   "cell_type": "code",
   "execution_count": null,
   "id": "6c5e97b9",
   "metadata": {},
   "outputs": [],
   "source": [
    "selecao_final = selecao_1 & selecao_2 & selecao_3\n",
    "selecao_final"
   ]
  },
  {
   "cell_type": "code",
   "execution_count": null,
   "id": "4e407b4a",
   "metadata": {},
   "outputs": [],
   "source": [
    "dataframe[selecao_final][['ESTADO', 'PRODUTO']]\n"
   ]
  },
  {
   "cell_type": "code",
   "execution_count": null,
   "id": "3c6e76df",
   "metadata": {},
   "outputs": [],
   "source": [
    "estados_filtrados = dataframe[selecao_final]\n",
    "estados_filtrados['ESTADO'].unique()\n",
    "estados_filtrados['PRODUTO'].unique()\n",
    "estados_filtrados['PREÇO MÉDIO REVENDA'].unique()"
   ]
  },
  {
   "cell_type": "code",
   "execution_count": null,
   "id": "52069a6f",
   "metadata": {},
   "outputs": [],
   "source": [
    "preco_minimo = estados_filtrados['PREÇO MÉDIO REVENDA'].min()\n",
    "menor_preco = estados_filtrados['PREÇO MÉDIO REVENDA'] == preco_minimo\n",
    "preco_minimo\n",
    "# estados_filtrados[menor_preco]"
   ]
  },
  {
   "cell_type": "code",
   "execution_count": null,
   "id": "c7749be3",
   "metadata": {},
   "outputs": [],
   "source": [
    "estados_filtrados.loc[menor_preco]"
   ]
  },
  {
   "cell_type": "markdown",
   "id": "productive-field",
   "metadata": {},
   "source": [
    "<br/>\n",
    "\n",
    "Alternativamente:"
   ]
  },
  {
   "cell_type": "code",
   "execution_count": null,
   "id": "australian-brother",
   "metadata": {},
   "outputs": [],
   "source": [
    "selecao_1 = (dataframe['ESTADO'] == 'SAO PAULO') | (dataframe['ESTADO'] == 'RIO DE JANEIRO')\n",
    "postos_sp_rj = dataframe[selecao_1]\n",
    "\n",
    "# apenas postos sao paulo ou rio de janeiro\n",
    "postos_sp_rj"
   ]
  },
  {
   "cell_type": "code",
   "execution_count": null,
   "id": "toxic-mercy",
   "metadata": {},
   "outputs": [],
   "source": [
    "selecao_2 =  (postos_sp_rj['PRODUTO'] == 'GASOLINA COMUM')\n",
    "selecao_2"
   ]
  },
  {
   "cell_type": "code",
   "execution_count": null,
   "id": "secondary-premises",
   "metadata": {},
   "outputs": [],
   "source": [
    "postos_sp_rj_gasolina = postos_sp_rj[selecao_2]\n",
    "\n",
    "# apenas postos de sao paulo e rio de janeiro com gasolina comum\n",
    "postos_sp_rj_gasolina"
   ]
  },
  {
   "cell_type": "code",
   "execution_count": null,
   "id": "d3aee1fc",
   "metadata": {},
   "outputs": [],
   "source": [
    "selecao_3 = postos_sp_rj_gasolina['PREÇO MÉDIO REVENDA'] > 2\n",
    "postos_sp_rj_gasolina_maior2 = postos_sp_rj_gasolina[selecao_3]\n",
    "\n",
    "postos_sp_rj_gasolina_maior2.head()"
   ]
  },
  {
   "cell_type": "markdown",
   "id": "visible-setup",
   "metadata": {},
   "source": [
    "#### **Selecionando registros dos anos de 2008, 2010 e 2012**"
   ]
  },
  {
   "cell_type": "code",
   "execution_count": null,
   "id": "4a73ee88",
   "metadata": {},
   "outputs": [],
   "source": [
    "dataframe.head()"
   ]
  },
  {
   "cell_type": "markdown",
   "id": "operational-border",
   "metadata": {},
   "source": [
    "**ALTERNATIVA 1**"
   ]
  },
  {
   "cell_type": "code",
   "execution_count": null,
   "id": "oriental-sitting",
   "metadata": {},
   "outputs": [],
   "source": [
    "selecao = (dataframe['ANO'] == 2008) | (dataframe['ANO'] == 2010) | (dataframe['ANO'] == 2012)\n",
    "dataframe[selecao]['ANO'].unique()\n",
    "dataframe[selecao]"
   ]
  },
  {
   "cell_type": "markdown",
   "id": "nonprofit-martin",
   "metadata": {},
   "source": [
    "**ALTERNATIVA 2**"
   ]
  },
  {
   "cell_type": "code",
   "execution_count": null,
   "id": "increased-agent",
   "metadata": {},
   "outputs": [],
   "source": [
    "lista_anos = [2008, 2010, 2012]\n",
    "selecao = dataframe['ANO'].isin(lista_anos) # faz a mesma coisa com menos linhas de código, retorna uma lista de booleanos\n",
    "dataframe[selecao]\n"
   ]
  },
  {
   "cell_type": "markdown",
   "id": "4af0c83c",
   "metadata": {},
   "source": [
    "**ALTERNATIVA 3**"
   ]
  },
  {
   "cell_type": "code",
   "execution_count": null,
   "id": "44c507d7",
   "metadata": {},
   "outputs": [],
   "source": [
    "# usar o query, devemos usar essa sintaxe com @ para passar uma variável dentro da query\n",
    "\n",
    "lista_anos = [2008, 2010, 2012]\n",
    "dataframe.query('ANO in @lista_anos')"
   ]
  },
  {
   "cell_type": "markdown",
   "id": "outside-central",
   "metadata": {},
   "source": [
    "### **Iterando com DataFrames**"
   ]
  },
  {
   "cell_type": "markdown",
   "id": "psychological-hands",
   "metadata": {},
   "source": [
    "#### For-each `DataFrame.iterrows()` (LENTO ==> apenas indicado para iterar pequenos conjunto de dados)"
   ]
  },
  {
   "cell_type": "code",
   "execution_count": null,
   "id": "blank-gnome",
   "metadata": {},
   "outputs": [],
   "source": [
    "for index, row in dataframe.head(10).iterrows(): # iterows retorna uma tupla --> (index, row)\n",
    "    print(f'INDICE: {index}, LINHA:\\n{row}')"
   ]
  },
  {
   "cell_type": "code",
   "execution_count": null,
   "id": "1612d474",
   "metadata": {},
   "outputs": [],
   "source": [
    "# como selecionar uma linha baseado no valor de uma coluna\n",
    "menor_preco_revenda = dataframe['PREÇO MÉDIO REVENDA'].min()\n",
    "dataframe.loc[dataframe['PREÇO MÉDIO REVENDA'] == menor_preco_revenda]"
   ]
  },
  {
   "cell_type": "code",
   "execution_count": null,
   "id": "01faa05d",
   "metadata": {},
   "outputs": [],
   "source": [
    "# usando query fica mais direto ao ponto, porém precisamos saber usar a sintaxe correta\n",
    "dataframe.query('`PREÇO MÉDIO REVENDA` == @menor_preco_revenda')"
   ]
  },
  {
   "cell_type": "markdown",
   "id": "treated-summer",
   "metadata": {},
   "source": [
    "<h2>2. Preparação dos dados</h2>\n",
    "<hr/>"
   ]
  },
  {
   "cell_type": "markdown",
   "id": "enclosed-nicholas",
   "metadata": {},
   "source": [
    "### 2.1 Removendo amostras com valores vazios (null / nan) no dataset"
   ]
  },
  {
   "cell_type": "code",
   "execution_count": null,
   "id": "aware-shooting",
   "metadata": {},
   "outputs": [],
   "source": [
    "dataframe.info()"
   ]
  },
  {
   "cell_type": "markdown",
   "id": "determined-friendly",
   "metadata": {},
   "source": [
    "De um total de 106823 observações, **não há valores null** / nan para nenhum atributo. Mas, veremos que não é bem assim neste caso específico.<br/><br/>"
   ]
  },
  {
   "cell_type": "markdown",
   "id": "graduate-charger",
   "metadata": {},
   "source": [
    "### 2.2 Conversão de tipos de atributos"
   ]
  },
  {
   "cell_type": "markdown",
   "id": "sharp-explanation",
   "metadata": {},
   "source": [
    "O pandas automaticamente reconhece os tipos de dados de cada coluna. <br/>\n",
    "Porém, existem alguns atributos que estão com seus tipos errados: P. ex., \"PREÇO MÉDIO DISTRIBUIÇÃO\" deveria ser ```float64``` e não ```object```.<br/>\n",
    "Nestes casos, muito provavelmente algumas amostras têm um string ao invés de um número para tais atributos. <br/>\n",
    "\n",
    "Os atributos *\"DATA INICIAL\"* e *\"DATA FINAL\"* deveriam ser do tipo `datetime`.\n",
    "\n",
    "Em outros casos, alguns **atributos categóricos** são ```objects```, mas poderiam ter o tipo ```category```, que é um tipo especial do pandas. <br/>\n",
    "Este tipo é necessário para se utilizar algumas funções específicas do pandas. <br/>\n",
    "**Não** converteremos para este tipo por ora."
   ]
  },
  {
   "cell_type": "code",
   "execution_count": null,
   "id": "downtown-wiring",
   "metadata": {},
   "outputs": [],
   "source": [
    "# cria uma copia do dataframe para fazer o pré-processamento\n",
    "dataframe_copy = dataframe.copy()\n",
    "dataframe_copy.columns.unique()\n"
   ]
  },
  {
   "cell_type": "code",
   "execution_count": 222,
   "id": "a1d86160",
   "metadata": {},
   "outputs": [],
   "source": [
    "del dataframe_copy['Unnamed: 0']\n",
    "del dataframe_copy['NOVA COLUNA']\n",
    "del dataframe_copy['coluna a partir de lista']\n",
    "del dataframe_copy['PREÇO MÉDIO REVENDA AJUSTADO']\n",
    "del dataframe_copy['PREÇO MÉDIO REVENDA REAJUSTADO']"
   ]
  },
  {
   "cell_type": "markdown",
   "id": "blank-monday",
   "metadata": {},
   "source": [
    "#### **Datas**\n",
    "Como os atributos de data do datset já estão em um formato de data aceitável (YYYY-MM-DD), não precisamos forçar nenhuma conversão nesse sentido."
   ]
  },
  {
   "cell_type": "code",
   "execution_count": 223,
   "id": "fancy-copper",
   "metadata": {},
   "outputs": [],
   "source": [
    "dataframe_copy['DATA INICIAL'] = pd.to_datetime(dataframe_copy['DATA INICIAL'])\n",
    "dataframe_copy['DATA FINAL'] =  pd.to_datetime(dataframe_copy['DATA FINAL'])"
   ]
  },
  {
   "cell_type": "code",
   "execution_count": null,
   "id": "massive-draft",
   "metadata": {},
   "outputs": [],
   "source": [
    "dataframe_copy.info()"
   ]
  },
  {
   "cell_type": "markdown",
   "id": "interim-elimination",
   "metadata": {},
   "source": [
    "#### **Dados Numéricos**"
   ]
  },
  {
   "cell_type": "code",
   "execution_count": 225,
   "id": "about-membrane",
   "metadata": {},
   "outputs": [],
   "source": [
    "# convertendo atributos/colunas para 'numeric'\n",
    "for atributo in ['MARGEM MÉDIA REVENDA', 'PREÇO MÉDIO DISTRIBUIÇÃO', 'DESVIO PADRÃO DISTRIBUIÇÃO', 'PREÇO MÍNIMO DISTRIBUIÇÃO', 'PREÇO MÁXIMO DISTRIBUIÇÃO', 'COEF DE VARIAÇÃO DISTRIBUIÇÃO']:\n",
    "   # converte cada coluna de valores variados para um tipo numerico,\n",
    "   # em caso de erro na conversão (string que não representa número), um valor NaN será atribuido no lugar.\n",
    "   dataframe_copy[atributo] = pd.to_numeric(dataframe_copy[atributo], errors='coerce') "
   ]
  },
  {
   "cell_type": "markdown",
   "id": "e8f6cad2",
   "metadata": {},
   "source": [
    "### OBSERVE O .INFO()\n",
    "\n",
    "Não existirão valores vazios, e todos tipos foram modificados, porém se observarmos a quantidade de entries total e compararmos com algumas colunas, perceberemos que existem colunas que possuem valores nulos ou NaN."
   ]
  },
  {
   "cell_type": "code",
   "execution_count": null,
   "id": "expired-thumbnail",
   "metadata": {},
   "outputs": [],
   "source": [
    "dataframe_copy.info()"
   ]
  },
  {
   "cell_type": "markdown",
   "id": "operating-library",
   "metadata": {},
   "source": [
    "<br/>\n",
    "\n",
    "Note que temos vários valores ***null*** agora **após a *conversão de tipos***. Vamos checá-los com mais cuidado nos dados originais e preprocessados."
   ]
  },
  {
   "cell_type": "markdown",
   "id": "excess-smith",
   "metadata": {},
   "source": [
    "### 2.3 Limpeza de dados"
   ]
  },
  {
   "cell_type": "code",
   "execution_count": null,
   "id": "turkish-borough",
   "metadata": {},
   "outputs": [],
   "source": [
    "mask = dataframe_copy['PREÇO MÉDIO DISTRIBUIÇÃO'].isnull()\n",
    "mask"
   ]
  },
  {
   "cell_type": "code",
   "execution_count": null,
   "id": "rapid-ceremony",
   "metadata": {},
   "outputs": [],
   "source": [
    "dataframe_copy[mask]"
   ]
  },
  {
   "cell_type": "code",
   "execution_count": null,
   "id": "residential-wallet",
   "metadata": {},
   "outputs": [],
   "source": [
    "# verificar o que existia nestas colunas do dataset original\n",
    "\n",
    "'''\n",
    "Analisando veremos que na coluna preço médio de distribuição, originalmente, tínhamos um hífen neste campo, o que não é um dado numérico,\n",
    "esse tipo de ação gera um problema na hora do tratamento de valores, pois na funcao to_numeric() passamos um argumento chamado erros=coerce, que basicamente\n",
    "faz com que onde não foi possível converter o dado que seja colocado um NaN, que é exatamente este caso...\n",
    "'''\n",
    "dataframe[mask]"
   ]
  },
  {
   "cell_type": "markdown",
   "id": "general-found",
   "metadata": {},
   "source": [
    "Várias amostras possuem a _string '-'_ em algumas colunas ao invés de um número de fato. Ou seja, não há aferições destes atributos para estas amostras. <br/>\n",
    "\n",
    "<br/>\n",
    "\n",
    "Poderíamos **preencher os valores NaN com um valor padrão**. Para isso, basta usar o método `.fillna`."
   ]
  },
  {
   "cell_type": "code",
   "execution_count": 230,
   "id": "standing-significance",
   "metadata": {},
   "outputs": [],
   "source": [
    "# retorna uma cópia que substitui todos os NaN por um valor padrão, que neste caso estou passando 0.\n",
    "# para alterar  o próprio dataframe use o argumento inplace = true\n",
    "dataframe_copy_fill = dataframe_copy.fillna(0)"
   ]
  },
  {
   "cell_type": "code",
   "execution_count": null,
   "id": "fourth-smoke",
   "metadata": {},
   "outputs": [],
   "source": [
    "dataframe_copy_fill[mask]"
   ]
  },
  {
   "cell_type": "code",
   "execution_count": 232,
   "id": "specific-wings",
   "metadata": {},
   "outputs": [],
   "source": [
    "# usando o fillna() ainda podemos passar um dicionário contendo as colunas e os seus valores padrão,\n",
    "# de forma a personalizar o processamento\n",
    "\n",
    "dataframe_copy_fill = dataframe_copy.fillna(value={\n",
    "    'PREÇO MÉDIO DISTRIBUIÇÃO' : 10,\n",
    "    'DESVIO PADRÃO DISTRIBUIÇÃO': 20,\n",
    "    'PREÇO MÍNIMO DISTRIBUIÇÃO' : 30,\n",
    "    'PREÇO MÁXIMO DISTRIBUIÇÃO' : 'vazio'\n",
    "})\n",
    "\n"
   ]
  },
  {
   "cell_type": "code",
   "execution_count": null,
   "id": "hispanic-message",
   "metadata": {},
   "outputs": [],
   "source": [
    "dataframe_copy_fill[mask]"
   ]
  },
  {
   "cell_type": "markdown",
   "id": "altered-compatibility",
   "metadata": {},
   "source": [
    "<br/>\n",
    "\n",
    "Por mais que a função `fillna` seja interessante e útil em muitos casos, no problema em questão estamos interessados em analisar precisamente, p. ex., o **'PREÇO MÉDIO DISTRIBUIÇÃO'**.<br/>\n",
    "A fim de não termos valores _sintéticos_ gerados pelo `fillna`, que possam atrapalhar nossa análise, iremos **remover (drop) todas as amostras que possuem qualquer valor NaN** para quaisquer atributos/colunas. <br/>\n",
    "\n",
    "Para isso, basta utilizarmos o método `dropna`."
   ]
  },
  {
   "cell_type": "code",
   "execution_count": null,
   "id": "inclusive-shopper",
   "metadata": {},
   "outputs": [],
   "source": [
    "# remove no dataframe todas as linhas com valores NaN (vazios) em quaisquer colunas\n",
    "dataframe_copy.dropna(inplace=True)\n",
    "dataframe_copy"
   ]
  },
  {
   "cell_type": "code",
   "execution_count": null,
   "id": "superb-french",
   "metadata": {},
   "outputs": [],
   "source": [
    "dataframe_copy.info()"
   ]
  },
  {
   "cell_type": "markdown",
   "id": "bearing-peter",
   "metadata": {},
   "source": [
    "Nosso data frame agora, após essa _limpeza_, ficou mais enxuto, contentdo 103392 registros frente aos 106823 registros originais. <br/>\n",
    "\n",
    "Essas são apenas algumas das possíveis _técnicas de limpeza de dados_. Outras estratégias, p. ex., **confiam na detecção de outliers**, que não veremos neste curso."
   ]
  },
  {
   "cell_type": "markdown",
   "id": "bound-laser",
   "metadata": {},
   "source": [
    "#### **Salvando o Dataset Preprocessado**"
   ]
  },
  {
   "cell_type": "code",
   "execution_count": 238,
   "id": "hungarian-fantasy",
   "metadata": {},
   "outputs": [],
   "source": [
    "dataframe_copy.to_csv('./datasets/dataframe_processado.csv', sep=',', index=False)"
   ]
  },
  {
   "cell_type": "markdown",
   "id": "stock-cover",
   "metadata": {},
   "source": [
    "<h2>3. Estatísticas Descritivas</h2>\n",
    "<hr/>"
   ]
  },
  {
   "cell_type": "markdown",
   "id": "removed-republic",
   "metadata": {},
   "source": [
    "O Pandas fornecem algumas funções/métodos ue computam certas estatísticas descritivas."
   ]
  },
  {
   "cell_type": "markdown",
   "id": "contrary-heritage",
   "metadata": {},
   "source": [
    "`describe`: exibe várias **estatísticas descritivas** para os _atributos_ de um dataframe ou para uma _Series_."
   ]
  },
  {
   "cell_type": "code",
   "execution_count": 4,
   "id": "nasty-smart",
   "metadata": {},
   "outputs": [],
   "source": [
    "data_final = pd.read_csv('./datasets/dataframe_processado.csv')"
   ]
  },
  {
   "cell_type": "code",
   "execution_count": null,
   "id": "second-approach",
   "metadata": {},
   "outputs": [],
   "source": [
    "data_final"
   ]
  },
  {
   "cell_type": "markdown",
   "id": "straight-hamburg",
   "metadata": {},
   "source": [
    "<br/>\n",
    "\n",
    "Como o resultado do `describe` de um _dataframe_ é outro _dataframe_, podemos filtrar apenas algumas colunas."
   ]
  },
  {
   "cell_type": "code",
   "execution_count": null,
   "id": "complete-calvin",
   "metadata": {},
   "outputs": [],
   "source": [
    "# podemos pegar a descrição analítica de todo o dataframe\n",
    "describes = data_final.describe()\n",
    "describes"
   ]
  },
  {
   "cell_type": "code",
   "execution_count": null,
   "id": "6233bfc6",
   "metadata": {},
   "outputs": [],
   "source": [
    "# ou podemos pegar a descrição analítica de uma dada coluna\n",
    "data_final['PREÇO MÉDIO REVENDA'].describe()"
   ]
  },
  {
   "cell_type": "code",
   "execution_count": null,
   "id": "f0da85b8",
   "metadata": {},
   "outputs": [],
   "source": [
    "# selecionando somente as duas primeira linhas\n",
    "data_final.iloc[0:1].describe()"
   ]
  },
  {
   "cell_type": "code",
   "execution_count": null,
   "id": "varying-integrity",
   "metadata": {},
   "outputs": [],
   "source": [
    "combustivel_mais_barato = describes.loc[\"min\", \"PREÇO MÉDIO REVENDA\"]\n",
    "combustivel_mais_barato"
   ]
  },
  {
   "cell_type": "code",
   "execution_count": null,
   "id": "b0ddd467",
   "metadata": {},
   "outputs": [],
   "source": [
    "# aqui temos um método mais eficiente de acesso\n",
    "data_final[['PREÇO MÉDIO REVENDA', 'MARGEM MÉDIA REVENDA', 'NÚMERO DE POSTOS PESQUISADOS']].describe()"
   ]
  },
  {
   "cell_type": "code",
   "execution_count": null,
   "id": "sensitive-ocean",
   "metadata": {},
   "outputs": [],
   "source": [
    "describes.loc[['min','max','mean'], 'PREÇO MÉDIO REVENDA']"
   ]
  },
  {
   "cell_type": "code",
   "execution_count": null,
   "id": "e47a7c15",
   "metadata": {},
   "outputs": [],
   "source": [
    "describes.loc[['min','max','mean'], ['PREÇO MÉDIO REVENDA', 'PREÇO MÍNIMO REVENDA']]"
   ]
  },
  {
   "cell_type": "markdown",
   "id": "innocent-democrat",
   "metadata": {},
   "source": [
    "**Acessando apenas algumas estatísticas**"
   ]
  },
  {
   "cell_type": "markdown",
   "id": "built-congo",
   "metadata": {},
   "source": [
    "<br/>\n",
    "\n",
    "`mean`, `std`, `min`, etc: cada uma das estatísticas do `describe` podem ser computadas individualmente:"
   ]
  },
  {
   "cell_type": "code",
   "execution_count": null,
   "id": "forty-function",
   "metadata": {},
   "outputs": [],
   "source": [
    "data_final.head()"
   ]
  },
  {
   "cell_type": "markdown",
   "id": "employed-teach",
   "metadata": {},
   "source": [
    "#### Qual é o menor preço mínimo de revenda?"
   ]
  },
  {
   "cell_type": "code",
   "execution_count": null,
   "id": "broken-genius",
   "metadata": {},
   "outputs": [],
   "source": [
    "data_final['PREÇO MÍNIMO REVENDA'].min()"
   ]
  },
  {
   "cell_type": "markdown",
   "id": "normal-claim",
   "metadata": {},
   "source": [
    "#### Qual é a média e desvio padrão dos preços mínimos de revenda?"
   ]
  },
  {
   "cell_type": "code",
   "execution_count": null,
   "id": "successful-release",
   "metadata": {},
   "outputs": [],
   "source": [
    "mean = data_final['PREÇO MÍNIMO REVENDA'].mean()\n",
    "std = data_final['PREÇO MÍNIMO REVENDA'].std()\n",
    "\n",
    "print(f'a média dos preços mínimos de revenda é {mean:.2f} +- {std:.2f}')"
   ]
  },
  {
   "cell_type": "markdown",
   "id": "qualified-family",
   "metadata": {},
   "source": [
    "#### Quais são os estados considerados?"
   ]
  },
  {
   "cell_type": "code",
   "execution_count": null,
   "id": "exciting-assembly",
   "metadata": {},
   "outputs": [],
   "source": [
    "estados = list(data_final['ESTADO'].unique())\n",
    "sorted(estados)"
   ]
  },
  {
   "cell_type": "markdown",
   "id": "occasional-mistake",
   "metadata": {},
   "source": [
    "#### Quantos registros (aferições) cada estado possui?"
   ]
  },
  {
   "cell_type": "markdown",
   "id": "seven-atmosphere",
   "metadata": {},
   "source": [
    "`.value_counts()`:  Conta a frequência dos valores de uma dada variável (de preferência, _categórica_)."
   ]
  },
  {
   "cell_type": "code",
   "execution_count": null,
   "id": "adaptive-thumb",
   "metadata": {},
   "outputs": [],
   "source": [
    "data_final['ESTADO'].value_counts() # retorna em ordemd decrescente a quantidade de registros/linhas para cada atributo/coluna"
   ]
  },
  {
   "cell_type": "code",
   "execution_count": null,
   "id": "perfect-invasion",
   "metadata": {},
   "outputs": [],
   "source": [
    "# toda Series pode ser convertida para um dataframe\n",
    "qtd_estados = data_final['ESTADO'].value_counts().to_frame()\n",
    "qtd_estados= qtd_estados.rename(columns={\n",
    "    'count': 'QUANTIDADE'\n",
    "})\n",
    "\n",
    "qtd_estados"
   ]
  },
  {
   "cell_type": "markdown",
   "id": "ongoing-packaging",
   "metadata": {},
   "source": [
    "<h2>4. Executando funções para cada item de um DataFrame ou Series</h2>\n",
    "<hr/>"
   ]
  },
  {
   "cell_type": "markdown",
   "id": "necessary-start",
   "metadata": {},
   "source": [
    "Uma alternativa ao `for-loop` que vimos anteriormente e que é _lento_, é usarmos _funções próprias do pandas_ que **aplicam/mapeiam uma dada função a todos os elementos de um DataFrame ou Series**, retornando novos elementos \"transformados\".\n"
   ]
  },
  {
   "cell_type": "markdown",
   "id": "dutch-yugoslavia",
   "metadata": {},
   "source": [
    "<img src='./imagens/apply_map_applymap.png' width=300/>\n",
    "\n",
    "\n",
    "Fonte: https://towardsdatascience.com/introduction-to-pandas-apply-applymap-and-map-5d3e044e93ff"
   ]
  },
  {
   "cell_type": "code",
   "execution_count": 19,
   "id": "comparative-mexican",
   "metadata": {},
   "outputs": [],
   "source": [
    "df = pd.DataFrame({ 'A': [1, 2, 3, 4], \n",
    "                    'B': [10, 20, 30, 40],\n",
    "                    'C': [100, 200, 300, 400]}, \n",
    "                     index=['Linha 1', 'Linha 2', 'Linha 3', 'Linha 4'])"
   ]
  },
  {
   "cell_type": "code",
   "execution_count": null,
   "id": "spiritual-boutique",
   "metadata": {},
   "outputs": [],
   "source": [
    "df"
   ]
  },
  {
   "cell_type": "markdown",
   "id": "absent-salmon",
   "metadata": {},
   "source": [
    "`apply()`: usado para aplicar uma função ao longo de um eixo de um DataFrame ou em valores de uma Series."
   ]
  },
  {
   "cell_type": "markdown",
   "id": "authorized-documentation",
   "metadata": {},
   "source": [
    "<img src='./imagens/pandas_axis.jpg' width=500/>\n",
    "\n",
    "Fonte: https://www.allthesnippets.com/browse/pandas/df_axis.html"
   ]
  },
  {
   "cell_type": "code",
   "execution_count": 21,
   "id": "chronic-behavior",
   "metadata": {},
   "outputs": [],
   "source": [
    "def nossa_soma(linha):\n",
    "    return linha.sum() # retorna a soma de toda a linha"
   ]
  },
  {
   "cell_type": "code",
   "execution_count": null,
   "id": "dangerous-adult",
   "metadata": {},
   "outputs": [],
   "source": [
    "df.apply(nossa_soma, axis=1)"
   ]
  },
  {
   "cell_type": "code",
   "execution_count": null,
   "id": "f9f06d46",
   "metadata": {},
   "outputs": [],
   "source": [
    "df['SOMA (A,B,C)'] = df.apply(nossa_soma, axis=1)\n",
    "df"
   ]
  },
  {
   "cell_type": "markdown",
   "id": "following-tuner",
   "metadata": {},
   "source": [
    "<img src='./imagens/apply_axis_1.png' width=250/>"
   ]
  },
  {
   "cell_type": "code",
   "execution_count": null,
   "id": "economic-conviction",
   "metadata": {},
   "outputs": [],
   "source": [
    "df.loc['linha 5'] = df.apply(nossa_soma, axis=0)\n",
    "df"
   ]
  },
  {
   "cell_type": "markdown",
   "id": "psychological-acrobat",
   "metadata": {},
   "source": [
    "<img src='./imagens/apply_axis_0.png' width=250/>"
   ]
  },
  {
   "cell_type": "markdown",
   "id": "pursuant-metallic",
   "metadata": {},
   "source": [
    "##### Usando `lambda` functions"
   ]
  },
  {
   "cell_type": "code",
   "execution_count": 32,
   "id": "composed-summit",
   "metadata": {},
   "outputs": [],
   "source": [
    "df['MEDIA (A,B,C)'] = df[['A','B','C']].apply(lambda series: series.mean(), axis=1)\n"
   ]
  },
  {
   "cell_type": "markdown",
   "id": "expensive-thunder",
   "metadata": {},
   "source": [
    "<img src='./imagens/apply_axis_1_mean.png' width=350/>"
   ]
  },
  {
   "cell_type": "code",
   "execution_count": null,
   "id": "included-realtor",
   "metadata": {},
   "outputs": [],
   "source": [
    "# aplicando a lambda em outro exemplo, aplicando o quadrado de cada elemento da series\n",
    "df['A^2'] = df[['A']].apply(lambda x: x**2, axis=0)\n",
    "df"
   ]
  },
  {
   "cell_type": "markdown",
   "id": "respective-broadcasting",
   "metadata": {},
   "source": [
    "<br/>\n",
    "\n",
    "`applymap()`: usado para aplicar uma função para **cada elemento** (_element-wise_) de um DataFrame.\n",
    "\n",
    "**SÓ FUNCIONA COM DATAFRAMES**"
   ]
  },
  {
   "cell_type": "code",
   "execution_count": 44,
   "id": "hourly-affairs",
   "metadata": {},
   "outputs": [],
   "source": [
    "df = pd.DataFrame({ 'A': [1, 2, 3, 4], \n",
    "                    'B': [10, 20, 30, 40],\n",
    "                    'C': [100, 200, 300, 400]}, \n",
    "                     index=['Linha 1', 'Linha 2', 'Linha 3', 'Linha 4'])\n"
   ]
  },
  {
   "cell_type": "code",
   "execution_count": null,
   "id": "strong-subcommittee",
   "metadata": {},
   "outputs": [],
   "source": [
    "# funciona da mesma forma que a função anterior, porém só ser usada em dataframes\n",
    "# aplica uma função em todos elementos\n",
    "df.applymap(lambda x: x**2)\n"
   ]
  },
  {
   "cell_type": "markdown",
   "id": "close-female",
   "metadata": {},
   "source": [
    "<br/>\n",
    "\n",
    "`map()`: usado para aplicar uma função para **cada elemento** (_element-wise_) de uma **_Series_**."
   ]
  },
  {
   "cell_type": "code",
   "execution_count": null,
   "id": "unknown-mining",
   "metadata": {},
   "outputs": [],
   "source": [
    "nomes = pd.Series(['João', 'Maria', 'Alice', 'Pedro'])\n",
    "nomes"
   ]
  },
  {
   "cell_type": "code",
   "execution_count": null,
   "id": "exceptional-financing",
   "metadata": {},
   "outputs": [],
   "source": [
    "# retorna uma cópia da series, não faz a alteração inplace...\n",
    "nomes.map(lambda nome: nome.upper())"
   ]
  },
  {
   "cell_type": "code",
   "execution_count": null,
   "id": "1a88bd2f",
   "metadata": {},
   "outputs": [],
   "source": [
    "nomes.str.lower()\n",
    "nomes"
   ]
  },
  {
   "cell_type": "code",
   "execution_count": null,
   "id": "velvet-moment",
   "metadata": {},
   "outputs": [],
   "source": [
    "# O PANDAS JÁ FORNECE UMA SÉRIE DE MÉTODOS PARA MANIPULAÇÃO DE STRINGS, UMA DELAS É O MÉTODO ABAIXO.\n",
    "nomes.str.upper()"
   ]
  },
  {
   "cell_type": "markdown",
   "id": "increasing-intersection",
   "metadata": {},
   "source": [
    "<h2>5. Agrupamento</h2>\n",
    "<hr/>"
   ]
  },
  {
   "cell_type": "markdown",
   "id": "played-windsor",
   "metadata": {},
   "source": [
    "`groupby`: Usado para criar **grupo de elementos** (e.x., baseado nos valores de um atributo). <br/>\n",
    "**Funções** podem então ser aplicadas para os _elementos de cada grupo_, de modo que os **resultados de cada grupo são combinados**."
   ]
  },
  {
   "cell_type": "code",
   "execution_count": 2,
   "id": "expensive-field",
   "metadata": {},
   "outputs": [],
   "source": [
    "data_final = pd.read_csv('./datasets/dataframe_processado.csv', sep=',')"
   ]
  },
  {
   "cell_type": "code",
   "execution_count": null,
   "id": "standard-finish",
   "metadata": {},
   "outputs": [],
   "source": [
    "data_final.head()"
   ]
  },
  {
   "cell_type": "code",
   "execution_count": 4,
   "id": "failing-blackjack",
   "metadata": {},
   "outputs": [],
   "source": [
    "# retorna um objeto do tipo dataframegroup que é basicamente um agrupamento das informações a partir da coluna que passarmos\n",
    "# como parâmetro pra funcao groupby\n",
    "grupos = data_final.groupby('REGIÃO')"
   ]
  },
  {
   "cell_type": "code",
   "execution_count": null,
   "id": "filled-encoding",
   "metadata": {},
   "outputs": [],
   "source": [
    "# retorna um dicionário contendo os indices dos registros de cada região\n",
    "grupos.groups"
   ]
  },
  {
   "cell_type": "code",
   "execution_count": null,
   "id": "55cb2179",
   "metadata": {},
   "outputs": [],
   "source": [
    "# agora selecionamos uma única chave\n",
    "grupos.groups['SUL']\n"
   ]
  },
  {
   "cell_type": "code",
   "execution_count": null,
   "id": "c9333b4f",
   "metadata": {},
   "outputs": [],
   "source": [
    "grupos.groups.keys()"
   ]
  },
  {
   "cell_type": "code",
   "execution_count": null,
   "id": "b7d01f8d",
   "metadata": {},
   "outputs": [],
   "source": [
    "grupos.indices"
   ]
  },
  {
   "cell_type": "code",
   "execution_count": null,
   "id": "b2ba81ea",
   "metadata": {},
   "outputs": [],
   "source": [
    "# get_group permite pegar um dataframe específico a partir de um dado agrupamento\n",
    "grupos.get_group('CENTRO OESTE')"
   ]
  },
  {
   "cell_type": "markdown",
   "id": "charged-money",
   "metadata": {},
   "source": [
    "<br/>\n",
    "\n",
    "Também podemos ter agrupamentos por mais de um atributo."
   ]
  },
  {
   "cell_type": "code",
   "execution_count": null,
   "id": "legitimate-webster",
   "metadata": {},
   "outputs": [],
   "source": [
    "# descreva algumas estatísticas descritivas para os registros de cada grupo\n",
    "grupos.describe()"
   ]
  },
  {
   "cell_type": "code",
   "execution_count": null,
   "id": "nuclear-quarter",
   "metadata": {},
   "outputs": [],
   "source": [
    "grupos.min()"
   ]
  },
  {
   "cell_type": "code",
   "execution_count": null,
   "id": "7546794c",
   "metadata": {},
   "outputs": [],
   "source": [
    "data_final.info()\n",
    "data_final.fillna(0, inplace=True)"
   ]
  },
  {
   "cell_type": "code",
   "execution_count": null,
   "id": "future-tonight",
   "metadata": {},
   "outputs": [],
   "source": [
    "data_final.groupby('REGIÃO').max()"
   ]
  },
  {
   "cell_type": "code",
   "execution_count": null,
   "id": "6cd2a935",
   "metadata": {},
   "outputs": [],
   "source": [
    "data_final.head()"
   ]
  },
  {
   "cell_type": "markdown",
   "id": "749db43d",
   "metadata": {},
   "source": [
    "**QUAL É O PREÇO MÉDIO DE CADA COMBUSTIVEL PARA CADA REGIÃO?**\n"
   ]
  },
  {
   "cell_type": "code",
   "execution_count": null,
   "id": "3af57561",
   "metadata": {},
   "outputs": [],
   "source": [
    "grupos = data_final.groupby(['REGIÃO', 'PRODUTO'])\n",
    "data_final.info()"
   ]
  },
  {
   "cell_type": "code",
   "execution_count": null,
   "id": "00d5c587",
   "metadata": {},
   "outputs": [],
   "source": [
    "grupos.groups"
   ]
  },
  {
   "cell_type": "code",
   "execution_count": null,
   "id": "3b24d0be",
   "metadata": {},
   "outputs": [],
   "source": [
    "# verifiquemos quais colunas não são numéricas, aplicar a mean() em todo grupo geraria\n",
    "# um erro por conta destas colunas\n",
    "colunas_nao_numericas = data_final.select_dtypes(exclude='number').columns\n",
    "colunas_nao_numericas"
   ]
  },
  {
   "cell_type": "code",
   "execution_count": null,
   "id": "f1d14249",
   "metadata": {},
   "outputs": [],
   "source": [
    "# precisamos calcular a média excluindo as colunas categóricas ou descritivas\n",
    "colunas_numericas =  data_final.select_dtypes(include='number').columns\n",
    "colunas_numericas\n",
    "\n",
    "data_final.groupby(['REGIÃO', 'PRODUTO'])[colunas_numericas].mean()"
   ]
  },
  {
   "cell_type": "code",
   "execution_count": null,
   "id": "7c0db959",
   "metadata": {},
   "outputs": [],
   "source": [
    "grupos['PREÇO MÉDIO REVENDA'].mean()"
   ]
  },
  {
   "cell_type": "code",
   "execution_count": null,
   "id": "499a258c",
   "metadata": {},
   "outputs": [],
   "source": [
    "grupos['PREÇO MÉDIO REVENDA'].describe()"
   ]
  },
  {
   "cell_type": "markdown",
   "id": "sonic-running",
   "metadata": {},
   "source": [
    "<br/>\n",
    "\n",
    "`.agg`: **agrega (roda)** uma série de funções para os elementos de um dataframe ou de grupos de um dataframe."
   ]
  },
  {
   "cell_type": "code",
   "execution_count": null,
   "id": "challenging-stanford",
   "metadata": {},
   "outputs": [],
   "source": [
    "import numpy as np\n",
    "\n",
    "\n",
    "# REPARE QUE ESTA É UMA FORMA DIFERENTE DE CRIAR UM DATAFRAME, PODEMOS USAR UMA LISTA DE LISTAS, ONDE CADA SUBLISTA É UMA LINHA CONTENDO OS VALORES DAS COLUNAS\n",
    "\n",
    "df = pd.DataFrame([[1, 2, 3],\n",
    "                   [4, 5, 6],\n",
    "                   [7, 8, 9],\n",
    "                   [np.nan, np.nan, np.nan]],\n",
    "                  columns=['A', 'B', 'C'])\n",
    "df"
   ]
  },
  {
   "cell_type": "code",
   "execution_count": null,
   "id": "5def5c3a",
   "metadata": {},
   "outputs": [],
   "source": [
    "df.agg([pd.Series.sum, pd.Series.min])"
   ]
  },
  {
   "cell_type": "code",
   "execution_count": null,
   "id": "cce19fc7",
   "metadata": {},
   "outputs": [],
   "source": [
    "df.agg([pd.Series.sum, pd.Series.min], axis=1)"
   ]
  },
  {
   "cell_type": "code",
   "execution_count": null,
   "id": "3cd1bd11",
   "metadata": {},
   "outputs": [],
   "source": [
    "grupos = data_final.groupby('REGIÃO')\n",
    "grupos"
   ]
  },
  {
   "cell_type": "code",
   "execution_count": null,
   "id": "critical-analyst",
   "metadata": {},
   "outputs": [],
   "source": [
    "grupos['PREÇO MÉDIO REVENDA'].agg([pd.Series.min, pd.Series.max])"
   ]
  },
  {
   "cell_type": "markdown",
   "id": "grave-massage",
   "metadata": {},
   "source": [
    "<h2>6. Ordenação</h2>\n",
    "<hr/>"
   ]
  },
  {
   "cell_type": "code",
   "execution_count": null,
   "id": "increasing-delicious",
   "metadata": {},
   "outputs": [],
   "source": [
    "notas = pd.DataFrame({\n",
    "    'nome': ['João', 'Maria', 'José', 'Alice'],\n",
    "    'idade': [20, 21, 19, 20],\n",
    "    'nota_final': [5.0, 10.0, 6.0, 10.0]\n",
    "})\n",
    "notas"
   ]
  },
  {
   "cell_type": "markdown",
   "id": "harmful-director",
   "metadata": {},
   "source": [
    "`.sort_values()`: ordena valores ao longo de um eixo."
   ]
  },
  {
   "cell_type": "code",
   "execution_count": null,
   "id": "whole-allowance",
   "metadata": {},
   "outputs": [],
   "source": [
    "notas.sort_values(by='nota_final')"
   ]
  },
  {
   "cell_type": "markdown",
   "id": "american-blues",
   "metadata": {},
   "source": [
    "Por padrão, o método retorna uma cópia dos dados ordenados em **ordem crescente (ascendente)**. Podemos alterar isso pelo argumento `ascending`."
   ]
  },
  {
   "cell_type": "code",
   "execution_count": null,
   "id": "comparative-burke",
   "metadata": {},
   "outputs": [],
   "source": [
    "notas.sort_values(by='nota_final', ascending=False)"
   ]
  },
  {
   "cell_type": "markdown",
   "id": "previous-polls",
   "metadata": {},
   "source": [
    "<br/>\n",
    "\n",
    "Podemos ordenar a partir de **mais de uma coluna**:"
   ]
  },
  {
   "cell_type": "code",
   "execution_count": null,
   "id": "derived-saying",
   "metadata": {},
   "outputs": [],
   "source": [
    "# essa linha diz o seguinte: ordene as notas pela nota final e pelo nome, sendo que pela nota final eu quero que ordene do maior pro menor e pelo nome eu quero que ordene em ordem\n",
    "# alfabética, logo, para fazer isso usamos o argumento ascending que recebe uma lista que se refere à lista passada no by, cada indice do ascending é um indice do by, respeitando a posicao\n",
    "notas.sort_values(by=['nota_final', 'nome'], ascending=[False, True])\n",
    "#                                                  nota_final, nome\n"
   ]
  },
  {
   "cell_type": "markdown",
   "id": "experienced-husband",
   "metadata": {},
   "source": [
    "Ordena os registros, primeiramente, pela coluna 'nota_final' em **ordem descrente**. <br/>\n",
    "Então, reordena os registros _\"empatados\"_, ou seja, com a **mesma nota final**, em _ordem alfabética_ (ordem crescente)."
   ]
  },
  {
   "cell_type": "markdown",
   "id": "original-december",
   "metadata": {},
   "source": [
    "<br/>\n",
    "\n",
    "Note que o dataframe original **não foi alterado** após a ordenação."
   ]
  },
  {
   "cell_type": "code",
   "execution_count": null,
   "id": "numeric-vietnam",
   "metadata": {},
   "outputs": [],
   "source": [
    "notas"
   ]
  },
  {
   "cell_type": "markdown",
   "id": "focal-compact",
   "metadata": {},
   "source": [
    "Para alterá-lo, use o argumento `inplace=True`:"
   ]
  },
  {
   "cell_type": "code",
   "execution_count": 53,
   "id": "advanced-aberdeen",
   "metadata": {},
   "outputs": [],
   "source": [
    "notas.sort_values(by=['nota_final', 'nome'], ascending=[False, True], inplace=True)\n"
   ]
  },
  {
   "cell_type": "code",
   "execution_count": null,
   "id": "announced-genetics",
   "metadata": {},
   "outputs": [],
   "source": [
    "notas"
   ]
  },
  {
   "cell_type": "markdown",
   "id": "a81b8eab",
   "metadata": {},
   "source": [
    "**RESET DE INDICES**\n",
    "\n",
    "Repare que os indices ficam desordenados, para ordená-los se for interessante isso, usemos o método reset_index"
   ]
  },
  {
   "cell_type": "code",
   "execution_count": null,
   "id": "c80499c2",
   "metadata": {},
   "outputs": [],
   "source": [
    "notas.reset_index(drop=True)"
   ]
  },
  {
   "cell_type": "code",
   "execution_count": null,
   "id": "21171655",
   "metadata": {},
   "outputs": [],
   "source": [
    "notas.reset_index(inplace=True, drop=True)\n",
    "notas"
   ]
  },
  {
   "cell_type": "markdown",
   "id": "functional-clark",
   "metadata": {},
   "source": [
    "<h2>7. Exercícios</h2>\n",
    "<hr/>"
   ]
  },
  {
   "cell_type": "markdown",
   "id": "democratic-commonwealth",
   "metadata": {},
   "source": [
    "Vamos aplicar os conceitos que vimos em alguns exercícios. <br/>\n",
    "Para isso, utilizaremos o dataset de _preços de combustíveis no Brasil_.\n",
    "\n",
    "Como há apenas medições de janeiro a junho para o ano de 2019, resolvemos **remover os dados** deste ano da análise."
   ]
  },
  {
   "cell_type": "code",
   "execution_count": 183,
   "id": "cardiovascular-daily",
   "metadata": {},
   "outputs": [],
   "source": [
    "dataframe =  pd.read_csv('./datasets/dataframe_processado.csv', sep=',')"
   ]
  },
  {
   "cell_type": "code",
   "execution_count": 184,
   "id": "29b9567f",
   "metadata": {},
   "outputs": [
    {
     "name": "stdout",
     "output_type": "stream",
     "text": [
      "<class 'pandas.core.frame.DataFrame'>\n",
      "RangeIndex: 103392 entries, 0 to 103391\n",
      "Data columns (total 20 columns):\n",
      " #   Column                         Non-Null Count   Dtype  \n",
      "---  ------                         --------------   -----  \n",
      " 0   DATA INICIAL                   103392 non-null  object \n",
      " 1   DATA FINAL                     103392 non-null  object \n",
      " 2   REGIÃO                         103392 non-null  object \n",
      " 3   ESTADO                         103392 non-null  object \n",
      " 4   PRODUTO                        103392 non-null  object \n",
      " 5   NÚMERO DE POSTOS PESQUISADOS   103392 non-null  int64  \n",
      " 6   UNIDADE DE MEDIDA              103392 non-null  object \n",
      " 7   PREÇO MÉDIO REVENDA            103392 non-null  float64\n",
      " 8   DESVIO PADRÃO REVENDA          103392 non-null  float64\n",
      " 9   PREÇO MÍNIMO REVENDA           103392 non-null  float64\n",
      " 10  PREÇO MÁXIMO REVENDA           103392 non-null  float64\n",
      " 11  MARGEM MÉDIA REVENDA           103392 non-null  float64\n",
      " 12  COEF DE VARIAÇÃO REVENDA       103392 non-null  float64\n",
      " 13  PREÇO MÉDIO DISTRIBUIÇÃO       103392 non-null  float64\n",
      " 14  DESVIO PADRÃO DISTRIBUIÇÃO     103392 non-null  float64\n",
      " 15  PREÇO MÍNIMO DISTRIBUIÇÃO      103392 non-null  float64\n",
      " 16  PREÇO MÁXIMO DISTRIBUIÇÃO      103392 non-null  float64\n",
      " 17  COEF DE VARIAÇÃO DISTRIBUIÇÃO  103392 non-null  float64\n",
      " 18  MÊS                            103392 non-null  int64  \n",
      " 19  ANO                            103392 non-null  int64  \n",
      "dtypes: float64(11), int64(3), object(6)\n",
      "memory usage: 15.8+ MB\n"
     ]
    }
   ],
   "source": [
    "dataframe.info()"
   ]
  },
  {
   "cell_type": "code",
   "execution_count": 185,
   "id": "b0c4a898",
   "metadata": {},
   "outputs": [
    {
     "name": "stdout",
     "output_type": "stream",
     "text": [
      "<class 'pandas.core.frame.DataFrame'>\n",
      "RangeIndex: 103392 entries, 0 to 103391\n",
      "Data columns (total 20 columns):\n",
      " #   Column                         Non-Null Count   Dtype         \n",
      "---  ------                         --------------   -----         \n",
      " 0   DATA INICIAL                   103392 non-null  datetime64[ns]\n",
      " 1   DATA FINAL                     103392 non-null  datetime64[ns]\n",
      " 2   REGIÃO                         103392 non-null  object        \n",
      " 3   ESTADO                         103392 non-null  object        \n",
      " 4   PRODUTO                        103392 non-null  object        \n",
      " 5   NÚMERO DE POSTOS PESQUISADOS   103392 non-null  int64         \n",
      " 6   UNIDADE DE MEDIDA              103392 non-null  object        \n",
      " 7   PREÇO MÉDIO REVENDA            103392 non-null  float64       \n",
      " 8   DESVIO PADRÃO REVENDA          103392 non-null  float64       \n",
      " 9   PREÇO MÍNIMO REVENDA           103392 non-null  float64       \n",
      " 10  PREÇO MÁXIMO REVENDA           103392 non-null  float64       \n",
      " 11  MARGEM MÉDIA REVENDA           103392 non-null  float64       \n",
      " 12  COEF DE VARIAÇÃO REVENDA       103392 non-null  float64       \n",
      " 13  PREÇO MÉDIO DISTRIBUIÇÃO       103392 non-null  float64       \n",
      " 14  DESVIO PADRÃO DISTRIBUIÇÃO     103392 non-null  float64       \n",
      " 15  PREÇO MÍNIMO DISTRIBUIÇÃO      103392 non-null  float64       \n",
      " 16  PREÇO MÁXIMO DISTRIBUIÇÃO      103392 non-null  float64       \n",
      " 17  COEF DE VARIAÇÃO DISTRIBUIÇÃO  103392 non-null  float64       \n",
      " 18  MÊS                            103392 non-null  int64         \n",
      " 19  ANO                            103392 non-null  int64         \n",
      "dtypes: datetime64[ns](2), float64(11), int64(3), object(4)\n",
      "memory usage: 15.8+ MB\n"
     ]
    }
   ],
   "source": [
    "dataframe['DATA INICIAL'] = pd.to_datetime(dataframe['DATA INICIAL'])\n",
    "dataframe['DATA FINAL'] = pd.to_datetime(dataframe['DATA FINAL'])\n",
    "dataframe.info()\n"
   ]
  },
  {
   "cell_type": "code",
   "execution_count": 186,
   "id": "442597aa",
   "metadata": {},
   "outputs": [
    {
     "data": {
      "text/plain": [
       "array([2004, 2005, 2006, 2007, 2008, 2009, 2010, 2011, 2012, 2013, 2014,\n",
       "       2015, 2016, 2017, 2018])"
      ]
     },
     "execution_count": 186,
     "metadata": {},
     "output_type": "execute_result"
    }
   ],
   "source": [
    "# FORMA 1 DE RETIRAR O ANO DE 2019\n",
    "filtro = dataframe['ANO'] != 2019\n",
    "dataframe_filtrado = dataframe[filtro]\n",
    "dataframe_filtrado['ANO'].unique()"
   ]
  },
  {
   "cell_type": "code",
   "execution_count": 187,
   "id": "b1d9684c",
   "metadata": {},
   "outputs": [
    {
     "data": {
      "text/plain": [
       "array([2004, 2005, 2006, 2007, 2008, 2009, 2010, 2011, 2012, 2013, 2014,\n",
       "       2015, 2016, 2017, 2018])"
      ]
     },
     "execution_count": 187,
     "metadata": {},
     "output_type": "execute_result"
    }
   ],
   "source": [
    "# FORMA 2 DE RETIRAR O ANO DE 2019\n",
    "dataframe_filtrado = dataframe.query('ANO != 2019')\n",
    "dataframe_filtrado['ANO'].unique()"
   ]
  },
  {
   "cell_type": "code",
   "execution_count": 188,
   "id": "0c040131",
   "metadata": {},
   "outputs": [
    {
     "data": {
      "text/html": [
       "<div>\n",
       "<style scoped>\n",
       "    .dataframe tbody tr th:only-of-type {\n",
       "        vertical-align: middle;\n",
       "    }\n",
       "\n",
       "    .dataframe tbody tr th {\n",
       "        vertical-align: top;\n",
       "    }\n",
       "\n",
       "    .dataframe thead th {\n",
       "        text-align: right;\n",
       "    }\n",
       "</style>\n",
       "<table border=\"1\" class=\"dataframe\">\n",
       "  <thead>\n",
       "    <tr style=\"text-align: right;\">\n",
       "      <th></th>\n",
       "      <th>DATA INICIAL</th>\n",
       "      <th>DATA FINAL</th>\n",
       "      <th>REGIÃO</th>\n",
       "      <th>ESTADO</th>\n",
       "      <th>PRODUTO</th>\n",
       "      <th>NÚMERO DE POSTOS PESQUISADOS</th>\n",
       "      <th>UNIDADE DE MEDIDA</th>\n",
       "      <th>PREÇO MÉDIO REVENDA</th>\n",
       "      <th>DESVIO PADRÃO REVENDA</th>\n",
       "      <th>PREÇO MÍNIMO REVENDA</th>\n",
       "      <th>PREÇO MÁXIMO REVENDA</th>\n",
       "      <th>MARGEM MÉDIA REVENDA</th>\n",
       "      <th>COEF DE VARIAÇÃO REVENDA</th>\n",
       "      <th>PREÇO MÉDIO DISTRIBUIÇÃO</th>\n",
       "      <th>DESVIO PADRÃO DISTRIBUIÇÃO</th>\n",
       "      <th>PREÇO MÍNIMO DISTRIBUIÇÃO</th>\n",
       "      <th>PREÇO MÁXIMO DISTRIBUIÇÃO</th>\n",
       "      <th>COEF DE VARIAÇÃO DISTRIBUIÇÃO</th>\n",
       "      <th>MÊS</th>\n",
       "      <th>ANO</th>\n",
       "    </tr>\n",
       "  </thead>\n",
       "  <tbody>\n",
       "    <tr>\n",
       "      <th>0</th>\n",
       "      <td>2004-05-09</td>\n",
       "      <td>2004-05-15</td>\n",
       "      <td>CENTRO OESTE</td>\n",
       "      <td>DISTRITO FEDERAL</td>\n",
       "      <td>ETANOL HIDRATADO</td>\n",
       "      <td>127</td>\n",
       "      <td>R$/l</td>\n",
       "      <td>1.288</td>\n",
       "      <td>0.016</td>\n",
       "      <td>1.190</td>\n",
       "      <td>1.350</td>\n",
       "      <td>0.463</td>\n",
       "      <td>0.012</td>\n",
       "      <td>0.825</td>\n",
       "      <td>0.110</td>\n",
       "      <td>0.4201</td>\n",
       "      <td>0.96660</td>\n",
       "      <td>0.133</td>\n",
       "      <td>5</td>\n",
       "      <td>2004</td>\n",
       "    </tr>\n",
       "    <tr>\n",
       "      <th>1</th>\n",
       "      <td>2004-05-09</td>\n",
       "      <td>2004-05-15</td>\n",
       "      <td>CENTRO OESTE</td>\n",
       "      <td>GOIAS</td>\n",
       "      <td>ETANOL HIDRATADO</td>\n",
       "      <td>387</td>\n",
       "      <td>R$/l</td>\n",
       "      <td>1.162</td>\n",
       "      <td>0.114</td>\n",
       "      <td>0.890</td>\n",
       "      <td>1.449</td>\n",
       "      <td>0.399</td>\n",
       "      <td>0.098</td>\n",
       "      <td>0.763</td>\n",
       "      <td>0.088</td>\n",
       "      <td>0.5013</td>\n",
       "      <td>1.05000</td>\n",
       "      <td>0.115</td>\n",
       "      <td>5</td>\n",
       "      <td>2004</td>\n",
       "    </tr>\n",
       "    <tr>\n",
       "      <th>2</th>\n",
       "      <td>2004-05-09</td>\n",
       "      <td>2004-05-15</td>\n",
       "      <td>CENTRO OESTE</td>\n",
       "      <td>MATO GROSSO</td>\n",
       "      <td>ETANOL HIDRATADO</td>\n",
       "      <td>192</td>\n",
       "      <td>R$/l</td>\n",
       "      <td>1.389</td>\n",
       "      <td>0.097</td>\n",
       "      <td>1.180</td>\n",
       "      <td>1.760</td>\n",
       "      <td>0.419</td>\n",
       "      <td>0.070</td>\n",
       "      <td>0.970</td>\n",
       "      <td>0.095</td>\n",
       "      <td>0.5614</td>\n",
       "      <td>1.16100</td>\n",
       "      <td>0.098</td>\n",
       "      <td>5</td>\n",
       "      <td>2004</td>\n",
       "    </tr>\n",
       "    <tr>\n",
       "      <th>3</th>\n",
       "      <td>2004-05-09</td>\n",
       "      <td>2004-05-15</td>\n",
       "      <td>CENTRO OESTE</td>\n",
       "      <td>MATO GROSSO DO SUL</td>\n",
       "      <td>ETANOL HIDRATADO</td>\n",
       "      <td>162</td>\n",
       "      <td>R$/l</td>\n",
       "      <td>1.262</td>\n",
       "      <td>0.070</td>\n",
       "      <td>1.090</td>\n",
       "      <td>1.509</td>\n",
       "      <td>0.432</td>\n",
       "      <td>0.055</td>\n",
       "      <td>0.830</td>\n",
       "      <td>0.119</td>\n",
       "      <td>0.5991</td>\n",
       "      <td>1.22242</td>\n",
       "      <td>0.143</td>\n",
       "      <td>5</td>\n",
       "      <td>2004</td>\n",
       "    </tr>\n",
       "    <tr>\n",
       "      <th>4</th>\n",
       "      <td>2004-05-09</td>\n",
       "      <td>2004-05-15</td>\n",
       "      <td>NORDESTE</td>\n",
       "      <td>ALAGOAS</td>\n",
       "      <td>ETANOL HIDRATADO</td>\n",
       "      <td>103</td>\n",
       "      <td>R$/l</td>\n",
       "      <td>1.181</td>\n",
       "      <td>0.078</td>\n",
       "      <td>1.050</td>\n",
       "      <td>1.400</td>\n",
       "      <td>0.240</td>\n",
       "      <td>0.066</td>\n",
       "      <td>0.941</td>\n",
       "      <td>0.077</td>\n",
       "      <td>0.7441</td>\n",
       "      <td>1.03170</td>\n",
       "      <td>0.082</td>\n",
       "      <td>5</td>\n",
       "      <td>2004</td>\n",
       "    </tr>\n",
       "    <tr>\n",
       "      <th>...</th>\n",
       "      <td>...</td>\n",
       "      <td>...</td>\n",
       "      <td>...</td>\n",
       "      <td>...</td>\n",
       "      <td>...</td>\n",
       "      <td>...</td>\n",
       "      <td>...</td>\n",
       "      <td>...</td>\n",
       "      <td>...</td>\n",
       "      <td>...</td>\n",
       "      <td>...</td>\n",
       "      <td>...</td>\n",
       "      <td>...</td>\n",
       "      <td>...</td>\n",
       "      <td>...</td>\n",
       "      <td>...</td>\n",
       "      <td>...</td>\n",
       "      <td>...</td>\n",
       "      <td>...</td>\n",
       "      <td>...</td>\n",
       "    </tr>\n",
       "    <tr>\n",
       "      <th>99734</th>\n",
       "      <td>2018-12-30</td>\n",
       "      <td>2019-01-05</td>\n",
       "      <td>SUDESTE</td>\n",
       "      <td>RIO DE JANEIRO</td>\n",
       "      <td>GNV</td>\n",
       "      <td>122</td>\n",
       "      <td>R$/m3</td>\n",
       "      <td>3.080</td>\n",
       "      <td>0.262</td>\n",
       "      <td>2.798</td>\n",
       "      <td>3.999</td>\n",
       "      <td>0.699</td>\n",
       "      <td>0.085</td>\n",
       "      <td>2.381</td>\n",
       "      <td>0.161</td>\n",
       "      <td>2.1670</td>\n",
       "      <td>2.86970</td>\n",
       "      <td>0.068</td>\n",
       "      <td>12</td>\n",
       "      <td>2018</td>\n",
       "    </tr>\n",
       "    <tr>\n",
       "      <th>99735</th>\n",
       "      <td>2018-12-30</td>\n",
       "      <td>2019-01-05</td>\n",
       "      <td>NORDESTE</td>\n",
       "      <td>RIO GRANDE DO NORTE</td>\n",
       "      <td>GNV</td>\n",
       "      <td>10</td>\n",
       "      <td>R$/m3</td>\n",
       "      <td>3.465</td>\n",
       "      <td>0.060</td>\n",
       "      <td>3.370</td>\n",
       "      <td>3.590</td>\n",
       "      <td>0.759</td>\n",
       "      <td>0.017</td>\n",
       "      <td>2.706</td>\n",
       "      <td>0.000</td>\n",
       "      <td>2.7059</td>\n",
       "      <td>2.70590</td>\n",
       "      <td>0.000</td>\n",
       "      <td>12</td>\n",
       "      <td>2018</td>\n",
       "    </tr>\n",
       "    <tr>\n",
       "      <th>99736</th>\n",
       "      <td>2018-12-30</td>\n",
       "      <td>2019-01-05</td>\n",
       "      <td>SUL</td>\n",
       "      <td>RIO GRANDE DO SUL</td>\n",
       "      <td>GNV</td>\n",
       "      <td>16</td>\n",
       "      <td>R$/m3</td>\n",
       "      <td>3.402</td>\n",
       "      <td>0.103</td>\n",
       "      <td>3.199</td>\n",
       "      <td>3.499</td>\n",
       "      <td>1.296</td>\n",
       "      <td>0.030</td>\n",
       "      <td>2.106</td>\n",
       "      <td>0.249</td>\n",
       "      <td>1.8775</td>\n",
       "      <td>2.37240</td>\n",
       "      <td>0.118</td>\n",
       "      <td>12</td>\n",
       "      <td>2018</td>\n",
       "    </tr>\n",
       "    <tr>\n",
       "      <th>99737</th>\n",
       "      <td>2018-12-30</td>\n",
       "      <td>2019-01-05</td>\n",
       "      <td>SUL</td>\n",
       "      <td>SANTA CATARINA</td>\n",
       "      <td>GNV</td>\n",
       "      <td>15</td>\n",
       "      <td>R$/m3</td>\n",
       "      <td>2.944</td>\n",
       "      <td>0.124</td>\n",
       "      <td>2.790</td>\n",
       "      <td>3.199</td>\n",
       "      <td>0.670</td>\n",
       "      <td>0.042</td>\n",
       "      <td>2.274</td>\n",
       "      <td>0.283</td>\n",
       "      <td>1.8738</td>\n",
       "      <td>2.27400</td>\n",
       "      <td>0.124</td>\n",
       "      <td>12</td>\n",
       "      <td>2018</td>\n",
       "    </tr>\n",
       "    <tr>\n",
       "      <th>99738</th>\n",
       "      <td>2018-12-30</td>\n",
       "      <td>2019-01-05</td>\n",
       "      <td>SUDESTE</td>\n",
       "      <td>SAO PAULO</td>\n",
       "      <td>GNV</td>\n",
       "      <td>41</td>\n",
       "      <td>R$/m3</td>\n",
       "      <td>2.353</td>\n",
       "      <td>0.451</td>\n",
       "      <td>1.999</td>\n",
       "      <td>3.429</td>\n",
       "      <td>0.467</td>\n",
       "      <td>0.192</td>\n",
       "      <td>1.886</td>\n",
       "      <td>0.250</td>\n",
       "      <td>1.6400</td>\n",
       "      <td>2.33200</td>\n",
       "      <td>0.133</td>\n",
       "      <td>12</td>\n",
       "      <td>2018</td>\n",
       "    </tr>\n",
       "  </tbody>\n",
       "</table>\n",
       "<p>99739 rows × 20 columns</p>\n",
       "</div>"
      ],
      "text/plain": [
       "      DATA INICIAL DATA FINAL        REGIÃO               ESTADO  \\\n",
       "0       2004-05-09 2004-05-15  CENTRO OESTE     DISTRITO FEDERAL   \n",
       "1       2004-05-09 2004-05-15  CENTRO OESTE                GOIAS   \n",
       "2       2004-05-09 2004-05-15  CENTRO OESTE          MATO GROSSO   \n",
       "3       2004-05-09 2004-05-15  CENTRO OESTE   MATO GROSSO DO SUL   \n",
       "4       2004-05-09 2004-05-15      NORDESTE              ALAGOAS   \n",
       "...            ...        ...           ...                  ...   \n",
       "99734   2018-12-30 2019-01-05       SUDESTE       RIO DE JANEIRO   \n",
       "99735   2018-12-30 2019-01-05      NORDESTE  RIO GRANDE DO NORTE   \n",
       "99736   2018-12-30 2019-01-05           SUL    RIO GRANDE DO SUL   \n",
       "99737   2018-12-30 2019-01-05           SUL       SANTA CATARINA   \n",
       "99738   2018-12-30 2019-01-05       SUDESTE            SAO PAULO   \n",
       "\n",
       "                PRODUTO  NÚMERO DE POSTOS PESQUISADOS UNIDADE DE MEDIDA  \\\n",
       "0      ETANOL HIDRATADO                           127              R$/l   \n",
       "1      ETANOL HIDRATADO                           387              R$/l   \n",
       "2      ETANOL HIDRATADO                           192              R$/l   \n",
       "3      ETANOL HIDRATADO                           162              R$/l   \n",
       "4      ETANOL HIDRATADO                           103              R$/l   \n",
       "...                 ...                           ...               ...   \n",
       "99734               GNV                           122             R$/m3   \n",
       "99735               GNV                            10             R$/m3   \n",
       "99736               GNV                            16             R$/m3   \n",
       "99737               GNV                            15             R$/m3   \n",
       "99738               GNV                            41             R$/m3   \n",
       "\n",
       "       PREÇO MÉDIO REVENDA  DESVIO PADRÃO REVENDA  PREÇO MÍNIMO REVENDA  \\\n",
       "0                    1.288                  0.016                 1.190   \n",
       "1                    1.162                  0.114                 0.890   \n",
       "2                    1.389                  0.097                 1.180   \n",
       "3                    1.262                  0.070                 1.090   \n",
       "4                    1.181                  0.078                 1.050   \n",
       "...                    ...                    ...                   ...   \n",
       "99734                3.080                  0.262                 2.798   \n",
       "99735                3.465                  0.060                 3.370   \n",
       "99736                3.402                  0.103                 3.199   \n",
       "99737                2.944                  0.124                 2.790   \n",
       "99738                2.353                  0.451                 1.999   \n",
       "\n",
       "       PREÇO MÁXIMO REVENDA  MARGEM MÉDIA REVENDA  COEF DE VARIAÇÃO REVENDA  \\\n",
       "0                     1.350                 0.463                     0.012   \n",
       "1                     1.449                 0.399                     0.098   \n",
       "2                     1.760                 0.419                     0.070   \n",
       "3                     1.509                 0.432                     0.055   \n",
       "4                     1.400                 0.240                     0.066   \n",
       "...                     ...                   ...                       ...   \n",
       "99734                 3.999                 0.699                     0.085   \n",
       "99735                 3.590                 0.759                     0.017   \n",
       "99736                 3.499                 1.296                     0.030   \n",
       "99737                 3.199                 0.670                     0.042   \n",
       "99738                 3.429                 0.467                     0.192   \n",
       "\n",
       "       PREÇO MÉDIO DISTRIBUIÇÃO  DESVIO PADRÃO DISTRIBUIÇÃO  \\\n",
       "0                         0.825                       0.110   \n",
       "1                         0.763                       0.088   \n",
       "2                         0.970                       0.095   \n",
       "3                         0.830                       0.119   \n",
       "4                         0.941                       0.077   \n",
       "...                         ...                         ...   \n",
       "99734                     2.381                       0.161   \n",
       "99735                     2.706                       0.000   \n",
       "99736                     2.106                       0.249   \n",
       "99737                     2.274                       0.283   \n",
       "99738                     1.886                       0.250   \n",
       "\n",
       "       PREÇO MÍNIMO DISTRIBUIÇÃO  PREÇO MÁXIMO DISTRIBUIÇÃO  \\\n",
       "0                         0.4201                    0.96660   \n",
       "1                         0.5013                    1.05000   \n",
       "2                         0.5614                    1.16100   \n",
       "3                         0.5991                    1.22242   \n",
       "4                         0.7441                    1.03170   \n",
       "...                          ...                        ...   \n",
       "99734                     2.1670                    2.86970   \n",
       "99735                     2.7059                    2.70590   \n",
       "99736                     1.8775                    2.37240   \n",
       "99737                     1.8738                    2.27400   \n",
       "99738                     1.6400                    2.33200   \n",
       "\n",
       "       COEF DE VARIAÇÃO DISTRIBUIÇÃO  MÊS   ANO  \n",
       "0                              0.133    5  2004  \n",
       "1                              0.115    5  2004  \n",
       "2                              0.098    5  2004  \n",
       "3                              0.143    5  2004  \n",
       "4                              0.082    5  2004  \n",
       "...                              ...  ...   ...  \n",
       "99734                          0.068   12  2018  \n",
       "99735                          0.000   12  2018  \n",
       "99736                          0.118   12  2018  \n",
       "99737                          0.124   12  2018  \n",
       "99738                          0.133   12  2018  \n",
       "\n",
       "[99739 rows x 20 columns]"
      ]
     },
     "execution_count": 188,
     "metadata": {},
     "output_type": "execute_result"
    }
   ],
   "source": [
    "dataframe_filtrado"
   ]
  },
  {
   "cell_type": "markdown",
   "id": "mexican-guinea",
   "metadata": {},
   "source": [
    "Note que temos um novo dataframe com 99739 linhas, mas com índices fora desse intervalo. <br/>\n",
    "Acontece que os registros mantiveram seus índices originais após a query. <br/>\n",
    "\n",
    "Para resetar os índices de _0 a num_linhas-1_, basta usarmos o método `.reset_index()`. "
   ]
  },
  {
   "cell_type": "code",
   "execution_count": 189,
   "id": "combined-release",
   "metadata": {},
   "outputs": [],
   "source": [
    "dataframe_filtrado.reset_index(inplace=True, drop=True)"
   ]
  },
  {
   "cell_type": "markdown",
   "id": "transparent-cannon",
   "metadata": {},
   "source": [
    "Os índices agora foram **resetados**. Porém, os índices antigos se transformaram em _uma nova coluna_ chamada 'index'. <br/>\n",
    "Para removê-la durante o _reset_, basta passarmos o argumento `drop=True`."
   ]
  },
  {
   "cell_type": "code",
   "execution_count": 190,
   "id": "registered-walnut",
   "metadata": {},
   "outputs": [
    {
     "data": {
      "text/html": [
       "<div>\n",
       "<style scoped>\n",
       "    .dataframe tbody tr th:only-of-type {\n",
       "        vertical-align: middle;\n",
       "    }\n",
       "\n",
       "    .dataframe tbody tr th {\n",
       "        vertical-align: top;\n",
       "    }\n",
       "\n",
       "    .dataframe thead th {\n",
       "        text-align: right;\n",
       "    }\n",
       "</style>\n",
       "<table border=\"1\" class=\"dataframe\">\n",
       "  <thead>\n",
       "    <tr style=\"text-align: right;\">\n",
       "      <th></th>\n",
       "      <th>DATA INICIAL</th>\n",
       "      <th>DATA FINAL</th>\n",
       "      <th>REGIÃO</th>\n",
       "      <th>ESTADO</th>\n",
       "      <th>PRODUTO</th>\n",
       "      <th>NÚMERO DE POSTOS PESQUISADOS</th>\n",
       "      <th>UNIDADE DE MEDIDA</th>\n",
       "      <th>PREÇO MÉDIO REVENDA</th>\n",
       "      <th>DESVIO PADRÃO REVENDA</th>\n",
       "      <th>PREÇO MÍNIMO REVENDA</th>\n",
       "      <th>PREÇO MÁXIMO REVENDA</th>\n",
       "      <th>MARGEM MÉDIA REVENDA</th>\n",
       "      <th>COEF DE VARIAÇÃO REVENDA</th>\n",
       "      <th>PREÇO MÉDIO DISTRIBUIÇÃO</th>\n",
       "      <th>DESVIO PADRÃO DISTRIBUIÇÃO</th>\n",
       "      <th>PREÇO MÍNIMO DISTRIBUIÇÃO</th>\n",
       "      <th>PREÇO MÁXIMO DISTRIBUIÇÃO</th>\n",
       "      <th>COEF DE VARIAÇÃO DISTRIBUIÇÃO</th>\n",
       "      <th>MÊS</th>\n",
       "      <th>ANO</th>\n",
       "    </tr>\n",
       "  </thead>\n",
       "  <tbody>\n",
       "    <tr>\n",
       "      <th>0</th>\n",
       "      <td>2004-05-09</td>\n",
       "      <td>2004-05-15</td>\n",
       "      <td>CENTRO OESTE</td>\n",
       "      <td>DISTRITO FEDERAL</td>\n",
       "      <td>ETANOL HIDRATADO</td>\n",
       "      <td>127</td>\n",
       "      <td>R$/l</td>\n",
       "      <td>1.288</td>\n",
       "      <td>0.016</td>\n",
       "      <td>1.19</td>\n",
       "      <td>1.350</td>\n",
       "      <td>0.463</td>\n",
       "      <td>0.012</td>\n",
       "      <td>0.825</td>\n",
       "      <td>0.110</td>\n",
       "      <td>0.4201</td>\n",
       "      <td>0.96660</td>\n",
       "      <td>0.133</td>\n",
       "      <td>5</td>\n",
       "      <td>2004</td>\n",
       "    </tr>\n",
       "    <tr>\n",
       "      <th>1</th>\n",
       "      <td>2004-05-09</td>\n",
       "      <td>2004-05-15</td>\n",
       "      <td>CENTRO OESTE</td>\n",
       "      <td>GOIAS</td>\n",
       "      <td>ETANOL HIDRATADO</td>\n",
       "      <td>387</td>\n",
       "      <td>R$/l</td>\n",
       "      <td>1.162</td>\n",
       "      <td>0.114</td>\n",
       "      <td>0.89</td>\n",
       "      <td>1.449</td>\n",
       "      <td>0.399</td>\n",
       "      <td>0.098</td>\n",
       "      <td>0.763</td>\n",
       "      <td>0.088</td>\n",
       "      <td>0.5013</td>\n",
       "      <td>1.05000</td>\n",
       "      <td>0.115</td>\n",
       "      <td>5</td>\n",
       "      <td>2004</td>\n",
       "    </tr>\n",
       "    <tr>\n",
       "      <th>2</th>\n",
       "      <td>2004-05-09</td>\n",
       "      <td>2004-05-15</td>\n",
       "      <td>CENTRO OESTE</td>\n",
       "      <td>MATO GROSSO</td>\n",
       "      <td>ETANOL HIDRATADO</td>\n",
       "      <td>192</td>\n",
       "      <td>R$/l</td>\n",
       "      <td>1.389</td>\n",
       "      <td>0.097</td>\n",
       "      <td>1.18</td>\n",
       "      <td>1.760</td>\n",
       "      <td>0.419</td>\n",
       "      <td>0.070</td>\n",
       "      <td>0.970</td>\n",
       "      <td>0.095</td>\n",
       "      <td>0.5614</td>\n",
       "      <td>1.16100</td>\n",
       "      <td>0.098</td>\n",
       "      <td>5</td>\n",
       "      <td>2004</td>\n",
       "    </tr>\n",
       "    <tr>\n",
       "      <th>3</th>\n",
       "      <td>2004-05-09</td>\n",
       "      <td>2004-05-15</td>\n",
       "      <td>CENTRO OESTE</td>\n",
       "      <td>MATO GROSSO DO SUL</td>\n",
       "      <td>ETANOL HIDRATADO</td>\n",
       "      <td>162</td>\n",
       "      <td>R$/l</td>\n",
       "      <td>1.262</td>\n",
       "      <td>0.070</td>\n",
       "      <td>1.09</td>\n",
       "      <td>1.509</td>\n",
       "      <td>0.432</td>\n",
       "      <td>0.055</td>\n",
       "      <td>0.830</td>\n",
       "      <td>0.119</td>\n",
       "      <td>0.5991</td>\n",
       "      <td>1.22242</td>\n",
       "      <td>0.143</td>\n",
       "      <td>5</td>\n",
       "      <td>2004</td>\n",
       "    </tr>\n",
       "    <tr>\n",
       "      <th>4</th>\n",
       "      <td>2004-05-09</td>\n",
       "      <td>2004-05-15</td>\n",
       "      <td>NORDESTE</td>\n",
       "      <td>ALAGOAS</td>\n",
       "      <td>ETANOL HIDRATADO</td>\n",
       "      <td>103</td>\n",
       "      <td>R$/l</td>\n",
       "      <td>1.181</td>\n",
       "      <td>0.078</td>\n",
       "      <td>1.05</td>\n",
       "      <td>1.400</td>\n",
       "      <td>0.240</td>\n",
       "      <td>0.066</td>\n",
       "      <td>0.941</td>\n",
       "      <td>0.077</td>\n",
       "      <td>0.7441</td>\n",
       "      <td>1.03170</td>\n",
       "      <td>0.082</td>\n",
       "      <td>5</td>\n",
       "      <td>2004</td>\n",
       "    </tr>\n",
       "  </tbody>\n",
       "</table>\n",
       "</div>"
      ],
      "text/plain": [
       "  DATA INICIAL DATA FINAL        REGIÃO              ESTADO           PRODUTO  \\\n",
       "0   2004-05-09 2004-05-15  CENTRO OESTE    DISTRITO FEDERAL  ETANOL HIDRATADO   \n",
       "1   2004-05-09 2004-05-15  CENTRO OESTE               GOIAS  ETANOL HIDRATADO   \n",
       "2   2004-05-09 2004-05-15  CENTRO OESTE         MATO GROSSO  ETANOL HIDRATADO   \n",
       "3   2004-05-09 2004-05-15  CENTRO OESTE  MATO GROSSO DO SUL  ETANOL HIDRATADO   \n",
       "4   2004-05-09 2004-05-15      NORDESTE             ALAGOAS  ETANOL HIDRATADO   \n",
       "\n",
       "   NÚMERO DE POSTOS PESQUISADOS UNIDADE DE MEDIDA  PREÇO MÉDIO REVENDA  \\\n",
       "0                           127              R$/l                1.288   \n",
       "1                           387              R$/l                1.162   \n",
       "2                           192              R$/l                1.389   \n",
       "3                           162              R$/l                1.262   \n",
       "4                           103              R$/l                1.181   \n",
       "\n",
       "   DESVIO PADRÃO REVENDA  PREÇO MÍNIMO REVENDA  PREÇO MÁXIMO REVENDA  \\\n",
       "0                  0.016                  1.19                 1.350   \n",
       "1                  0.114                  0.89                 1.449   \n",
       "2                  0.097                  1.18                 1.760   \n",
       "3                  0.070                  1.09                 1.509   \n",
       "4                  0.078                  1.05                 1.400   \n",
       "\n",
       "   MARGEM MÉDIA REVENDA  COEF DE VARIAÇÃO REVENDA  PREÇO MÉDIO DISTRIBUIÇÃO  \\\n",
       "0                 0.463                     0.012                     0.825   \n",
       "1                 0.399                     0.098                     0.763   \n",
       "2                 0.419                     0.070                     0.970   \n",
       "3                 0.432                     0.055                     0.830   \n",
       "4                 0.240                     0.066                     0.941   \n",
       "\n",
       "   DESVIO PADRÃO DISTRIBUIÇÃO  PREÇO MÍNIMO DISTRIBUIÇÃO  \\\n",
       "0                       0.110                     0.4201   \n",
       "1                       0.088                     0.5013   \n",
       "2                       0.095                     0.5614   \n",
       "3                       0.119                     0.5991   \n",
       "4                       0.077                     0.7441   \n",
       "\n",
       "   PREÇO MÁXIMO DISTRIBUIÇÃO  COEF DE VARIAÇÃO DISTRIBUIÇÃO  MÊS   ANO  \n",
       "0                    0.96660                          0.133    5  2004  \n",
       "1                    1.05000                          0.115    5  2004  \n",
       "2                    1.16100                          0.098    5  2004  \n",
       "3                    1.22242                          0.143    5  2004  \n",
       "4                    1.03170                          0.082    5  2004  "
      ]
     },
     "execution_count": 190,
     "metadata": {},
     "output_type": "execute_result"
    }
   ],
   "source": [
    "dataframe_filtrado.head()"
   ]
  },
  {
   "cell_type": "markdown",
   "id": "worth-running",
   "metadata": {},
   "source": [
    "### 7.1 Qual a proporção de postos pesquisados para cada combustível em cada região"
   ]
  },
  {
   "cell_type": "code",
   "execution_count": 191,
   "id": "5606710f",
   "metadata": {},
   "outputs": [
    {
     "data": {
      "text/html": [
       "<div>\n",
       "<style scoped>\n",
       "    .dataframe tbody tr th:only-of-type {\n",
       "        vertical-align: middle;\n",
       "    }\n",
       "\n",
       "    .dataframe tbody tr th {\n",
       "        vertical-align: top;\n",
       "    }\n",
       "\n",
       "    .dataframe thead th {\n",
       "        text-align: right;\n",
       "    }\n",
       "</style>\n",
       "<table border=\"1\" class=\"dataframe\">\n",
       "  <thead>\n",
       "    <tr style=\"text-align: right;\">\n",
       "      <th></th>\n",
       "      <th>DATA INICIAL</th>\n",
       "      <th>DATA FINAL</th>\n",
       "      <th>REGIÃO</th>\n",
       "      <th>ESTADO</th>\n",
       "      <th>PRODUTO</th>\n",
       "      <th>NÚMERO DE POSTOS PESQUISADOS</th>\n",
       "      <th>UNIDADE DE MEDIDA</th>\n",
       "      <th>PREÇO MÉDIO REVENDA</th>\n",
       "      <th>DESVIO PADRÃO REVENDA</th>\n",
       "      <th>PREÇO MÍNIMO REVENDA</th>\n",
       "      <th>PREÇO MÁXIMO REVENDA</th>\n",
       "      <th>MARGEM MÉDIA REVENDA</th>\n",
       "      <th>COEF DE VARIAÇÃO REVENDA</th>\n",
       "      <th>PREÇO MÉDIO DISTRIBUIÇÃO</th>\n",
       "      <th>DESVIO PADRÃO DISTRIBUIÇÃO</th>\n",
       "      <th>PREÇO MÍNIMO DISTRIBUIÇÃO</th>\n",
       "      <th>PREÇO MÁXIMO DISTRIBUIÇÃO</th>\n",
       "      <th>COEF DE VARIAÇÃO DISTRIBUIÇÃO</th>\n",
       "      <th>MÊS</th>\n",
       "      <th>ANO</th>\n",
       "    </tr>\n",
       "  </thead>\n",
       "  <tbody>\n",
       "    <tr>\n",
       "      <th>0</th>\n",
       "      <td>2004-05-09</td>\n",
       "      <td>2004-05-15</td>\n",
       "      <td>CENTRO OESTE</td>\n",
       "      <td>DISTRITO FEDERAL</td>\n",
       "      <td>ETANOL HIDRATADO</td>\n",
       "      <td>127</td>\n",
       "      <td>R$/l</td>\n",
       "      <td>1.288</td>\n",
       "      <td>0.016</td>\n",
       "      <td>1.19</td>\n",
       "      <td>1.350</td>\n",
       "      <td>0.463</td>\n",
       "      <td>0.012</td>\n",
       "      <td>0.825</td>\n",
       "      <td>0.110</td>\n",
       "      <td>0.4201</td>\n",
       "      <td>0.96660</td>\n",
       "      <td>0.133</td>\n",
       "      <td>5</td>\n",
       "      <td>2004</td>\n",
       "    </tr>\n",
       "    <tr>\n",
       "      <th>1</th>\n",
       "      <td>2004-05-09</td>\n",
       "      <td>2004-05-15</td>\n",
       "      <td>CENTRO OESTE</td>\n",
       "      <td>GOIAS</td>\n",
       "      <td>ETANOL HIDRATADO</td>\n",
       "      <td>387</td>\n",
       "      <td>R$/l</td>\n",
       "      <td>1.162</td>\n",
       "      <td>0.114</td>\n",
       "      <td>0.89</td>\n",
       "      <td>1.449</td>\n",
       "      <td>0.399</td>\n",
       "      <td>0.098</td>\n",
       "      <td>0.763</td>\n",
       "      <td>0.088</td>\n",
       "      <td>0.5013</td>\n",
       "      <td>1.05000</td>\n",
       "      <td>0.115</td>\n",
       "      <td>5</td>\n",
       "      <td>2004</td>\n",
       "    </tr>\n",
       "    <tr>\n",
       "      <th>2</th>\n",
       "      <td>2004-05-09</td>\n",
       "      <td>2004-05-15</td>\n",
       "      <td>CENTRO OESTE</td>\n",
       "      <td>MATO GROSSO</td>\n",
       "      <td>ETANOL HIDRATADO</td>\n",
       "      <td>192</td>\n",
       "      <td>R$/l</td>\n",
       "      <td>1.389</td>\n",
       "      <td>0.097</td>\n",
       "      <td>1.18</td>\n",
       "      <td>1.760</td>\n",
       "      <td>0.419</td>\n",
       "      <td>0.070</td>\n",
       "      <td>0.970</td>\n",
       "      <td>0.095</td>\n",
       "      <td>0.5614</td>\n",
       "      <td>1.16100</td>\n",
       "      <td>0.098</td>\n",
       "      <td>5</td>\n",
       "      <td>2004</td>\n",
       "    </tr>\n",
       "    <tr>\n",
       "      <th>3</th>\n",
       "      <td>2004-05-09</td>\n",
       "      <td>2004-05-15</td>\n",
       "      <td>CENTRO OESTE</td>\n",
       "      <td>MATO GROSSO DO SUL</td>\n",
       "      <td>ETANOL HIDRATADO</td>\n",
       "      <td>162</td>\n",
       "      <td>R$/l</td>\n",
       "      <td>1.262</td>\n",
       "      <td>0.070</td>\n",
       "      <td>1.09</td>\n",
       "      <td>1.509</td>\n",
       "      <td>0.432</td>\n",
       "      <td>0.055</td>\n",
       "      <td>0.830</td>\n",
       "      <td>0.119</td>\n",
       "      <td>0.5991</td>\n",
       "      <td>1.22242</td>\n",
       "      <td>0.143</td>\n",
       "      <td>5</td>\n",
       "      <td>2004</td>\n",
       "    </tr>\n",
       "    <tr>\n",
       "      <th>4</th>\n",
       "      <td>2004-05-09</td>\n",
       "      <td>2004-05-15</td>\n",
       "      <td>NORDESTE</td>\n",
       "      <td>ALAGOAS</td>\n",
       "      <td>ETANOL HIDRATADO</td>\n",
       "      <td>103</td>\n",
       "      <td>R$/l</td>\n",
       "      <td>1.181</td>\n",
       "      <td>0.078</td>\n",
       "      <td>1.05</td>\n",
       "      <td>1.400</td>\n",
       "      <td>0.240</td>\n",
       "      <td>0.066</td>\n",
       "      <td>0.941</td>\n",
       "      <td>0.077</td>\n",
       "      <td>0.7441</td>\n",
       "      <td>1.03170</td>\n",
       "      <td>0.082</td>\n",
       "      <td>5</td>\n",
       "      <td>2004</td>\n",
       "    </tr>\n",
       "  </tbody>\n",
       "</table>\n",
       "</div>"
      ],
      "text/plain": [
       "  DATA INICIAL DATA FINAL        REGIÃO              ESTADO           PRODUTO  \\\n",
       "0   2004-05-09 2004-05-15  CENTRO OESTE    DISTRITO FEDERAL  ETANOL HIDRATADO   \n",
       "1   2004-05-09 2004-05-15  CENTRO OESTE               GOIAS  ETANOL HIDRATADO   \n",
       "2   2004-05-09 2004-05-15  CENTRO OESTE         MATO GROSSO  ETANOL HIDRATADO   \n",
       "3   2004-05-09 2004-05-15  CENTRO OESTE  MATO GROSSO DO SUL  ETANOL HIDRATADO   \n",
       "4   2004-05-09 2004-05-15      NORDESTE             ALAGOAS  ETANOL HIDRATADO   \n",
       "\n",
       "   NÚMERO DE POSTOS PESQUISADOS UNIDADE DE MEDIDA  PREÇO MÉDIO REVENDA  \\\n",
       "0                           127              R$/l                1.288   \n",
       "1                           387              R$/l                1.162   \n",
       "2                           192              R$/l                1.389   \n",
       "3                           162              R$/l                1.262   \n",
       "4                           103              R$/l                1.181   \n",
       "\n",
       "   DESVIO PADRÃO REVENDA  PREÇO MÍNIMO REVENDA  PREÇO MÁXIMO REVENDA  \\\n",
       "0                  0.016                  1.19                 1.350   \n",
       "1                  0.114                  0.89                 1.449   \n",
       "2                  0.097                  1.18                 1.760   \n",
       "3                  0.070                  1.09                 1.509   \n",
       "4                  0.078                  1.05                 1.400   \n",
       "\n",
       "   MARGEM MÉDIA REVENDA  COEF DE VARIAÇÃO REVENDA  PREÇO MÉDIO DISTRIBUIÇÃO  \\\n",
       "0                 0.463                     0.012                     0.825   \n",
       "1                 0.399                     0.098                     0.763   \n",
       "2                 0.419                     0.070                     0.970   \n",
       "3                 0.432                     0.055                     0.830   \n",
       "4                 0.240                     0.066                     0.941   \n",
       "\n",
       "   DESVIO PADRÃO DISTRIBUIÇÃO  PREÇO MÍNIMO DISTRIBUIÇÃO  \\\n",
       "0                       0.110                     0.4201   \n",
       "1                       0.088                     0.5013   \n",
       "2                       0.095                     0.5614   \n",
       "3                       0.119                     0.5991   \n",
       "4                       0.077                     0.7441   \n",
       "\n",
       "   PREÇO MÁXIMO DISTRIBUIÇÃO  COEF DE VARIAÇÃO DISTRIBUIÇÃO  MÊS   ANO  \n",
       "0                    0.96660                          0.133    5  2004  \n",
       "1                    1.05000                          0.115    5  2004  \n",
       "2                    1.16100                          0.098    5  2004  \n",
       "3                    1.22242                          0.143    5  2004  \n",
       "4                    1.03170                          0.082    5  2004  "
      ]
     },
     "execution_count": 191,
     "metadata": {},
     "output_type": "execute_result"
    }
   ],
   "source": [
    "dataframe_filtrado.head()"
   ]
  },
  {
   "cell_type": "code",
   "execution_count": 192,
   "id": "corrected-major",
   "metadata": {},
   "outputs": [
    {
     "data": {
      "text/html": [
       "<div>\n",
       "<style scoped>\n",
       "    .dataframe tbody tr th:only-of-type {\n",
       "        vertical-align: middle;\n",
       "    }\n",
       "\n",
       "    .dataframe tbody tr th {\n",
       "        vertical-align: top;\n",
       "    }\n",
       "\n",
       "    .dataframe thead th {\n",
       "        text-align: right;\n",
       "    }\n",
       "</style>\n",
       "<table border=\"1\" class=\"dataframe\">\n",
       "  <thead>\n",
       "    <tr style=\"text-align: right;\">\n",
       "      <th></th>\n",
       "      <th></th>\n",
       "      <th>NÚMERO DE POSTOS PESQUISADOS</th>\n",
       "    </tr>\n",
       "    <tr>\n",
       "      <th>PRODUTO</th>\n",
       "      <th>REGIÃO</th>\n",
       "      <th></th>\n",
       "    </tr>\n",
       "  </thead>\n",
       "  <tbody>\n",
       "    <tr>\n",
       "      <th rowspan=\"5\" valign=\"top\">ETANOL HIDRATADO</th>\n",
       "      <th>CENTRO OESTE</th>\n",
       "      <td>3022</td>\n",
       "    </tr>\n",
       "    <tr>\n",
       "      <th>NORDESTE</th>\n",
       "      <td>6821</td>\n",
       "    </tr>\n",
       "    <tr>\n",
       "      <th>NORTE</th>\n",
       "      <td>5021</td>\n",
       "    </tr>\n",
       "    <tr>\n",
       "      <th>SUDESTE</th>\n",
       "      <td>3039</td>\n",
       "    </tr>\n",
       "    <tr>\n",
       "      <th>SUL</th>\n",
       "      <td>2278</td>\n",
       "    </tr>\n",
       "    <tr>\n",
       "      <th rowspan=\"5\" valign=\"top\">GASOLINA COMUM</th>\n",
       "      <th>CENTRO OESTE</th>\n",
       "      <td>3034</td>\n",
       "    </tr>\n",
       "    <tr>\n",
       "      <th>NORDESTE</th>\n",
       "      <td>6838</td>\n",
       "    </tr>\n",
       "    <tr>\n",
       "      <th>NORTE</th>\n",
       "      <td>5289</td>\n",
       "    </tr>\n",
       "    <tr>\n",
       "      <th>SUDESTE</th>\n",
       "      <td>3040</td>\n",
       "    </tr>\n",
       "    <tr>\n",
       "      <th>SUL</th>\n",
       "      <td>2279</td>\n",
       "    </tr>\n",
       "    <tr>\n",
       "      <th rowspan=\"5\" valign=\"top\">GLP</th>\n",
       "      <th>CENTRO OESTE</th>\n",
       "      <td>2998</td>\n",
       "    </tr>\n",
       "    <tr>\n",
       "      <th>NORDESTE</th>\n",
       "      <td>6185</td>\n",
       "    </tr>\n",
       "    <tr>\n",
       "      <th>NORTE</th>\n",
       "      <td>5152</td>\n",
       "    </tr>\n",
       "    <tr>\n",
       "      <th>SUDESTE</th>\n",
       "      <td>3037</td>\n",
       "    </tr>\n",
       "    <tr>\n",
       "      <th>SUL</th>\n",
       "      <td>2268</td>\n",
       "    </tr>\n",
       "    <tr>\n",
       "      <th rowspan=\"5\" valign=\"top\">GNV</th>\n",
       "      <th>CENTRO OESTE</th>\n",
       "      <td>825</td>\n",
       "    </tr>\n",
       "    <tr>\n",
       "      <th>NORDESTE</th>\n",
       "      <td>5030</td>\n",
       "    </tr>\n",
       "    <tr>\n",
       "      <th>NORTE</th>\n",
       "      <td>233</td>\n",
       "    </tr>\n",
       "    <tr>\n",
       "      <th>SUDESTE</th>\n",
       "      <td>2772</td>\n",
       "    </tr>\n",
       "    <tr>\n",
       "      <th>SUL</th>\n",
       "      <td>1847</td>\n",
       "    </tr>\n",
       "    <tr>\n",
       "      <th rowspan=\"5\" valign=\"top\">ÓLEO DIESEL</th>\n",
       "      <th>CENTRO OESTE</th>\n",
       "      <td>3034</td>\n",
       "    </tr>\n",
       "    <tr>\n",
       "      <th>NORDESTE</th>\n",
       "      <td>6836</td>\n",
       "    </tr>\n",
       "    <tr>\n",
       "      <th>NORTE</th>\n",
       "      <td>5290</td>\n",
       "    </tr>\n",
       "    <tr>\n",
       "      <th>SUDESTE</th>\n",
       "      <td>3040</td>\n",
       "    </tr>\n",
       "    <tr>\n",
       "      <th>SUL</th>\n",
       "      <td>2279</td>\n",
       "    </tr>\n",
       "    <tr>\n",
       "      <th rowspan=\"5\" valign=\"top\">ÓLEO DIESEL S10</th>\n",
       "      <th>CENTRO OESTE</th>\n",
       "      <td>1110</td>\n",
       "    </tr>\n",
       "    <tr>\n",
       "      <th>NORDESTE</th>\n",
       "      <td>2807</td>\n",
       "    </tr>\n",
       "    <tr>\n",
       "      <th>NORTE</th>\n",
       "      <td>2149</td>\n",
       "    </tr>\n",
       "    <tr>\n",
       "      <th>SUDESTE</th>\n",
       "      <td>1249</td>\n",
       "    </tr>\n",
       "    <tr>\n",
       "      <th>SUL</th>\n",
       "      <td>937</td>\n",
       "    </tr>\n",
       "  </tbody>\n",
       "</table>\n",
       "</div>"
      ],
      "text/plain": [
       "                               NÚMERO DE POSTOS PESQUISADOS\n",
       "PRODUTO          REGIÃO                                    \n",
       "ETANOL HIDRATADO CENTRO OESTE                          3022\n",
       "                 NORDESTE                              6821\n",
       "                 NORTE                                 5021\n",
       "                 SUDESTE                               3039\n",
       "                 SUL                                   2278\n",
       "GASOLINA COMUM   CENTRO OESTE                          3034\n",
       "                 NORDESTE                              6838\n",
       "                 NORTE                                 5289\n",
       "                 SUDESTE                               3040\n",
       "                 SUL                                   2279\n",
       "GLP              CENTRO OESTE                          2998\n",
       "                 NORDESTE                              6185\n",
       "                 NORTE                                 5152\n",
       "                 SUDESTE                               3037\n",
       "                 SUL                                   2268\n",
       "GNV              CENTRO OESTE                           825\n",
       "                 NORDESTE                              5030\n",
       "                 NORTE                                  233\n",
       "                 SUDESTE                               2772\n",
       "                 SUL                                   1847\n",
       "ÓLEO DIESEL      CENTRO OESTE                          3034\n",
       "                 NORDESTE                              6836\n",
       "                 NORTE                                 5290\n",
       "                 SUDESTE                               3040\n",
       "                 SUL                                   2279\n",
       "ÓLEO DIESEL S10  CENTRO OESTE                          1110\n",
       "                 NORDESTE                              2807\n",
       "                 NORTE                                 2149\n",
       "                 SUDESTE                               1249\n",
       "                 SUL                                    937"
      ]
     },
     "execution_count": 192,
     "metadata": {},
     "output_type": "execute_result"
    }
   ],
   "source": [
    "grupos = dataframe_filtrado.groupby(['PRODUTO', 'REGIÃO'])\n",
    "grupos['NÚMERO DE POSTOS PESQUISADOS'].count().to_frame()"
   ]
  },
  {
   "cell_type": "markdown",
   "id": "improving-corporation",
   "metadata": {},
   "source": [
    "### 7.2 Como os preços da Gasolina Comum em São Paulo variaram em 2018?"
   ]
  },
  {
   "cell_type": "code",
   "execution_count": 163,
   "id": "e0be5cf2",
   "metadata": {},
   "outputs": [
    {
     "data": {
      "text/html": [
       "<div>\n",
       "<style scoped>\n",
       "    .dataframe tbody tr th:only-of-type {\n",
       "        vertical-align: middle;\n",
       "    }\n",
       "\n",
       "    .dataframe tbody tr th {\n",
       "        vertical-align: top;\n",
       "    }\n",
       "\n",
       "    .dataframe thead th {\n",
       "        text-align: right;\n",
       "    }\n",
       "</style>\n",
       "<table border=\"1\" class=\"dataframe\">\n",
       "  <thead>\n",
       "    <tr style=\"text-align: right;\">\n",
       "      <th></th>\n",
       "      <th>DATA INICIAL</th>\n",
       "      <th>DATA FINAL</th>\n",
       "      <th>REGIÃO</th>\n",
       "      <th>ESTADO</th>\n",
       "      <th>PRODUTO</th>\n",
       "      <th>NÚMERO DE POSTOS PESQUISADOS</th>\n",
       "      <th>UNIDADE DE MEDIDA</th>\n",
       "      <th>PREÇO MÉDIO REVENDA</th>\n",
       "      <th>DESVIO PADRÃO REVENDA</th>\n",
       "      <th>PREÇO MÍNIMO REVENDA</th>\n",
       "      <th>PREÇO MÁXIMO REVENDA</th>\n",
       "      <th>MARGEM MÉDIA REVENDA</th>\n",
       "      <th>COEF DE VARIAÇÃO REVENDA</th>\n",
       "      <th>PREÇO MÉDIO DISTRIBUIÇÃO</th>\n",
       "      <th>DESVIO PADRÃO DISTRIBUIÇÃO</th>\n",
       "      <th>PREÇO MÍNIMO DISTRIBUIÇÃO</th>\n",
       "      <th>PREÇO MÁXIMO DISTRIBUIÇÃO</th>\n",
       "      <th>COEF DE VARIAÇÃO DISTRIBUIÇÃO</th>\n",
       "      <th>MÊS</th>\n",
       "      <th>ANO</th>\n",
       "    </tr>\n",
       "  </thead>\n",
       "  <tbody>\n",
       "    <tr>\n",
       "      <th>0</th>\n",
       "      <td>2004-05-09</td>\n",
       "      <td>2004-05-15</td>\n",
       "      <td>CENTRO OESTE</td>\n",
       "      <td>DISTRITO FEDERAL</td>\n",
       "      <td>ETANOL HIDRATADO</td>\n",
       "      <td>127</td>\n",
       "      <td>R$/l</td>\n",
       "      <td>1.288</td>\n",
       "      <td>0.016</td>\n",
       "      <td>1.19</td>\n",
       "      <td>1.350</td>\n",
       "      <td>0.463</td>\n",
       "      <td>0.012</td>\n",
       "      <td>0.825</td>\n",
       "      <td>0.110</td>\n",
       "      <td>0.4201</td>\n",
       "      <td>0.96660</td>\n",
       "      <td>0.133</td>\n",
       "      <td>5</td>\n",
       "      <td>2004</td>\n",
       "    </tr>\n",
       "    <tr>\n",
       "      <th>1</th>\n",
       "      <td>2004-05-09</td>\n",
       "      <td>2004-05-15</td>\n",
       "      <td>CENTRO OESTE</td>\n",
       "      <td>GOIAS</td>\n",
       "      <td>ETANOL HIDRATADO</td>\n",
       "      <td>387</td>\n",
       "      <td>R$/l</td>\n",
       "      <td>1.162</td>\n",
       "      <td>0.114</td>\n",
       "      <td>0.89</td>\n",
       "      <td>1.449</td>\n",
       "      <td>0.399</td>\n",
       "      <td>0.098</td>\n",
       "      <td>0.763</td>\n",
       "      <td>0.088</td>\n",
       "      <td>0.5013</td>\n",
       "      <td>1.05000</td>\n",
       "      <td>0.115</td>\n",
       "      <td>5</td>\n",
       "      <td>2004</td>\n",
       "    </tr>\n",
       "    <tr>\n",
       "      <th>2</th>\n",
       "      <td>2004-05-09</td>\n",
       "      <td>2004-05-15</td>\n",
       "      <td>CENTRO OESTE</td>\n",
       "      <td>MATO GROSSO</td>\n",
       "      <td>ETANOL HIDRATADO</td>\n",
       "      <td>192</td>\n",
       "      <td>R$/l</td>\n",
       "      <td>1.389</td>\n",
       "      <td>0.097</td>\n",
       "      <td>1.18</td>\n",
       "      <td>1.760</td>\n",
       "      <td>0.419</td>\n",
       "      <td>0.070</td>\n",
       "      <td>0.970</td>\n",
       "      <td>0.095</td>\n",
       "      <td>0.5614</td>\n",
       "      <td>1.16100</td>\n",
       "      <td>0.098</td>\n",
       "      <td>5</td>\n",
       "      <td>2004</td>\n",
       "    </tr>\n",
       "    <tr>\n",
       "      <th>3</th>\n",
       "      <td>2004-05-09</td>\n",
       "      <td>2004-05-15</td>\n",
       "      <td>CENTRO OESTE</td>\n",
       "      <td>MATO GROSSO DO SUL</td>\n",
       "      <td>ETANOL HIDRATADO</td>\n",
       "      <td>162</td>\n",
       "      <td>R$/l</td>\n",
       "      <td>1.262</td>\n",
       "      <td>0.070</td>\n",
       "      <td>1.09</td>\n",
       "      <td>1.509</td>\n",
       "      <td>0.432</td>\n",
       "      <td>0.055</td>\n",
       "      <td>0.830</td>\n",
       "      <td>0.119</td>\n",
       "      <td>0.5991</td>\n",
       "      <td>1.22242</td>\n",
       "      <td>0.143</td>\n",
       "      <td>5</td>\n",
       "      <td>2004</td>\n",
       "    </tr>\n",
       "    <tr>\n",
       "      <th>4</th>\n",
       "      <td>2004-05-09</td>\n",
       "      <td>2004-05-15</td>\n",
       "      <td>NORDESTE</td>\n",
       "      <td>ALAGOAS</td>\n",
       "      <td>ETANOL HIDRATADO</td>\n",
       "      <td>103</td>\n",
       "      <td>R$/l</td>\n",
       "      <td>1.181</td>\n",
       "      <td>0.078</td>\n",
       "      <td>1.05</td>\n",
       "      <td>1.400</td>\n",
       "      <td>0.240</td>\n",
       "      <td>0.066</td>\n",
       "      <td>0.941</td>\n",
       "      <td>0.077</td>\n",
       "      <td>0.7441</td>\n",
       "      <td>1.03170</td>\n",
       "      <td>0.082</td>\n",
       "      <td>5</td>\n",
       "      <td>2004</td>\n",
       "    </tr>\n",
       "  </tbody>\n",
       "</table>\n",
       "</div>"
      ],
      "text/plain": [
       "  DATA INICIAL  DATA FINAL        REGIÃO              ESTADO  \\\n",
       "0   2004-05-09  2004-05-15  CENTRO OESTE    DISTRITO FEDERAL   \n",
       "1   2004-05-09  2004-05-15  CENTRO OESTE               GOIAS   \n",
       "2   2004-05-09  2004-05-15  CENTRO OESTE         MATO GROSSO   \n",
       "3   2004-05-09  2004-05-15  CENTRO OESTE  MATO GROSSO DO SUL   \n",
       "4   2004-05-09  2004-05-15      NORDESTE             ALAGOAS   \n",
       "\n",
       "            PRODUTO  NÚMERO DE POSTOS PESQUISADOS UNIDADE DE MEDIDA  \\\n",
       "0  ETANOL HIDRATADO                           127              R$/l   \n",
       "1  ETANOL HIDRATADO                           387              R$/l   \n",
       "2  ETANOL HIDRATADO                           192              R$/l   \n",
       "3  ETANOL HIDRATADO                           162              R$/l   \n",
       "4  ETANOL HIDRATADO                           103              R$/l   \n",
       "\n",
       "   PREÇO MÉDIO REVENDA  DESVIO PADRÃO REVENDA  PREÇO MÍNIMO REVENDA  \\\n",
       "0                1.288                  0.016                  1.19   \n",
       "1                1.162                  0.114                  0.89   \n",
       "2                1.389                  0.097                  1.18   \n",
       "3                1.262                  0.070                  1.09   \n",
       "4                1.181                  0.078                  1.05   \n",
       "\n",
       "   PREÇO MÁXIMO REVENDA  MARGEM MÉDIA REVENDA  COEF DE VARIAÇÃO REVENDA  \\\n",
       "0                 1.350                 0.463                     0.012   \n",
       "1                 1.449                 0.399                     0.098   \n",
       "2                 1.760                 0.419                     0.070   \n",
       "3                 1.509                 0.432                     0.055   \n",
       "4                 1.400                 0.240                     0.066   \n",
       "\n",
       "   PREÇO MÉDIO DISTRIBUIÇÃO  DESVIO PADRÃO DISTRIBUIÇÃO  \\\n",
       "0                     0.825                       0.110   \n",
       "1                     0.763                       0.088   \n",
       "2                     0.970                       0.095   \n",
       "3                     0.830                       0.119   \n",
       "4                     0.941                       0.077   \n",
       "\n",
       "   PREÇO MÍNIMO DISTRIBUIÇÃO  PREÇO MÁXIMO DISTRIBUIÇÃO  \\\n",
       "0                     0.4201                    0.96660   \n",
       "1                     0.5013                    1.05000   \n",
       "2                     0.5614                    1.16100   \n",
       "3                     0.5991                    1.22242   \n",
       "4                     0.7441                    1.03170   \n",
       "\n",
       "   COEF DE VARIAÇÃO DISTRIBUIÇÃO  MÊS   ANO  \n",
       "0                          0.133    5  2004  \n",
       "1                          0.115    5  2004  \n",
       "2                          0.098    5  2004  \n",
       "3                          0.143    5  2004  \n",
       "4                          0.082    5  2004  "
      ]
     },
     "execution_count": 163,
     "metadata": {},
     "output_type": "execute_result"
    }
   ],
   "source": [
    "dataframe_filtrado.head()"
   ]
  },
  {
   "cell_type": "code",
   "execution_count": 170,
   "id": "426e820a",
   "metadata": {},
   "outputs": [
    {
     "data": {
      "text/plain": [
       "array(['ETANOL HIDRATADO', 'GASOLINA COMUM', 'GLP', 'GNV', 'ÓLEO DIESEL',\n",
       "       'ÓLEO DIESEL S10'], dtype=object)"
      ]
     },
     "execution_count": 170,
     "metadata": {},
     "output_type": "execute_result"
    }
   ],
   "source": [
    "dataframe_filtrado['PRODUTO'].unique()"
   ]
  },
  {
   "cell_type": "code",
   "execution_count": 171,
   "id": "03a03560",
   "metadata": {},
   "outputs": [
    {
     "data": {
      "text/plain": [
       "array(['DISTRITO FEDERAL', 'GOIAS', 'MATO GROSSO', 'MATO GROSSO DO SUL',\n",
       "       'ALAGOAS', 'BAHIA', 'CEARA', 'MARANHAO', 'PARAIBA', 'PERNAMBUCO',\n",
       "       'PIAUI', 'RIO GRANDE DO NORTE', 'SERGIPE', 'ACRE', 'AMAPA',\n",
       "       'AMAZONAS', 'PARA', 'RONDONIA', 'RORAIMA', 'TOCANTINS',\n",
       "       'ESPIRITO SANTO', 'MINAS GERAIS', 'RIO DE JANEIRO', 'SAO PAULO',\n",
       "       'PARANA', 'RIO GRANDE DO SUL', 'SANTA CATARINA'], dtype=object)"
      ]
     },
     "execution_count": 171,
     "metadata": {},
     "output_type": "execute_result"
    }
   ],
   "source": [
    "dataframe_filtrado['ESTADO'].unique()"
   ]
  },
  {
   "cell_type": "code",
   "execution_count": 203,
   "id": "damaged-horse",
   "metadata": {},
   "outputs": [
    {
     "data": {
      "text/html": [
       "<div>\n",
       "<style scoped>\n",
       "    .dataframe tbody tr th:only-of-type {\n",
       "        vertical-align: middle;\n",
       "    }\n",
       "\n",
       "    .dataframe tbody tr th {\n",
       "        vertical-align: top;\n",
       "    }\n",
       "\n",
       "    .dataframe thead th {\n",
       "        text-align: right;\n",
       "    }\n",
       "</style>\n",
       "<table border=\"1\" class=\"dataframe\">\n",
       "  <thead>\n",
       "    <tr style=\"text-align: right;\">\n",
       "      <th></th>\n",
       "      <th>DATA INICIAL</th>\n",
       "      <th>DATA FINAL</th>\n",
       "      <th>REGIÃO</th>\n",
       "      <th>ESTADO</th>\n",
       "      <th>PRODUTO</th>\n",
       "      <th>NÚMERO DE POSTOS PESQUISADOS</th>\n",
       "      <th>UNIDADE DE MEDIDA</th>\n",
       "      <th>PREÇO MÉDIO REVENDA</th>\n",
       "      <th>DESVIO PADRÃO REVENDA</th>\n",
       "      <th>PREÇO MÍNIMO REVENDA</th>\n",
       "      <th>PREÇO MÁXIMO REVENDA</th>\n",
       "      <th>MARGEM MÉDIA REVENDA</th>\n",
       "      <th>COEF DE VARIAÇÃO REVENDA</th>\n",
       "      <th>PREÇO MÉDIO DISTRIBUIÇÃO</th>\n",
       "      <th>DESVIO PADRÃO DISTRIBUIÇÃO</th>\n",
       "      <th>PREÇO MÍNIMO DISTRIBUIÇÃO</th>\n",
       "      <th>PREÇO MÁXIMO DISTRIBUIÇÃO</th>\n",
       "      <th>COEF DE VARIAÇÃO DISTRIBUIÇÃO</th>\n",
       "      <th>MÊS</th>\n",
       "      <th>ANO</th>\n",
       "    </tr>\n",
       "  </thead>\n",
       "  <tbody>\n",
       "    <tr>\n",
       "      <th>92319</th>\n",
       "      <td>2018-01-07</td>\n",
       "      <td>2018-01-13</td>\n",
       "      <td>SUDESTE</td>\n",
       "      <td>SAO PAULO</td>\n",
       "      <td>GASOLINA COMUM</td>\n",
       "      <td>1641</td>\n",
       "      <td>R$/l</td>\n",
       "      <td>3.988</td>\n",
       "      <td>0.156</td>\n",
       "      <td>3.499</td>\n",
       "      <td>4.599</td>\n",
       "      <td>0.411</td>\n",
       "      <td>0.039</td>\n",
       "      <td>3.577</td>\n",
       "      <td>0.104</td>\n",
       "      <td>2.990</td>\n",
       "      <td>3.9510</td>\n",
       "      <td>0.029</td>\n",
       "      <td>1</td>\n",
       "      <td>2018</td>\n",
       "    </tr>\n",
       "    <tr>\n",
       "      <th>92465</th>\n",
       "      <td>2018-01-14</td>\n",
       "      <td>2018-01-20</td>\n",
       "      <td>SUDESTE</td>\n",
       "      <td>SAO PAULO</td>\n",
       "      <td>GASOLINA COMUM</td>\n",
       "      <td>1648</td>\n",
       "      <td>R$/l</td>\n",
       "      <td>4.002</td>\n",
       "      <td>0.155</td>\n",
       "      <td>3.549</td>\n",
       "      <td>4.499</td>\n",
       "      <td>0.412</td>\n",
       "      <td>0.039</td>\n",
       "      <td>3.590</td>\n",
       "      <td>0.102</td>\n",
       "      <td>2.990</td>\n",
       "      <td>3.9014</td>\n",
       "      <td>0.028</td>\n",
       "      <td>1</td>\n",
       "      <td>2018</td>\n",
       "    </tr>\n",
       "    <tr>\n",
       "      <th>92610</th>\n",
       "      <td>2018-01-21</td>\n",
       "      <td>2018-01-27</td>\n",
       "      <td>SUDESTE</td>\n",
       "      <td>SAO PAULO</td>\n",
       "      <td>GASOLINA COMUM</td>\n",
       "      <td>1648</td>\n",
       "      <td>R$/l</td>\n",
       "      <td>4.006</td>\n",
       "      <td>0.160</td>\n",
       "      <td>3.499</td>\n",
       "      <td>4.899</td>\n",
       "      <td>0.410</td>\n",
       "      <td>0.040</td>\n",
       "      <td>3.596</td>\n",
       "      <td>0.102</td>\n",
       "      <td>2.990</td>\n",
       "      <td>3.9014</td>\n",
       "      <td>0.028</td>\n",
       "      <td>1</td>\n",
       "      <td>2018</td>\n",
       "    </tr>\n",
       "    <tr>\n",
       "      <th>92755</th>\n",
       "      <td>2018-01-28</td>\n",
       "      <td>2018-02-03</td>\n",
       "      <td>SUDESTE</td>\n",
       "      <td>SAO PAULO</td>\n",
       "      <td>GASOLINA COMUM</td>\n",
       "      <td>1644</td>\n",
       "      <td>R$/l</td>\n",
       "      <td>4.019</td>\n",
       "      <td>0.156</td>\n",
       "      <td>3.579</td>\n",
       "      <td>4.699</td>\n",
       "      <td>0.423</td>\n",
       "      <td>0.039</td>\n",
       "      <td>3.596</td>\n",
       "      <td>0.107</td>\n",
       "      <td>2.924</td>\n",
       "      <td>3.9537</td>\n",
       "      <td>0.030</td>\n",
       "      <td>1</td>\n",
       "      <td>2018</td>\n",
       "    </tr>\n",
       "    <tr>\n",
       "      <th>92901</th>\n",
       "      <td>2018-02-04</td>\n",
       "      <td>2018-02-10</td>\n",
       "      <td>SUDESTE</td>\n",
       "      <td>SAO PAULO</td>\n",
       "      <td>GASOLINA COMUM</td>\n",
       "      <td>1646</td>\n",
       "      <td>R$/l</td>\n",
       "      <td>4.004</td>\n",
       "      <td>0.157</td>\n",
       "      <td>3.579</td>\n",
       "      <td>4.597</td>\n",
       "      <td>0.416</td>\n",
       "      <td>0.039</td>\n",
       "      <td>3.588</td>\n",
       "      <td>0.102</td>\n",
       "      <td>2.990</td>\n",
       "      <td>3.9537</td>\n",
       "      <td>0.028</td>\n",
       "      <td>2</td>\n",
       "      <td>2018</td>\n",
       "    </tr>\n",
       "  </tbody>\n",
       "</table>\n",
       "</div>"
      ],
      "text/plain": [
       "      DATA INICIAL DATA FINAL   REGIÃO     ESTADO         PRODUTO  \\\n",
       "92319   2018-01-07 2018-01-13  SUDESTE  SAO PAULO  GASOLINA COMUM   \n",
       "92465   2018-01-14 2018-01-20  SUDESTE  SAO PAULO  GASOLINA COMUM   \n",
       "92610   2018-01-21 2018-01-27  SUDESTE  SAO PAULO  GASOLINA COMUM   \n",
       "92755   2018-01-28 2018-02-03  SUDESTE  SAO PAULO  GASOLINA COMUM   \n",
       "92901   2018-02-04 2018-02-10  SUDESTE  SAO PAULO  GASOLINA COMUM   \n",
       "\n",
       "       NÚMERO DE POSTOS PESQUISADOS UNIDADE DE MEDIDA  PREÇO MÉDIO REVENDA  \\\n",
       "92319                          1641              R$/l                3.988   \n",
       "92465                          1648              R$/l                4.002   \n",
       "92610                          1648              R$/l                4.006   \n",
       "92755                          1644              R$/l                4.019   \n",
       "92901                          1646              R$/l                4.004   \n",
       "\n",
       "       DESVIO PADRÃO REVENDA  PREÇO MÍNIMO REVENDA  PREÇO MÁXIMO REVENDA  \\\n",
       "92319                  0.156                 3.499                 4.599   \n",
       "92465                  0.155                 3.549                 4.499   \n",
       "92610                  0.160                 3.499                 4.899   \n",
       "92755                  0.156                 3.579                 4.699   \n",
       "92901                  0.157                 3.579                 4.597   \n",
       "\n",
       "       MARGEM MÉDIA REVENDA  COEF DE VARIAÇÃO REVENDA  \\\n",
       "92319                 0.411                     0.039   \n",
       "92465                 0.412                     0.039   \n",
       "92610                 0.410                     0.040   \n",
       "92755                 0.423                     0.039   \n",
       "92901                 0.416                     0.039   \n",
       "\n",
       "       PREÇO MÉDIO DISTRIBUIÇÃO  DESVIO PADRÃO DISTRIBUIÇÃO  \\\n",
       "92319                     3.577                       0.104   \n",
       "92465                     3.590                       0.102   \n",
       "92610                     3.596                       0.102   \n",
       "92755                     3.596                       0.107   \n",
       "92901                     3.588                       0.102   \n",
       "\n",
       "       PREÇO MÍNIMO DISTRIBUIÇÃO  PREÇO MÁXIMO DISTRIBUIÇÃO  \\\n",
       "92319                      2.990                     3.9510   \n",
       "92465                      2.990                     3.9014   \n",
       "92610                      2.990                     3.9014   \n",
       "92755                      2.924                     3.9537   \n",
       "92901                      2.990                     3.9537   \n",
       "\n",
       "       COEF DE VARIAÇÃO DISTRIBUIÇÃO  MÊS   ANO  \n",
       "92319                          0.029    1  2018  \n",
       "92465                          0.028    1  2018  \n",
       "92610                          0.028    1  2018  \n",
       "92755                          0.030    1  2018  \n",
       "92901                          0.028    2  2018  "
      ]
     },
     "execution_count": 203,
     "metadata": {},
     "output_type": "execute_result"
    }
   ],
   "source": [
    "# FORMA 1 DE FAZER ISSO (SEM USAR QUERY) e da forma mais eficiente possível\n",
    "\n",
    "# primeiros pegamos todos os postos de SP\n",
    "filtro1 = dataframe_filtrado['ESTADO'] == 'SAO PAULO'\n",
    "postos_sp = dataframe_filtrado[filtro1]\n",
    "\n",
    "# depois pegamos somente o produto gasolina comum dos postos de são paulo\n",
    "filtro2 = postos_sp['PRODUTO'] == 'GASOLINA COMUM'\n",
    "postos_sp_gasolina_comum = postos_sp[filtro2]\n",
    "\n",
    "# agora dos postos de são paulo que vendem gasolina comum, pegamos somente os dados de 2018\n",
    "filtro3 = postos_sp_gasolina_comum['ANO'] == 2018\n",
    "postos_sp_gasolina_comum_2018 = postos_sp_gasolina_comum[filtro3]\n",
    "postos_sp_gasolina_comum_2018.head()\n"
   ]
  },
  {
   "cell_type": "code",
   "execution_count": 205,
   "id": "complicated-louis",
   "metadata": {},
   "outputs": [
    {
     "data": {
      "text/html": [
       "<div>\n",
       "<style scoped>\n",
       "    .dataframe tbody tr th:only-of-type {\n",
       "        vertical-align: middle;\n",
       "    }\n",
       "\n",
       "    .dataframe tbody tr th {\n",
       "        vertical-align: top;\n",
       "    }\n",
       "\n",
       "    .dataframe thead th {\n",
       "        text-align: right;\n",
       "    }\n",
       "</style>\n",
       "<table border=\"1\" class=\"dataframe\">\n",
       "  <thead>\n",
       "    <tr style=\"text-align: right;\">\n",
       "      <th></th>\n",
       "      <th>DATA INICIAL</th>\n",
       "      <th>DATA FINAL</th>\n",
       "      <th>REGIÃO</th>\n",
       "      <th>ESTADO</th>\n",
       "      <th>PRODUTO</th>\n",
       "      <th>NÚMERO DE POSTOS PESQUISADOS</th>\n",
       "      <th>UNIDADE DE MEDIDA</th>\n",
       "      <th>PREÇO MÉDIO REVENDA</th>\n",
       "      <th>DESVIO PADRÃO REVENDA</th>\n",
       "      <th>PREÇO MÍNIMO REVENDA</th>\n",
       "      <th>PREÇO MÁXIMO REVENDA</th>\n",
       "      <th>MARGEM MÉDIA REVENDA</th>\n",
       "      <th>COEF DE VARIAÇÃO REVENDA</th>\n",
       "      <th>PREÇO MÉDIO DISTRIBUIÇÃO</th>\n",
       "      <th>DESVIO PADRÃO DISTRIBUIÇÃO</th>\n",
       "      <th>PREÇO MÍNIMO DISTRIBUIÇÃO</th>\n",
       "      <th>PREÇO MÁXIMO DISTRIBUIÇÃO</th>\n",
       "      <th>COEF DE VARIAÇÃO DISTRIBUIÇÃO</th>\n",
       "      <th>MÊS</th>\n",
       "      <th>ANO</th>\n",
       "    </tr>\n",
       "  </thead>\n",
       "  <tbody>\n",
       "    <tr>\n",
       "      <th>92319</th>\n",
       "      <td>2018-01-07</td>\n",
       "      <td>2018-01-13</td>\n",
       "      <td>SUDESTE</td>\n",
       "      <td>SAO PAULO</td>\n",
       "      <td>GASOLINA COMUM</td>\n",
       "      <td>1641</td>\n",
       "      <td>R$/l</td>\n",
       "      <td>3.988</td>\n",
       "      <td>0.156</td>\n",
       "      <td>3.499</td>\n",
       "      <td>4.599</td>\n",
       "      <td>0.411</td>\n",
       "      <td>0.039</td>\n",
       "      <td>3.577</td>\n",
       "      <td>0.104</td>\n",
       "      <td>2.990</td>\n",
       "      <td>3.9510</td>\n",
       "      <td>0.029</td>\n",
       "      <td>1</td>\n",
       "      <td>2018</td>\n",
       "    </tr>\n",
       "    <tr>\n",
       "      <th>92465</th>\n",
       "      <td>2018-01-14</td>\n",
       "      <td>2018-01-20</td>\n",
       "      <td>SUDESTE</td>\n",
       "      <td>SAO PAULO</td>\n",
       "      <td>GASOLINA COMUM</td>\n",
       "      <td>1648</td>\n",
       "      <td>R$/l</td>\n",
       "      <td>4.002</td>\n",
       "      <td>0.155</td>\n",
       "      <td>3.549</td>\n",
       "      <td>4.499</td>\n",
       "      <td>0.412</td>\n",
       "      <td>0.039</td>\n",
       "      <td>3.590</td>\n",
       "      <td>0.102</td>\n",
       "      <td>2.990</td>\n",
       "      <td>3.9014</td>\n",
       "      <td>0.028</td>\n",
       "      <td>1</td>\n",
       "      <td>2018</td>\n",
       "    </tr>\n",
       "    <tr>\n",
       "      <th>92610</th>\n",
       "      <td>2018-01-21</td>\n",
       "      <td>2018-01-27</td>\n",
       "      <td>SUDESTE</td>\n",
       "      <td>SAO PAULO</td>\n",
       "      <td>GASOLINA COMUM</td>\n",
       "      <td>1648</td>\n",
       "      <td>R$/l</td>\n",
       "      <td>4.006</td>\n",
       "      <td>0.160</td>\n",
       "      <td>3.499</td>\n",
       "      <td>4.899</td>\n",
       "      <td>0.410</td>\n",
       "      <td>0.040</td>\n",
       "      <td>3.596</td>\n",
       "      <td>0.102</td>\n",
       "      <td>2.990</td>\n",
       "      <td>3.9014</td>\n",
       "      <td>0.028</td>\n",
       "      <td>1</td>\n",
       "      <td>2018</td>\n",
       "    </tr>\n",
       "    <tr>\n",
       "      <th>92755</th>\n",
       "      <td>2018-01-28</td>\n",
       "      <td>2018-02-03</td>\n",
       "      <td>SUDESTE</td>\n",
       "      <td>SAO PAULO</td>\n",
       "      <td>GASOLINA COMUM</td>\n",
       "      <td>1644</td>\n",
       "      <td>R$/l</td>\n",
       "      <td>4.019</td>\n",
       "      <td>0.156</td>\n",
       "      <td>3.579</td>\n",
       "      <td>4.699</td>\n",
       "      <td>0.423</td>\n",
       "      <td>0.039</td>\n",
       "      <td>3.596</td>\n",
       "      <td>0.107</td>\n",
       "      <td>2.924</td>\n",
       "      <td>3.9537</td>\n",
       "      <td>0.030</td>\n",
       "      <td>1</td>\n",
       "      <td>2018</td>\n",
       "    </tr>\n",
       "    <tr>\n",
       "      <th>92901</th>\n",
       "      <td>2018-02-04</td>\n",
       "      <td>2018-02-10</td>\n",
       "      <td>SUDESTE</td>\n",
       "      <td>SAO PAULO</td>\n",
       "      <td>GASOLINA COMUM</td>\n",
       "      <td>1646</td>\n",
       "      <td>R$/l</td>\n",
       "      <td>4.004</td>\n",
       "      <td>0.157</td>\n",
       "      <td>3.579</td>\n",
       "      <td>4.597</td>\n",
       "      <td>0.416</td>\n",
       "      <td>0.039</td>\n",
       "      <td>3.588</td>\n",
       "      <td>0.102</td>\n",
       "      <td>2.990</td>\n",
       "      <td>3.9537</td>\n",
       "      <td>0.028</td>\n",
       "      <td>2</td>\n",
       "      <td>2018</td>\n",
       "    </tr>\n",
       "  </tbody>\n",
       "</table>\n",
       "</div>"
      ],
      "text/plain": [
       "      DATA INICIAL DATA FINAL   REGIÃO     ESTADO         PRODUTO  \\\n",
       "92319   2018-01-07 2018-01-13  SUDESTE  SAO PAULO  GASOLINA COMUM   \n",
       "92465   2018-01-14 2018-01-20  SUDESTE  SAO PAULO  GASOLINA COMUM   \n",
       "92610   2018-01-21 2018-01-27  SUDESTE  SAO PAULO  GASOLINA COMUM   \n",
       "92755   2018-01-28 2018-02-03  SUDESTE  SAO PAULO  GASOLINA COMUM   \n",
       "92901   2018-02-04 2018-02-10  SUDESTE  SAO PAULO  GASOLINA COMUM   \n",
       "\n",
       "       NÚMERO DE POSTOS PESQUISADOS UNIDADE DE MEDIDA  PREÇO MÉDIO REVENDA  \\\n",
       "92319                          1641              R$/l                3.988   \n",
       "92465                          1648              R$/l                4.002   \n",
       "92610                          1648              R$/l                4.006   \n",
       "92755                          1644              R$/l                4.019   \n",
       "92901                          1646              R$/l                4.004   \n",
       "\n",
       "       DESVIO PADRÃO REVENDA  PREÇO MÍNIMO REVENDA  PREÇO MÁXIMO REVENDA  \\\n",
       "92319                  0.156                 3.499                 4.599   \n",
       "92465                  0.155                 3.549                 4.499   \n",
       "92610                  0.160                 3.499                 4.899   \n",
       "92755                  0.156                 3.579                 4.699   \n",
       "92901                  0.157                 3.579                 4.597   \n",
       "\n",
       "       MARGEM MÉDIA REVENDA  COEF DE VARIAÇÃO REVENDA  \\\n",
       "92319                 0.411                     0.039   \n",
       "92465                 0.412                     0.039   \n",
       "92610                 0.410                     0.040   \n",
       "92755                 0.423                     0.039   \n",
       "92901                 0.416                     0.039   \n",
       "\n",
       "       PREÇO MÉDIO DISTRIBUIÇÃO  DESVIO PADRÃO DISTRIBUIÇÃO  \\\n",
       "92319                     3.577                       0.104   \n",
       "92465                     3.590                       0.102   \n",
       "92610                     3.596                       0.102   \n",
       "92755                     3.596                       0.107   \n",
       "92901                     3.588                       0.102   \n",
       "\n",
       "       PREÇO MÍNIMO DISTRIBUIÇÃO  PREÇO MÁXIMO DISTRIBUIÇÃO  \\\n",
       "92319                      2.990                     3.9510   \n",
       "92465                      2.990                     3.9014   \n",
       "92610                      2.990                     3.9014   \n",
       "92755                      2.924                     3.9537   \n",
       "92901                      2.990                     3.9537   \n",
       "\n",
       "       COEF DE VARIAÇÃO DISTRIBUIÇÃO  MÊS   ANO  \n",
       "92319                          0.029    1  2018  \n",
       "92465                          0.028    1  2018  \n",
       "92610                          0.028    1  2018  \n",
       "92755                          0.030    1  2018  \n",
       "92901                          0.028    2  2018  "
      ]
     },
     "execution_count": 205,
     "metadata": {},
     "output_type": "execute_result"
    }
   ],
   "source": [
    "# FORMA 2 DE FAZER ISSO (SEM USAR QUERY) e de forma mais ineficiente, mais lenta, porém também válida\n",
    "\n",
    "filtro = (dataframe_filtrado['ESTADO'] == 'SAO PAULO') & (dataframe_filtrado['PRODUTO'] == 'GASOLINA COMUM') & (dataframe_filtrado['ANO'] == 2018)\n",
    "postos_sp_gasolina_comum_2018 = dataframe_filtrado[filtro]\n",
    "postos_sp_gasolina_comum_2018.head()"
   ]
  },
  {
   "cell_type": "code",
   "execution_count": 214,
   "id": "055b3a65",
   "metadata": {},
   "outputs": [
    {
     "data": {
      "text/plain": [
       "(52, 20)"
      ]
     },
     "execution_count": 214,
     "metadata": {},
     "output_type": "execute_result"
    }
   ],
   "source": [
    "# FORMA 3 DE FAZER ISSO, USANDO QUERY (muito mais simples, porém pode ser mais lento, e temos que nos atentar as aspas)\n",
    "postos_sp_gasolina_comum_2018 = dataframe_filtrado.query('ESTADO == \"SAO PAULO\" and PRODUTO == \"GASOLINA COMUM\" and ANO == 2018')\n",
    "postos_sp_gasolina_comum_2018.shape"
   ]
  },
  {
   "cell_type": "markdown",
   "id": "ecological-pavilion",
   "metadata": {},
   "source": [
    "#### **Estatísticas Descritivas**"
   ]
  },
  {
   "cell_type": "code",
   "execution_count": 215,
   "id": "scientific-acrylic",
   "metadata": {},
   "outputs": [
    {
     "data": {
      "text/html": [
       "<div>\n",
       "<style scoped>\n",
       "    .dataframe tbody tr th:only-of-type {\n",
       "        vertical-align: middle;\n",
       "    }\n",
       "\n",
       "    .dataframe tbody tr th {\n",
       "        vertical-align: top;\n",
       "    }\n",
       "\n",
       "    .dataframe thead th {\n",
       "        text-align: right;\n",
       "    }\n",
       "</style>\n",
       "<table border=\"1\" class=\"dataframe\">\n",
       "  <thead>\n",
       "    <tr style=\"text-align: right;\">\n",
       "      <th></th>\n",
       "      <th>DATA INICIAL</th>\n",
       "      <th>DATA FINAL</th>\n",
       "      <th>NÚMERO DE POSTOS PESQUISADOS</th>\n",
       "      <th>PREÇO MÉDIO REVENDA</th>\n",
       "      <th>DESVIO PADRÃO REVENDA</th>\n",
       "      <th>PREÇO MÍNIMO REVENDA</th>\n",
       "      <th>PREÇO MÁXIMO REVENDA</th>\n",
       "      <th>MARGEM MÉDIA REVENDA</th>\n",
       "      <th>COEF DE VARIAÇÃO REVENDA</th>\n",
       "      <th>PREÇO MÉDIO DISTRIBUIÇÃO</th>\n",
       "      <th>DESVIO PADRÃO DISTRIBUIÇÃO</th>\n",
       "      <th>PREÇO MÍNIMO DISTRIBUIÇÃO</th>\n",
       "      <th>PREÇO MÁXIMO DISTRIBUIÇÃO</th>\n",
       "      <th>COEF DE VARIAÇÃO DISTRIBUIÇÃO</th>\n",
       "      <th>MÊS</th>\n",
       "      <th>ANO</th>\n",
       "    </tr>\n",
       "  </thead>\n",
       "  <tbody>\n",
       "    <tr>\n",
       "      <th>count</th>\n",
       "      <td>52</td>\n",
       "      <td>52</td>\n",
       "      <td>52.000000</td>\n",
       "      <td>52.000000</td>\n",
       "      <td>52.000000</td>\n",
       "      <td>52.000000</td>\n",
       "      <td>52.000000</td>\n",
       "      <td>52.000000</td>\n",
       "      <td>52.000000</td>\n",
       "      <td>52.000000</td>\n",
       "      <td>52.000000</td>\n",
       "      <td>52.00000</td>\n",
       "      <td>52.000000</td>\n",
       "      <td>52.000000</td>\n",
       "      <td>52.000000</td>\n",
       "      <td>52.0</td>\n",
       "    </tr>\n",
       "    <tr>\n",
       "      <th>mean</th>\n",
       "      <td>2018-07-04 12:00:00</td>\n",
       "      <td>2018-07-10 12:00:00</td>\n",
       "      <td>1610.211538</td>\n",
       "      <td>4.202769</td>\n",
       "      <td>0.175500</td>\n",
       "      <td>3.671500</td>\n",
       "      <td>4.975750</td>\n",
       "      <td>0.442481</td>\n",
       "      <td>0.041750</td>\n",
       "      <td>3.760288</td>\n",
       "      <td>0.109654</td>\n",
       "      <td>3.31295</td>\n",
       "      <td>4.139454</td>\n",
       "      <td>0.029096</td>\n",
       "      <td>6.615385</td>\n",
       "      <td>2018.0</td>\n",
       "    </tr>\n",
       "    <tr>\n",
       "      <th>min</th>\n",
       "      <td>2018-01-07 00:00:00</td>\n",
       "      <td>2018-01-13 00:00:00</td>\n",
       "      <td>102.000000</td>\n",
       "      <td>3.970000</td>\n",
       "      <td>0.150000</td>\n",
       "      <td>3.369000</td>\n",
       "      <td>4.499000</td>\n",
       "      <td>0.366000</td>\n",
       "      <td>0.034000</td>\n",
       "      <td>3.563000</td>\n",
       "      <td>0.087000</td>\n",
       "      <td>2.92400</td>\n",
       "      <td>3.887500</td>\n",
       "      <td>0.023000</td>\n",
       "      <td>1.000000</td>\n",
       "      <td>2018.0</td>\n",
       "    </tr>\n",
       "    <tr>\n",
       "      <th>25%</th>\n",
       "      <td>2018-04-06 06:00:00</td>\n",
       "      <td>2018-04-12 06:00:00</td>\n",
       "      <td>1639.000000</td>\n",
       "      <td>4.008000</td>\n",
       "      <td>0.159750</td>\n",
       "      <td>3.499000</td>\n",
       "      <td>4.899000</td>\n",
       "      <td>0.404500</td>\n",
       "      <td>0.039000</td>\n",
       "      <td>3.620250</td>\n",
       "      <td>0.102000</td>\n",
       "      <td>2.99000</td>\n",
       "      <td>3.965775</td>\n",
       "      <td>0.028000</td>\n",
       "      <td>4.000000</td>\n",
       "      <td>2018.0</td>\n",
       "    </tr>\n",
       "    <tr>\n",
       "      <th>50%</th>\n",
       "      <td>2018-07-04 12:00:00</td>\n",
       "      <td>2018-07-10 12:00:00</td>\n",
       "      <td>1642.000000</td>\n",
       "      <td>4.202000</td>\n",
       "      <td>0.173000</td>\n",
       "      <td>3.679000</td>\n",
       "      <td>4.999000</td>\n",
       "      <td>0.421500</td>\n",
       "      <td>0.040000</td>\n",
       "      <td>3.756500</td>\n",
       "      <td>0.108000</td>\n",
       "      <td>3.35000</td>\n",
       "      <td>4.095500</td>\n",
       "      <td>0.029000</td>\n",
       "      <td>7.000000</td>\n",
       "      <td>2018.0</td>\n",
       "    </tr>\n",
       "    <tr>\n",
       "      <th>75%</th>\n",
       "      <td>2018-10-01 18:00:00</td>\n",
       "      <td>2018-10-07 18:00:00</td>\n",
       "      <td>1644.000000</td>\n",
       "      <td>4.336250</td>\n",
       "      <td>0.189000</td>\n",
       "      <td>3.784000</td>\n",
       "      <td>5.099000</td>\n",
       "      <td>0.470250</td>\n",
       "      <td>0.044000</td>\n",
       "      <td>3.862250</td>\n",
       "      <td>0.116250</td>\n",
       "      <td>3.53250</td>\n",
       "      <td>4.259000</td>\n",
       "      <td>0.030000</td>\n",
       "      <td>9.250000</td>\n",
       "      <td>2018.0</td>\n",
       "    </tr>\n",
       "    <tr>\n",
       "      <th>max</th>\n",
       "      <td>2018-12-30 00:00:00</td>\n",
       "      <td>2019-01-05 00:00:00</td>\n",
       "      <td>1649.000000</td>\n",
       "      <td>4.512000</td>\n",
       "      <td>0.216000</td>\n",
       "      <td>3.969000</td>\n",
       "      <td>5.299000</td>\n",
       "      <td>0.640000</td>\n",
       "      <td>0.051000</td>\n",
       "      <td>4.085000</td>\n",
       "      <td>0.144000</td>\n",
       "      <td>3.76000</td>\n",
       "      <td>4.551000</td>\n",
       "      <td>0.037000</td>\n",
       "      <td>12.000000</td>\n",
       "      <td>2018.0</td>\n",
       "    </tr>\n",
       "    <tr>\n",
       "      <th>std</th>\n",
       "      <td>NaN</td>\n",
       "      <td>NaN</td>\n",
       "      <td>213.627432</td>\n",
       "      <td>0.180672</td>\n",
       "      <td>0.017955</td>\n",
       "      <td>0.163808</td>\n",
       "      <td>0.211198</td>\n",
       "      <td>0.063271</td>\n",
       "      <td>0.003965</td>\n",
       "      <td>0.163664</td>\n",
       "      <td>0.010712</td>\n",
       "      <td>0.26684</td>\n",
       "      <td>0.195897</td>\n",
       "      <td>0.002460</td>\n",
       "      <td>3.470627</td>\n",
       "      <td>0.0</td>\n",
       "    </tr>\n",
       "  </tbody>\n",
       "</table>\n",
       "</div>"
      ],
      "text/plain": [
       "              DATA INICIAL           DATA FINAL  NÚMERO DE POSTOS PESQUISADOS  \\\n",
       "count                   52                   52                     52.000000   \n",
       "mean   2018-07-04 12:00:00  2018-07-10 12:00:00                   1610.211538   \n",
       "min    2018-01-07 00:00:00  2018-01-13 00:00:00                    102.000000   \n",
       "25%    2018-04-06 06:00:00  2018-04-12 06:00:00                   1639.000000   \n",
       "50%    2018-07-04 12:00:00  2018-07-10 12:00:00                   1642.000000   \n",
       "75%    2018-10-01 18:00:00  2018-10-07 18:00:00                   1644.000000   \n",
       "max    2018-12-30 00:00:00  2019-01-05 00:00:00                   1649.000000   \n",
       "std                    NaN                  NaN                    213.627432   \n",
       "\n",
       "       PREÇO MÉDIO REVENDA  DESVIO PADRÃO REVENDA  PREÇO MÍNIMO REVENDA  \\\n",
       "count            52.000000              52.000000             52.000000   \n",
       "mean              4.202769               0.175500              3.671500   \n",
       "min               3.970000               0.150000              3.369000   \n",
       "25%               4.008000               0.159750              3.499000   \n",
       "50%               4.202000               0.173000              3.679000   \n",
       "75%               4.336250               0.189000              3.784000   \n",
       "max               4.512000               0.216000              3.969000   \n",
       "std               0.180672               0.017955              0.163808   \n",
       "\n",
       "       PREÇO MÁXIMO REVENDA  MARGEM MÉDIA REVENDA  COEF DE VARIAÇÃO REVENDA  \\\n",
       "count             52.000000             52.000000                 52.000000   \n",
       "mean               4.975750              0.442481                  0.041750   \n",
       "min                4.499000              0.366000                  0.034000   \n",
       "25%                4.899000              0.404500                  0.039000   \n",
       "50%                4.999000              0.421500                  0.040000   \n",
       "75%                5.099000              0.470250                  0.044000   \n",
       "max                5.299000              0.640000                  0.051000   \n",
       "std                0.211198              0.063271                  0.003965   \n",
       "\n",
       "       PREÇO MÉDIO DISTRIBUIÇÃO  DESVIO PADRÃO DISTRIBUIÇÃO  \\\n",
       "count                 52.000000                   52.000000   \n",
       "mean                   3.760288                    0.109654   \n",
       "min                    3.563000                    0.087000   \n",
       "25%                    3.620250                    0.102000   \n",
       "50%                    3.756500                    0.108000   \n",
       "75%                    3.862250                    0.116250   \n",
       "max                    4.085000                    0.144000   \n",
       "std                    0.163664                    0.010712   \n",
       "\n",
       "       PREÇO MÍNIMO DISTRIBUIÇÃO  PREÇO MÁXIMO DISTRIBUIÇÃO  \\\n",
       "count                   52.00000                  52.000000   \n",
       "mean                     3.31295                   4.139454   \n",
       "min                      2.92400                   3.887500   \n",
       "25%                      2.99000                   3.965775   \n",
       "50%                      3.35000                   4.095500   \n",
       "75%                      3.53250                   4.259000   \n",
       "max                      3.76000                   4.551000   \n",
       "std                      0.26684                   0.195897   \n",
       "\n",
       "       COEF DE VARIAÇÃO DISTRIBUIÇÃO        MÊS     ANO  \n",
       "count                      52.000000  52.000000    52.0  \n",
       "mean                        0.029096   6.615385  2018.0  \n",
       "min                         0.023000   1.000000  2018.0  \n",
       "25%                         0.028000   4.000000  2018.0  \n",
       "50%                         0.029000   7.000000  2018.0  \n",
       "75%                         0.030000   9.250000  2018.0  \n",
       "max                         0.037000  12.000000  2018.0  \n",
       "std                         0.002460   3.470627     0.0  "
      ]
     },
     "execution_count": 215,
     "metadata": {},
     "output_type": "execute_result"
    }
   ],
   "source": [
    "postos_sp_gasolina_comum_2018.describe()"
   ]
  },
  {
   "cell_type": "code",
   "execution_count": 218,
   "id": "touched-irrigation",
   "metadata": {},
   "outputs": [
    {
     "data": {
      "text/html": [
       "<div>\n",
       "<style scoped>\n",
       "    .dataframe tbody tr th:only-of-type {\n",
       "        vertical-align: middle;\n",
       "    }\n",
       "\n",
       "    .dataframe tbody tr th {\n",
       "        vertical-align: top;\n",
       "    }\n",
       "\n",
       "    .dataframe thead th {\n",
       "        text-align: right;\n",
       "    }\n",
       "</style>\n",
       "<table border=\"1\" class=\"dataframe\">\n",
       "  <thead>\n",
       "    <tr style=\"text-align: right;\">\n",
       "      <th></th>\n",
       "      <th>PREÇO MÍNIMO REVENDA</th>\n",
       "    </tr>\n",
       "  </thead>\n",
       "  <tbody>\n",
       "    <tr>\n",
       "      <th>count</th>\n",
       "      <td>52.000000</td>\n",
       "    </tr>\n",
       "    <tr>\n",
       "      <th>mean</th>\n",
       "      <td>3.671500</td>\n",
       "    </tr>\n",
       "    <tr>\n",
       "      <th>std</th>\n",
       "      <td>0.163808</td>\n",
       "    </tr>\n",
       "    <tr>\n",
       "      <th>min</th>\n",
       "      <td>3.369000</td>\n",
       "    </tr>\n",
       "    <tr>\n",
       "      <th>25%</th>\n",
       "      <td>3.499000</td>\n",
       "    </tr>\n",
       "    <tr>\n",
       "      <th>50%</th>\n",
       "      <td>3.679000</td>\n",
       "    </tr>\n",
       "    <tr>\n",
       "      <th>75%</th>\n",
       "      <td>3.784000</td>\n",
       "    </tr>\n",
       "    <tr>\n",
       "      <th>max</th>\n",
       "      <td>3.969000</td>\n",
       "    </tr>\n",
       "  </tbody>\n",
       "</table>\n",
       "</div>"
      ],
      "text/plain": [
       "       PREÇO MÍNIMO REVENDA\n",
       "count             52.000000\n",
       "mean               3.671500\n",
       "std                0.163808\n",
       "min                3.369000\n",
       "25%                3.499000\n",
       "50%                3.679000\n",
       "75%                3.784000\n",
       "max                3.969000"
      ]
     },
     "execution_count": 218,
     "metadata": {},
     "output_type": "execute_result"
    }
   ],
   "source": [
    "postos_sp_gasolina_comum_2018['PREÇO MÍNIMO REVENDA'].describe().to_frame()"
   ]
  },
  {
   "cell_type": "markdown",
   "id": "freelance-python",
   "metadata": {},
   "source": [
    "### 7.3 Como os preços da Gasolina Comum e do Etanol em São Paulo variaram em 2018?"
   ]
  },
  {
   "cell_type": "code",
   "execution_count": null,
   "id": "diagnostic-replacement",
   "metadata": {},
   "outputs": [],
   "source": [
    "# FORMA 1, REDUZINDO O NUMERO DE CONSULTAS NO DATAFRAME\n",
    "\n",
    "# pegar os postos de sp\n",
    "filtro1 = dataframe_filtrado['ESTADO'] == 'SAO PAULO'\n",
    "postos_sp = dataframe_filtrado[filtro1]\n",
    "\n",
    "# pegar os postos de sp que vendam gasolina comum e etanol\n",
    "filtro2 = (postos_sp['PRODUTO'] == 'GASOLINA COMUM') | (postos_sp['PRODUTO'] == 'ETANOL HIDRATADO')\n",
    "postos_sp_gasolina_etanol = postos_sp[filtro2]\n",
    "\n",
    "# agora pegamos o ano de 2018\n",
    "filtro3 = postos_sp_gasolina_etanol['ANO'] == 2018\n",
    "postos_sp_gasolina_etanol_2018 = postos_sp_gasolina_etanol[filtro3]\n",
    "postos_sp_gasolina_etanol_2018"
   ]
  },
  {
   "cell_type": "code",
   "execution_count": 230,
   "id": "necessary-absolute",
   "metadata": {},
   "outputs": [
    {
     "data": {
      "text/html": [
       "<div>\n",
       "<style scoped>\n",
       "    .dataframe tbody tr th:only-of-type {\n",
       "        vertical-align: middle;\n",
       "    }\n",
       "\n",
       "    .dataframe tbody tr th {\n",
       "        vertical-align: top;\n",
       "    }\n",
       "\n",
       "    .dataframe thead th {\n",
       "        text-align: right;\n",
       "    }\n",
       "</style>\n",
       "<table border=\"1\" class=\"dataframe\">\n",
       "  <thead>\n",
       "    <tr style=\"text-align: right;\">\n",
       "      <th></th>\n",
       "      <th>PREÇO MÉDIO REVENDA</th>\n",
       "    </tr>\n",
       "  </thead>\n",
       "  <tbody>\n",
       "    <tr>\n",
       "      <th>count</th>\n",
       "      <td>104.000000</td>\n",
       "    </tr>\n",
       "    <tr>\n",
       "      <th>mean</th>\n",
       "      <td>3.457337</td>\n",
       "    </tr>\n",
       "    <tr>\n",
       "      <th>std</th>\n",
       "      <td>0.766239</td>\n",
       "    </tr>\n",
       "    <tr>\n",
       "      <th>min</th>\n",
       "      <td>2.393000</td>\n",
       "    </tr>\n",
       "    <tr>\n",
       "      <th>25%</th>\n",
       "      <td>2.726000</td>\n",
       "    </tr>\n",
       "    <tr>\n",
       "      <th>50%</th>\n",
       "      <td>3.431000</td>\n",
       "    </tr>\n",
       "    <tr>\n",
       "      <th>75%</th>\n",
       "      <td>4.199000</td>\n",
       "    </tr>\n",
       "    <tr>\n",
       "      <th>max</th>\n",
       "      <td>4.512000</td>\n",
       "    </tr>\n",
       "  </tbody>\n",
       "</table>\n",
       "</div>"
      ],
      "text/plain": [
       "       PREÇO MÉDIO REVENDA\n",
       "count           104.000000\n",
       "mean              3.457337\n",
       "std               0.766239\n",
       "min               2.393000\n",
       "25%               2.726000\n",
       "50%               3.431000\n",
       "75%               4.199000\n",
       "max               4.512000"
      ]
     },
     "execution_count": 230,
     "metadata": {},
     "output_type": "execute_result"
    }
   ],
   "source": [
    "postos_sp_gasolina_etanol_2018['PREÇO MÉDIO REVENDA'].describe().to_frame()"
   ]
  },
  {
   "cell_type": "code",
   "execution_count": 234,
   "id": "afed84eb",
   "metadata": {},
   "outputs": [
    {
     "data": {
      "text/html": [
       "<div>\n",
       "<style scoped>\n",
       "    .dataframe tbody tr th:only-of-type {\n",
       "        vertical-align: middle;\n",
       "    }\n",
       "\n",
       "    .dataframe tbody tr th {\n",
       "        vertical-align: top;\n",
       "    }\n",
       "\n",
       "    .dataframe thead th {\n",
       "        text-align: right;\n",
       "    }\n",
       "</style>\n",
       "<table border=\"1\" class=\"dataframe\">\n",
       "  <thead>\n",
       "    <tr style=\"text-align: right;\">\n",
       "      <th></th>\n",
       "      <th>PREÇO MÉDIO REVENDA</th>\n",
       "    </tr>\n",
       "  </thead>\n",
       "  <tbody>\n",
       "    <tr>\n",
       "      <th>count</th>\n",
       "      <td>104.000000</td>\n",
       "    </tr>\n",
       "    <tr>\n",
       "      <th>mean</th>\n",
       "      <td>3.457337</td>\n",
       "    </tr>\n",
       "    <tr>\n",
       "      <th>std</th>\n",
       "      <td>0.766239</td>\n",
       "    </tr>\n",
       "    <tr>\n",
       "      <th>min</th>\n",
       "      <td>2.393000</td>\n",
       "    </tr>\n",
       "    <tr>\n",
       "      <th>25%</th>\n",
       "      <td>2.726000</td>\n",
       "    </tr>\n",
       "    <tr>\n",
       "      <th>50%</th>\n",
       "      <td>3.431000</td>\n",
       "    </tr>\n",
       "    <tr>\n",
       "      <th>75%</th>\n",
       "      <td>4.199000</td>\n",
       "    </tr>\n",
       "    <tr>\n",
       "      <th>max</th>\n",
       "      <td>4.512000</td>\n",
       "    </tr>\n",
       "  </tbody>\n",
       "</table>\n",
       "</div>"
      ],
      "text/plain": [
       "       PREÇO MÉDIO REVENDA\n",
       "count           104.000000\n",
       "mean              3.457337\n",
       "std               0.766239\n",
       "min               2.393000\n",
       "25%               2.726000\n",
       "50%               3.431000\n",
       "75%               4.199000\n",
       "max               4.512000"
      ]
     },
     "execution_count": 234,
     "metadata": {},
     "output_type": "execute_result"
    }
   ],
   "source": [
    "# FORMA 3 DE FAZER ISSO, USANDO QUERY (muito mais simples, porém pode ser mais lento, e temos que nos atentar as aspas)\n",
    "postos_sp_gasolina_etanol_2018 = dataframe_filtrado.query('ESTADO == \"SAO PAULO\" and (PRODUTO == \"GASOLINA COMUM\" or PRODUTO == \"ETANOL HIDRATADO\") and ANO == 2018')\n",
    "postos_sp_gasolina_etanol_2018\n",
    "postos_sp_gasolina_etanol_2018['PREÇO MÉDIO REVENDA'].describe().to_frame()"
   ]
  },
  {
   "cell_type": "code",
   "execution_count": 236,
   "id": "07c615af",
   "metadata": {},
   "outputs": [
    {
     "data": {
      "text/html": [
       "<div>\n",
       "<style scoped>\n",
       "    .dataframe tbody tr th:only-of-type {\n",
       "        vertical-align: middle;\n",
       "    }\n",
       "\n",
       "    .dataframe tbody tr th {\n",
       "        vertical-align: top;\n",
       "    }\n",
       "\n",
       "    .dataframe thead th {\n",
       "        text-align: right;\n",
       "    }\n",
       "</style>\n",
       "<table border=\"1\" class=\"dataframe\">\n",
       "  <thead>\n",
       "    <tr style=\"text-align: right;\">\n",
       "      <th></th>\n",
       "      <th>PREÇO MÉDIO REVENDA</th>\n",
       "    </tr>\n",
       "  </thead>\n",
       "  <tbody>\n",
       "    <tr>\n",
       "      <th>count</th>\n",
       "      <td>104.000000</td>\n",
       "    </tr>\n",
       "    <tr>\n",
       "      <th>mean</th>\n",
       "      <td>3.457337</td>\n",
       "    </tr>\n",
       "    <tr>\n",
       "      <th>std</th>\n",
       "      <td>0.766239</td>\n",
       "    </tr>\n",
       "    <tr>\n",
       "      <th>min</th>\n",
       "      <td>2.393000</td>\n",
       "    </tr>\n",
       "    <tr>\n",
       "      <th>25%</th>\n",
       "      <td>2.726000</td>\n",
       "    </tr>\n",
       "    <tr>\n",
       "      <th>50%</th>\n",
       "      <td>3.431000</td>\n",
       "    </tr>\n",
       "    <tr>\n",
       "      <th>75%</th>\n",
       "      <td>4.199000</td>\n",
       "    </tr>\n",
       "    <tr>\n",
       "      <th>max</th>\n",
       "      <td>4.512000</td>\n",
       "    </tr>\n",
       "  </tbody>\n",
       "</table>\n",
       "</div>"
      ],
      "text/plain": [
       "       PREÇO MÉDIO REVENDA\n",
       "count           104.000000\n",
       "mean              3.457337\n",
       "std               0.766239\n",
       "min               2.393000\n",
       "25%               2.726000\n",
       "50%               3.431000\n",
       "75%               4.199000\n",
       "max               4.512000"
      ]
     },
     "execution_count": 236,
     "metadata": {},
     "output_type": "execute_result"
    }
   ],
   "source": [
    "# FORMA 3 DE FAZER ISSO, USANDO QUERY (muito mais simples, porém pode ser mais lento, e temos que nos atentar as aspas)\n",
    "postos_sp_gasolina_etanol_2018 = dataframe_filtrado.query('PRODUTO in [\"GASOLINA COMUM\", \"ETANOL HIDRATADO\"] and ESTADO == \"SAO PAULO\" and ANO == 2018')\n",
    "postos_sp_gasolina_etanol_2018\n",
    "postos_sp_gasolina_etanol_2018['PREÇO MÉDIO REVENDA'].describe().to_frame()"
   ]
  },
  {
   "cell_type": "code",
   "execution_count": 246,
   "id": "765de727",
   "metadata": {},
   "outputs": [
    {
     "data": {
      "text/html": [
       "<div>\n",
       "<style scoped>\n",
       "    .dataframe tbody tr th:only-of-type {\n",
       "        vertical-align: middle;\n",
       "    }\n",
       "\n",
       "    .dataframe tbody tr th {\n",
       "        vertical-align: top;\n",
       "    }\n",
       "\n",
       "    .dataframe thead th {\n",
       "        text-align: right;\n",
       "    }\n",
       "</style>\n",
       "<table border=\"1\" class=\"dataframe\">\n",
       "  <thead>\n",
       "    <tr style=\"text-align: right;\">\n",
       "      <th></th>\n",
       "      <th>count</th>\n",
       "      <th>mean</th>\n",
       "      <th>std</th>\n",
       "      <th>min</th>\n",
       "      <th>25%</th>\n",
       "      <th>50%</th>\n",
       "      <th>75%</th>\n",
       "      <th>max</th>\n",
       "    </tr>\n",
       "    <tr>\n",
       "      <th>PRODUTO</th>\n",
       "      <th></th>\n",
       "      <th></th>\n",
       "      <th></th>\n",
       "      <th></th>\n",
       "      <th></th>\n",
       "      <th></th>\n",
       "      <th></th>\n",
       "      <th></th>\n",
       "    </tr>\n",
       "  </thead>\n",
       "  <tbody>\n",
       "    <tr>\n",
       "      <th>ETANOL HIDRATADO</th>\n",
       "      <td>52.0</td>\n",
       "      <td>2.711904</td>\n",
       "      <td>0.141365</td>\n",
       "      <td>2.393</td>\n",
       "      <td>2.6315</td>\n",
       "      <td>2.720</td>\n",
       "      <td>2.83825</td>\n",
       "      <td>2.892</td>\n",
       "    </tr>\n",
       "    <tr>\n",
       "      <th>GASOLINA COMUM</th>\n",
       "      <td>52.0</td>\n",
       "      <td>4.202769</td>\n",
       "      <td>0.180672</td>\n",
       "      <td>3.970</td>\n",
       "      <td>4.0080</td>\n",
       "      <td>4.202</td>\n",
       "      <td>4.33625</td>\n",
       "      <td>4.512</td>\n",
       "    </tr>\n",
       "  </tbody>\n",
       "</table>\n",
       "</div>"
      ],
      "text/plain": [
       "                  count      mean       std    min     25%    50%      75%  \\\n",
       "PRODUTO                                                                      \n",
       "ETANOL HIDRATADO   52.0  2.711904  0.141365  2.393  2.6315  2.720  2.83825   \n",
       "GASOLINA COMUM     52.0  4.202769  0.180672  3.970  4.0080  4.202  4.33625   \n",
       "\n",
       "                    max  \n",
       "PRODUTO                  \n",
       "ETANOL HIDRATADO  2.892  \n",
       "GASOLINA COMUM    4.512  "
      ]
     },
     "execution_count": 246,
     "metadata": {},
     "output_type": "execute_result"
    }
   ],
   "source": [
    "grupos = postos_sp_gasolina_etanol_2018.groupby('PRODUTO')\n",
    "\n",
    "# PEGA SOMENTE A COLUNA DE PREÇO MÉDIO DE REVENDA E ANALISE EM CIMA DELA\n",
    "grupos['PREÇO MÉDIO REVENDA'].describe()\n"
   ]
  },
  {
   "cell_type": "markdown",
   "id": "phantom-focus",
   "metadata": {},
   "source": [
    "<h2>8. Assuntos para continuar os estudos</h2>\n",
    "<hr/>\n",
    "\n",
    "- join\n",
    "- concat\n",
    "- plot\n",
    "- data cleaning"
   ]
  }
 ],
 "metadata": {
  "kernelspec": {
   "display_name": "env",
   "language": "python",
   "name": "python3"
  },
  "language_info": {
   "codemirror_mode": {
    "name": "ipython",
    "version": 3
   },
   "file_extension": ".py",
   "mimetype": "text/x-python",
   "name": "python",
   "nbconvert_exporter": "python",
   "pygments_lexer": "ipython3",
   "version": "3.12.5"
  }
 },
 "nbformat": 4,
 "nbformat_minor": 5
}
